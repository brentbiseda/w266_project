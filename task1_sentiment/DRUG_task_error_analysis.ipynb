{
 "cells": [
  {
   "cell_type": "code",
   "execution_count": 89,
   "metadata": {},
   "outputs": [],
   "source": [
    "import pandas as pd\n",
    "from sklearn.metrics import accuracy_score"
   ]
  },
  {
   "cell_type": "code",
   "execution_count": 90,
   "metadata": {},
   "outputs": [],
   "source": [
    "results = pd.read_csv(\"all_predictions.csv\")"
   ]
  },
  {
   "cell_type": "code",
   "execution_count": 91,
   "metadata": {},
   "outputs": [
    {
     "data": {
      "text/plain": [
       "Index(['Unnamed: 0', 'Text', 'Label', 'bert_cased_finetuned_-1',\n",
       "       'bert_cased_finetuned_0', 'bert_cased_finetuned_1',\n",
       "       'bert_cased_finetuned_pred',\n",
       "       'bert_pretrain_output_all_notes_150000_finetuned_-1',\n",
       "       'bert_pretrain_output_all_notes_150000_finetuned_0',\n",
       "       'bert_pretrain_output_all_notes_150000_finetuned_1',\n",
       "       'bert_pretrain_output_all_notes_150000_finetuned_pred',\n",
       "       'bert_pretrain_output_disch_100000_finetuned_-1',\n",
       "       'bert_pretrain_output_disch_100000_finetuned_0',\n",
       "       'bert_pretrain_output_disch_100000_finetuned_1',\n",
       "       'bert_pretrain_output_disch_100000_finetuned_pred',\n",
       "       'bert_uncased_finetuned_-1', 'bert_uncased_finetuned_0',\n",
       "       'bert_uncased_finetuned_1', 'bert_uncased_finetuned_pred',\n",
       "       'biobert_1.0_finetuned_-1', 'biobert_1.0_finetuned_0',\n",
       "       'biobert_1.0_finetuned_1', 'biobert_1.0_finetuned_pred',\n",
       "       'biobert_1.1_finetuned_-1', 'biobert_1.1_finetuned_0',\n",
       "       'biobert_1.1_finetuned_1', 'biobert_1.1_finetuned_pred',\n",
       "       'biobert_pretrain_output_all_notes_150000_finetuned_-1',\n",
       "       'biobert_pretrain_output_all_notes_150000_finetuned_0',\n",
       "       'biobert_pretrain_output_all_notes_150000_finetuned_1',\n",
       "       'biobert_pretrain_output_all_notes_150000_finetuned_pred',\n",
       "       'biobert_pretrain_output_disch_100000_finetuned_-1',\n",
       "       'biobert_pretrain_output_disch_100000_finetuned_0',\n",
       "       'biobert_pretrain_output_disch_100000_finetuned_1',\n",
       "       'biobert_pretrain_output_disch_100000_finetuned_pred', 'elmo_-1',\n",
       "       'elmo_0', 'elmo_1', 'elmo_pred', 'bert_logistic_-1', 'bert_logistic_0',\n",
       "       'bert_logistic_1', 'bert_logistic_pred'],\n",
       "      dtype='object')"
      ]
     },
     "execution_count": 91,
     "metadata": {},
     "output_type": "execute_result"
    }
   ],
   "source": [
    "results.columns"
   ]
  },
  {
   "cell_type": "code",
   "execution_count": 92,
   "metadata": {},
   "outputs": [
    {
     "data": {
      "text/plain": [
       "Index(['Unnamed: 0', 'drugName', 'condition', 'review', 'rating', 'date',\n",
       "       'usefulCount'],\n",
       "      dtype='object')"
      ]
     },
     "execution_count": 92,
     "metadata": {},
     "output_type": "execute_result"
    }
   ],
   "source": [
    "test_data = pd.read_csv(\"drugsComTest_raw.tsv\", sep=\"\\t\")\n",
    "test_data.columns"
   ]
  },
  {
   "cell_type": "code",
   "execution_count": 93,
   "metadata": {},
   "outputs": [],
   "source": [
    "cb_all_results = results[[\"Text\", \"Label\", 'bert_pretrain_output_disch_100000_finetuned_-1', 'bert_pretrain_output_disch_100000_finetuned_1', \"bert_pretrain_output_disch_100000_finetuned_pred\"]]\n",
    "cb_all_results.columns = [\"Text\", \"Label\", \"C_Disch_-1\", \"C_Disch_1\", \"C_Disch_Pred\"]"
   ]
  },
  {
   "cell_type": "code",
   "execution_count": 94,
   "metadata": {},
   "outputs": [],
   "source": [
    "cb_all_results = pd.concat([cb_all_results, test_data[[\"drugName\",\"condition\",\"date\",\"usefulCount\",\"rating\"]]], axis=1)"
   ]
  },
  {
   "cell_type": "code",
   "execution_count": 95,
   "metadata": {},
   "outputs": [
    {
     "data": {
      "text/html": [
       "<div>\n",
       "<style scoped>\n",
       "    .dataframe tbody tr th:only-of-type {\n",
       "        vertical-align: middle;\n",
       "    }\n",
       "\n",
       "    .dataframe tbody tr th {\n",
       "        vertical-align: top;\n",
       "    }\n",
       "\n",
       "    .dataframe thead th {\n",
       "        text-align: right;\n",
       "    }\n",
       "</style>\n",
       "<table border=\"1\" class=\"dataframe\">\n",
       "  <thead>\n",
       "    <tr style=\"text-align: right;\">\n",
       "      <th></th>\n",
       "      <th>Text</th>\n",
       "      <th>Label</th>\n",
       "      <th>C_Disch_-1</th>\n",
       "      <th>C_Disch_1</th>\n",
       "      <th>C_Disch_Pred</th>\n",
       "      <th>drugName</th>\n",
       "      <th>condition</th>\n",
       "      <th>date</th>\n",
       "      <th>usefulCount</th>\n",
       "      <th>rating</th>\n",
       "    </tr>\n",
       "  </thead>\n",
       "  <tbody>\n",
       "    <tr>\n",
       "      <th>0</th>\n",
       "      <td>I&amp;#039;ve tried a few antidepressants over the...</td>\n",
       "      <td>1</td>\n",
       "      <td>0.000106</td>\n",
       "      <td>0.996484</td>\n",
       "      <td>1</td>\n",
       "      <td>Mirtazapine</td>\n",
       "      <td>Depression</td>\n",
       "      <td>February 28, 2012</td>\n",
       "      <td>22</td>\n",
       "      <td>10.0</td>\n",
       "    </tr>\n",
       "    <tr>\n",
       "      <th>1</th>\n",
       "      <td>My son has Crohn&amp;#039;s disease and has done v...</td>\n",
       "      <td>1</td>\n",
       "      <td>0.000061</td>\n",
       "      <td>0.999480</td>\n",
       "      <td>1</td>\n",
       "      <td>Mesalamine</td>\n",
       "      <td>Crohn's Disease, Maintenance</td>\n",
       "      <td>May 17, 2009</td>\n",
       "      <td>17</td>\n",
       "      <td>8.0</td>\n",
       "    </tr>\n",
       "    <tr>\n",
       "      <th>2</th>\n",
       "      <td>Quick reduction of symptoms</td>\n",
       "      <td>1</td>\n",
       "      <td>0.000057</td>\n",
       "      <td>0.999158</td>\n",
       "      <td>1</td>\n",
       "      <td>Bactrim</td>\n",
       "      <td>Urinary Tract Infection</td>\n",
       "      <td>September 29, 2017</td>\n",
       "      <td>3</td>\n",
       "      <td>9.0</td>\n",
       "    </tr>\n",
       "    <tr>\n",
       "      <th>3</th>\n",
       "      <td>Contrave combines drugs that were used for alc...</td>\n",
       "      <td>1</td>\n",
       "      <td>0.000066</td>\n",
       "      <td>0.999632</td>\n",
       "      <td>1</td>\n",
       "      <td>Contrave</td>\n",
       "      <td>Weight Loss</td>\n",
       "      <td>March 5, 2017</td>\n",
       "      <td>35</td>\n",
       "      <td>9.0</td>\n",
       "    </tr>\n",
       "    <tr>\n",
       "      <th>4</th>\n",
       "      <td>I have been on this birth control for one cycl...</td>\n",
       "      <td>1</td>\n",
       "      <td>0.000056</td>\n",
       "      <td>0.999118</td>\n",
       "      <td>1</td>\n",
       "      <td>Cyclafem 1 / 35</td>\n",
       "      <td>Birth Control</td>\n",
       "      <td>October 22, 2015</td>\n",
       "      <td>4</td>\n",
       "      <td>9.0</td>\n",
       "    </tr>\n",
       "  </tbody>\n",
       "</table>\n",
       "</div>"
      ],
      "text/plain": [
       "                                                Text  Label  C_Disch_-1  \\\n",
       "0  I&#039;ve tried a few antidepressants over the...      1    0.000106   \n",
       "1  My son has Crohn&#039;s disease and has done v...      1    0.000061   \n",
       "2                        Quick reduction of symptoms      1    0.000057   \n",
       "3  Contrave combines drugs that were used for alc...      1    0.000066   \n",
       "4  I have been on this birth control for one cycl...      1    0.000056   \n",
       "\n",
       "   C_Disch_1  C_Disch_Pred         drugName                     condition  \\\n",
       "0   0.996484             1      Mirtazapine                    Depression   \n",
       "1   0.999480             1       Mesalamine  Crohn's Disease, Maintenance   \n",
       "2   0.999158             1          Bactrim       Urinary Tract Infection   \n",
       "3   0.999632             1         Contrave                   Weight Loss   \n",
       "4   0.999118             1  Cyclafem 1 / 35                 Birth Control   \n",
       "\n",
       "                 date  usefulCount  rating  \n",
       "0   February 28, 2012           22    10.0  \n",
       "1        May 17, 2009           17     8.0  \n",
       "2  September 29, 2017            3     9.0  \n",
       "3       March 5, 2017           35     9.0  \n",
       "4    October 22, 2015            4     9.0  "
      ]
     },
     "execution_count": 95,
     "metadata": {},
     "output_type": "execute_result"
    }
   ],
   "source": [
    "cb_all_results.head()"
   ]
  },
  {
   "cell_type": "code",
   "execution_count": 96,
   "metadata": {},
   "outputs": [
    {
     "data": {
      "text/plain": [
       "0.8887958933154781"
      ]
     },
     "execution_count": 96,
     "metadata": {},
     "output_type": "execute_result"
    }
   ],
   "source": [
    "accuracy_score(cb_all_results[\"Label\"], cb_all_results[\"C_Disch_Pred\"])"
   ]
  },
  {
   "cell_type": "code",
   "execution_count": 104,
   "metadata": {},
   "outputs": [
    {
     "data": {
      "text/plain": [
       "53766"
      ]
     },
     "execution_count": 104,
     "metadata": {},
     "output_type": "execute_result"
    }
   ],
   "source": [
    "cb_all_results.shape[0]"
   ]
  },
  {
   "cell_type": "code",
   "execution_count": 98,
   "metadata": {},
   "outputs": [
    {
     "data": {
      "text/plain": [
       "5979"
      ]
     },
     "execution_count": 98,
     "metadata": {},
     "output_type": "execute_result"
    }
   ],
   "source": [
    "misclassified = cb_all_results[cb_all_results[\"Label\"]!=cb_all_results[\"C_Disch_Pred\"]]\n",
    "misclassified.shape[0]"
   ]
  },
  {
   "cell_type": "code",
   "execution_count": 107,
   "metadata": {},
   "outputs": [
    {
     "data": {
      "text/plain": [
       "0.8784077604950661"
      ]
     },
     "execution_count": 107,
     "metadata": {},
     "output_type": "execute_result"
    }
   ],
   "source": [
    "1-(727/5979)"
   ]
  },
  {
   "cell_type": "code",
   "execution_count": 108,
   "metadata": {},
   "outputs": [
    {
     "data": {
      "text/plain": [
       "5252"
      ]
     },
     "execution_count": 108,
     "metadata": {},
     "output_type": "execute_result"
    }
   ],
   "source": [
    "5979-727"
   ]
  },
  {
   "cell_type": "code",
   "execution_count": 99,
   "metadata": {},
   "outputs": [
    {
     "data": {
      "text/plain": [
       "390"
      ]
     },
     "execution_count": 99,
     "metadata": {},
     "output_type": "execute_result"
    }
   ],
   "source": [
    "misclassified_as_pos = cb_all_results[(cb_all_results[\"Label\"]==-1)&(cb_all_results[\"C_Disch_Pred\"]==1)]\n",
    "misclassified_as_pos.shape[0]"
   ]
  },
  {
   "cell_type": "code",
   "execution_count": 100,
   "metadata": {},
   "outputs": [],
   "source": [
    "misclassified_as_pos_sample = misclassified_as_pos.sample(100, axis=0, random_state=0)\n",
    "misclassified_as_pos_sample.to_csv(\"sentiment_misclassified_as_pos_sample.csv\")"
   ]
  },
  {
   "cell_type": "code",
   "execution_count": 102,
   "metadata": {},
   "outputs": [
    {
     "data": {
      "text/plain": [
       "337"
      ]
     },
     "execution_count": 102,
     "metadata": {},
     "output_type": "execute_result"
    }
   ],
   "source": [
    "misclassified_as_neg = cb_all_results[(cb_all_results[\"Label\"]==1)&(cb_all_results[\"C_Disch_Pred\"]==-1)]\n",
    "misclassified_as_neg.shape[0]"
   ]
  },
  {
   "cell_type": "code",
   "execution_count": 103,
   "metadata": {},
   "outputs": [],
   "source": [
    "misclassified_as_neg_sample = misclassified_as_neg.sample(100, axis=0, random_state=0)\n",
    "misclassified_as_neg_sample.to_csv(\"sentiment_misclassified_as_neg_sample.csv\")"
   ]
  },
  {
   "cell_type": "code",
   "execution_count": 88,
   "metadata": {
    "scrolled": false
   },
   "outputs": [],
   "source": [
    "#for x in misclassified_as_pos.iterrows():\n",
    "#    print(x[0])\n",
    "#    print(\"drugname:\", x[1][\"drugName\"])\n",
    "#    print(\"condition:\", x[1][\"condition\"])\n",
    "#    print(\"useful count:\", x[1][\"usefulCount\"])\n",
    "#    print(\"positive prob:\", x[1][\"CB_All_1\"])\n",
    "#    print(x[1][\"Text\"])\n",
    "#    print(\"\")"
   ]
  },
  {
   "cell_type": "code",
   "execution_count": 123,
   "metadata": {},
   "outputs": [
    {
     "data": {
      "text/plain": [
       "another drug mentioned                0.40\n",
       "mixed sentiment                       0.34\n",
       "wrong prediction                      0.14\n",
       "mislabeled by reviewer                0.06\n",
       "stopping drug reduced side effects    0.04\n",
       "no pertinent review content           0.02\n",
       "Name: error_analysis, dtype: float64"
      ]
     },
     "execution_count": 123,
     "metadata": {},
     "output_type": "execute_result"
    }
   ],
   "source": [
    "misclassified_as_pos_sample_analyzed = pd.read_csv(\"sentiment_misclassified_as_pos_sample 50analyzed.csv\")\n",
    "misclassified_as_pos_sample_analyzed[\"error_analysis\"].value_counts()/misclassified_as_pos_sample_analyzed[\"error_analysis\"].value_counts().sum()"
   ]
  },
  {
   "cell_type": "code",
   "execution_count": 124,
   "metadata": {},
   "outputs": [
    {
     "data": {
      "text/plain": [
       "negative side effects          0.62\n",
       "another drug mentioned         0.22\n",
       "original symptoms mentioned    0.12\n",
       "cost                           0.02\n",
       "could be improved              0.02\n",
       "Name: error_analysis, dtype: float64"
      ]
     },
     "execution_count": 124,
     "metadata": {},
     "output_type": "execute_result"
    }
   ],
   "source": [
    "misclassified_as_neg_sample_analyzed = pd.read_csv(\"sentiment_misclassified_as_neg_sample 50analyzed.csv\")\n",
    "misclassified_as_neg_sample_analyzed[\"error_analysis\"].value_counts()/misclassified_as_neg_sample_analyzed[\"error_analysis\"].value_counts().sum()"
   ]
  },
  {
   "cell_type": "code",
   "execution_count": 126,
   "metadata": {},
   "outputs": [
    {
     "data": {
      "text/plain": [
       "0.05636394045827062"
      ]
     },
     "execution_count": 126,
     "metadata": {},
     "output_type": "execute_result"
    }
   ],
   "source": [
    "337/5979"
   ]
  }
 ],
 "metadata": {
  "kernelspec": {
   "display_name": "Python 3",
   "language": "python",
   "name": "python3"
  },
  "language_info": {
   "codemirror_mode": {
    "name": "ipython",
    "version": 3
   },
   "file_extension": ".py",
   "mimetype": "text/x-python",
   "name": "python",
   "nbconvert_exporter": "python",
   "pygments_lexer": "ipython3",
   "version": "3.6.4"
  }
 },
 "nbformat": 4,
 "nbformat_minor": 2
}
