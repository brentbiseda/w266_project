{
 "cells": [
  {
   "cell_type": "markdown",
   "metadata": {},
   "source": [
    "# Based on Hugging Face Transformers\n",
    "\n",
    "https://github.com/huggingface/transformers"
   ]
  },
  {
   "cell_type": "code",
   "execution_count": 1,
   "metadata": {},
   "outputs": [],
   "source": [
    "#!pip install transformers\n",
    "#!pip install keras\n",
    "#!pip install tensorflow==1.15"
   ]
  },
  {
   "cell_type": "markdown",
   "metadata": {},
   "source": [
    "# Preprocessing"
   ]
  },
  {
   "cell_type": "code",
   "execution_count": 2,
   "metadata": {},
   "outputs": [
    {
     "name": "stderr",
     "output_type": "stream",
     "text": [
      "Using TensorFlow backend.\n"
     ]
    }
   ],
   "source": [
    "import transformers as ppb\n",
    "import numpy as np\n",
    "import pandas as pd\n",
    "from sklearn.preprocessing import LabelEncoder\n",
    "from keras.utils.np_utils import to_categorical\n",
    "import torch\n",
    "import math"
   ]
  },
  {
   "cell_type": "code",
   "execution_count": 3,
   "metadata": {},
   "outputs": [],
   "source": [
    "# For DistilBERT:\n",
    "#model_class, tokenizer_class, pretrained_weights = (ppb.DistilBertModel, ppb.DistilBertTokenizer, 'distilbert-base-cased')\n",
    "\n",
    "## Want BERT instead of distilBERT? Uncomment the following line:\n",
    "model_class, tokenizer_class, pretrained_weights = (ppb.BertModel, ppb.BertTokenizer, 'bert-base-cased')\n",
    "\n",
    "# Load pretrained model/tokenizer\n",
    "tokenizer = tokenizer_class.from_pretrained(pretrained_weights)\n",
    "model = model_class.from_pretrained(pretrained_weights)"
   ]
  },
  {
   "cell_type": "code",
   "execution_count": 4,
   "metadata": {},
   "outputs": [],
   "source": [
    "df = pd.read_csv(\"../datasets/NER/train.tsv\", sep=\"\\t\", header=None)\n",
    "df = df.replace(np.nan, '', regex=True)\n",
    "test_df = pd.read_csv(\"../datasets/NER/test.tsv\", sep=\"\\t\", header=None)\n",
    "test_df = test_df.replace(np.nan, '', regex=True)"
   ]
  },
  {
   "cell_type": "code",
   "execution_count": 5,
   "metadata": {},
   "outputs": [],
   "source": [
    "# Truncate long sentences to 128 tokens\n",
    "X = df[0].apply((lambda x: tokenizer.encode(x, add_special_tokens=True, max_length=128)))\n",
    "y = np.array(df[1])\n",
    "y = ['missing' if x is np.nan else x for x in y]\n",
    "del df\n",
    "\n",
    "X_test = test_df[0].apply((lambda x: tokenizer.encode(x, add_special_tokens=True, max_length=128)))\n",
    "y_test = np.array(test_df[1])\n",
    "y_test = ['missing' if x is np.nan else x for x in y_test]\n",
    "del test_df"
   ]
  },
  {
   "cell_type": "code",
   "execution_count": 6,
   "metadata": {},
   "outputs": [],
   "source": [
    "# One hot Encoding of y\n",
    "encoder = LabelEncoder()\n",
    "encoder.fit(y)\n",
    "\n",
    "y = encoder.transform(y)\n",
    "y = to_categorical(y)\n",
    "\n",
    "# One hot Encoding of y test\n",
    "y_oh = encoder.transform(y_test)\n",
    "y_oh = to_categorical(y_oh)"
   ]
  },
  {
   "cell_type": "code",
   "execution_count": 7,
   "metadata": {},
   "outputs": [],
   "source": [
    "def GetEmbeddings(tokenizedBatch):\n",
    "    max_len = 0\n",
    "    for i in tokenizedBatch.values:\n",
    "        if len(i) > max_len:\n",
    "            max_len = len(i)\n",
    "\n",
    "    padded = np.array([i + [0]*(max_len-len(i)) for i in tokenizedBatch.values])\n",
    "    \n",
    "    attention_mask = np.where(padded != 0, 1, 0)\n",
    "    \n",
    "    input_ids = torch.tensor(padded).to(torch.long)  \n",
    "    attention_mask = torch.tensor(attention_mask)\n",
    "\n",
    "    with torch.no_grad():\n",
    "        last_hidden_states = model(input_ids, attention_mask=attention_mask)\n",
    "    \n",
    "    features = last_hidden_states[0][:,0,:].numpy()\n",
    "    return features"
   ]
  },
  {
   "cell_type": "code",
   "execution_count": 8,
   "metadata": {
    "scrolled": false
   },
   "outputs": [
    {
     "name": "stdout",
     "output_type": "stream",
     "text": [
      "Generating Embeddings for Batch: 1 of 4\n",
      "Generating Embeddings for Batch: 2 of 4\n",
      "Generating Embeddings for Batch: 3 of 4\n",
      "Generating Embeddings for Batch: 4 of 4\n",
      "Generating Test Embeddings for Batch: 1 of 2\n",
      "Generating Test Embeddings for Batch: 2 of 2\n"
     ]
    }
   ],
   "source": [
    "BATCH_SIZE = 5000\n",
    "all_embeddings = []\n",
    "all_embeddings_test = []\n",
    "\n",
    "# Process Training Set Embeddings\n",
    "batches = math.ceil(X.shape[0] / BATCH_SIZE)\n",
    "\n",
    "for i in range(1, batches+1):\n",
    "    print(\"Generating Embeddings for Batch:\",i,\"of\", batches)\n",
    "    batchEmbeddings = GetEmbeddings(X[(i-1)*BATCH_SIZE:i*BATCH_SIZE])\n",
    "    all_embeddings.append(batchEmbeddings)\n",
    "\n",
    "# Process Test Set Embeddings\n",
    "batches = math.ceil(X_test.shape[0] / BATCH_SIZE)\n",
    "\n",
    "for i in range(1, batches+1):\n",
    "    print(\"Generating Test Embeddings for Batch:\",i,\"of\", batches)\n",
    "    batchEmbeddings = GetEmbeddings(X_test[(i-1)*BATCH_SIZE:i*BATCH_SIZE])\n",
    "    all_embeddings_test.append(batchEmbeddings)"
   ]
  },
  {
   "cell_type": "code",
   "execution_count": 9,
   "metadata": {},
   "outputs": [],
   "source": [
    "all_embeddings = np.concatenate(all_embeddings, axis=0)\n",
    "all_embeddings_test = np.concatenate(all_embeddings_test, axis=0)"
   ]
  },
  {
   "cell_type": "code",
   "execution_count": 10,
   "metadata": {},
   "outputs": [],
   "source": [
    "np.save('../binary/bert_NER_embeddings_twitter.npy', all_embeddings)\n",
    "np.save('../binary/y_NER_twitter.npy', y)\n",
    "np.save('../binary/bert_NER_embeddings_test_twitter.npy', all_embeddings_test)\n",
    "np.save('../binary/y_test_NER_twitter.npy', y_oh)"
   ]
  },
  {
   "cell_type": "markdown",
   "metadata": {},
   "source": [
    "# Train Model"
   ]
  },
  {
   "cell_type": "code",
   "execution_count": 11,
   "metadata": {},
   "outputs": [],
   "source": [
    "#import tensorflow.compat.v1 as tf\n",
    "#tf.disable_v2_behavior()\n",
    "\n",
    "import tensorflow as tf\n",
    "import tensorflow.keras as keras \n",
    "from keras.layers import Input, Lambda, Dense\n",
    "from keras.models import Model\n",
    "from keras.callbacks import EarlyStopping\n",
    "import keras.backend as K\n",
    "from keras.optimizers import adam, sgd"
   ]
  },
  {
   "cell_type": "code",
   "execution_count": 12,
   "metadata": {},
   "outputs": [],
   "source": [
    "all_embeddings = np.load('../binary/bert_NER_embeddings_twitter.npy')\n",
    "y = np.load('../binary/y_NER_twitter.npy')\n",
    "all_embeddings_test = np.load('../binary/bert_NER_embeddings_test_twitter.npy')\n",
    "y_oh = np.load('../binary/y_test_NER_twitter.npy')"
   ]
  },
  {
   "cell_type": "code",
   "execution_count": 13,
   "metadata": {},
   "outputs": [
    {
     "name": "stdout",
     "output_type": "stream",
     "text": [
      "WARNING:tensorflow:From C:\\Users\\bisedab\\AppData\\Local\\Continuum\\anaconda3\\lib\\site-packages\\tensorflow\\python\\framework\\op_def_library.py:263: colocate_with (from tensorflow.python.framework.ops) is deprecated and will be removed in a future version.\n",
      "Instructions for updating:\n",
      "Colocations handled automatically by placer.\n"
     ]
    }
   ],
   "source": [
    "#sgd = sgd(lr=0.01, decay=1e-6, momentum=0.9, nesterov=True)\n",
    "optim = adam(lr=0.0003, beta_1=0.9, beta_2=0.999, amsgrad=False)"
   ]
  },
  {
   "cell_type": "code",
   "execution_count": 14,
   "metadata": {},
   "outputs": [],
   "source": [
    "def build_model(): \n",
    "    embedding = Input(shape=(768,), dtype=\"float\")\n",
    "    dense1 = Dense(1000, activation='relu', kernel_regularizer=keras.regularizers.l2(0.001))(embedding)\n",
    "    dense2 = Dense(1000, activation='relu', kernel_regularizer=keras.regularizers.l2(0.001))(dense1)\n",
    "    dense3 = Dense(1000, activation='relu', kernel_regularizer=keras.regularizers.l2(0.001))(dense2)\n",
    "    dense4 = Dense(1000, activation='relu', kernel_regularizer=keras.regularizers.l2(0.001))(dense3)\n",
    "    dense5 = Dense(1000, activation='relu', kernel_regularizer=keras.regularizers.l2(0.001))(dense4)\n",
    "    dense6 = Dense(1000, activation='relu', kernel_regularizer=keras.regularizers.l2(0.001))(dense5)\n",
    "    dense7 = Dense(1000, activation='relu', kernel_regularizer=keras.regularizers.l2(0.001))(dense6)\n",
    "    dense8 = Dense(1000, activation='relu', kernel_regularizer=keras.regularizers.l2(0.001))(dense7)\n",
    "    dense9 = Dense(1000, activation='relu', kernel_regularizer=keras.regularizers.l2(0.001))(dense8)\n",
    "    dense10 = Dense(1000, activation='relu', kernel_regularizer=keras.regularizers.l2(0.001))(dense9)\n",
    "    pred = Dense(4, activation='sigmoid')(dense9)\n",
    "    model = Model(inputs=[embedding], outputs=pred)\n",
    "    model.compile(loss='categorical_crossentropy', optimizer=optim, metrics=['accuracy'], )\n",
    "    return model"
   ]
  },
  {
   "cell_type": "code",
   "execution_count": 15,
   "metadata": {},
   "outputs": [],
   "source": [
    "model_bert = build_model()"
   ]
  },
  {
   "cell_type": "code",
   "execution_count": 16,
   "metadata": {},
   "outputs": [
    {
     "name": "stdout",
     "output_type": "stream",
     "text": [
      "_________________________________________________________________\n",
      "Layer (type)                 Output Shape              Param #   \n",
      "=================================================================\n",
      "input_1 (InputLayer)         (None, 768)               0         \n",
      "_________________________________________________________________\n",
      "dense_1 (Dense)              (None, 1000)              769000    \n",
      "_________________________________________________________________\n",
      "dense_2 (Dense)              (None, 1000)              1001000   \n",
      "_________________________________________________________________\n",
      "dense_3 (Dense)              (None, 1000)              1001000   \n",
      "_________________________________________________________________\n",
      "dense_4 (Dense)              (None, 1000)              1001000   \n",
      "_________________________________________________________________\n",
      "dense_5 (Dense)              (None, 1000)              1001000   \n",
      "_________________________________________________________________\n",
      "dense_6 (Dense)              (None, 1000)              1001000   \n",
      "_________________________________________________________________\n",
      "dense_7 (Dense)              (None, 1000)              1001000   \n",
      "_________________________________________________________________\n",
      "dense_8 (Dense)              (None, 1000)              1001000   \n",
      "_________________________________________________________________\n",
      "dense_9 (Dense)              (None, 1000)              1001000   \n",
      "_________________________________________________________________\n",
      "dense_11 (Dense)             (None, 4)                 4004      \n",
      "=================================================================\n",
      "Total params: 8,781,004\n",
      "Trainable params: 8,781,004\n",
      "Non-trainable params: 0\n",
      "_________________________________________________________________\n"
     ]
    }
   ],
   "source": [
    "model_bert.summary()"
   ]
  },
  {
   "cell_type": "markdown",
   "metadata": {},
   "source": [
    "# Change to training set"
   ]
  },
  {
   "cell_type": "code",
   "execution_count": 17,
   "metadata": {},
   "outputs": [],
   "source": [
    "es = EarlyStopping(monitor='loss', patience=15)\n",
    "cb_list = [es]"
   ]
  },
  {
   "cell_type": "code",
   "execution_count": 18,
   "metadata": {
    "scrolled": false
   },
   "outputs": [
    {
     "name": "stdout",
     "output_type": "stream",
     "text": [
      "WARNING:tensorflow:From C:\\Users\\bisedab\\AppData\\Local\\Continuum\\anaconda3\\lib\\site-packages\\tensorflow\\python\\ops\\math_ops.py:3066: to_int32 (from tensorflow.python.ops.math_ops) is deprecated and will be removed in a future version.\n",
      "Instructions for updating:\n",
      "Use tf.cast instead.\n",
      "Train on 15619 samples, validate on 16 samples\n",
      "Epoch 1/1000\n",
      "15619/15619 [==============================] - 3s 186us/step - loss: 10.1370 - acc: 0.7936 - val_loss: 9.8023 - val_acc: 0.6250\n",
      "Epoch 2/1000\n",
      "15619/15619 [==============================] - 0s 13us/step - loss: 9.3882 - acc: 0.9365 - val_loss: 9.9416 - val_acc: 0.6250\n",
      "Epoch 3/1000\n",
      "15619/15619 [==============================] - 0s 11us/step - loss: 8.7776 - acc: 0.9365 - val_loss: 11.0300 - val_acc: 0.6250\n",
      "Epoch 4/1000\n",
      "15619/15619 [==============================] - 0s 10us/step - loss: 8.6819 - acc: 0.9365 - val_loss: 9.5177 - val_acc: 0.6250\n",
      "Epoch 5/1000\n",
      "15619/15619 [==============================] - 0s 11us/step - loss: 8.3510 - acc: 0.9365 - val_loss: 8.8557 - val_acc: 0.6250\n",
      "Epoch 6/1000\n",
      "15619/15619 [==============================] - 0s 12us/step - loss: 8.1887 - acc: 0.9365 - val_loss: 8.9740 - val_acc: 0.6250\n",
      "Epoch 7/1000\n",
      "15619/15619 [==============================] - 0s 11us/step - loss: 7.9339 - acc: 0.9365 - val_loss: 9.1788 - val_acc: 0.6250\n",
      "Epoch 8/1000\n",
      "15619/15619 [==============================] - 0s 11us/step - loss: 7.7570 - acc: 0.9365 - val_loss: 8.8529 - val_acc: 0.6250\n",
      "Epoch 9/1000\n",
      "15619/15619 [==============================] - 0s 12us/step - loss: 7.5453 - acc: 0.9365 - val_loss: 8.3614 - val_acc: 0.6250\n",
      "Epoch 10/1000\n",
      "15619/15619 [==============================] - 0s 11us/step - loss: 7.3565 - acc: 0.9365 - val_loss: 8.0823 - val_acc: 0.6250\n",
      "Epoch 11/1000\n",
      "15619/15619 [==============================] - 0s 10us/step - loss: 7.1795 - acc: 0.9365 - val_loss: 8.0168 - val_acc: 0.6250\n",
      "Epoch 12/1000\n",
      "15619/15619 [==============================] - 0s 10us/step - loss: 6.9892 - acc: 0.9365 - val_loss: 8.0567 - val_acc: 0.6250\n",
      "Epoch 13/1000\n",
      "15619/15619 [==============================] - 0s 9us/step - loss: 6.8169 - acc: 0.9365 - val_loss: 7.9424 - val_acc: 0.6250\n",
      "Epoch 14/1000\n",
      "15619/15619 [==============================] - 0s 10us/step - loss: 6.6456 - acc: 0.9365 - val_loss: 7.6373 - val_acc: 0.6250\n",
      "Epoch 15/1000\n",
      "15619/15619 [==============================] - 0s 11us/step - loss: 6.4735 - acc: 0.9365 - val_loss: 7.3568 - val_acc: 0.6250\n",
      "Epoch 16/1000\n",
      "15619/15619 [==============================] - 0s 12us/step - loss: 6.3120 - acc: 0.9365 - val_loss: 7.2121 - val_acc: 0.6250\n",
      "Epoch 17/1000\n",
      "15619/15619 [==============================] - 0s 11us/step - loss: 6.1486 - acc: 0.9365 - val_loss: 7.1675 - val_acc: 0.6250\n",
      "Epoch 18/1000\n",
      "15619/15619 [==============================] - 0s 11us/step - loss: 5.9921 - acc: 0.9365 - val_loss: 7.0702 - val_acc: 0.6250\n",
      "Epoch 19/1000\n",
      "15619/15619 [==============================] - 0s 11us/step - loss: 5.8405 - acc: 0.9365 - val_loss: 6.8402 - val_acc: 0.6250\n",
      "Epoch 20/1000\n",
      "15619/15619 [==============================] - 0s 11us/step - loss: 5.6895 - acc: 0.9365 - val_loss: 6.6095 - val_acc: 0.6250\n",
      "Epoch 21/1000\n",
      "15619/15619 [==============================] - 0s 10us/step - loss: 5.5455 - acc: 0.9365 - val_loss: 6.4894 - val_acc: 0.6250\n",
      "Epoch 22/1000\n",
      "15619/15619 [==============================] - 0s 11us/step - loss: 5.4028 - acc: 0.9365 - val_loss: 6.4350 - val_acc: 0.6250\n",
      "Epoch 23/1000\n",
      "15619/15619 [==============================] - 0s 11us/step - loss: 5.2647 - acc: 0.9365 - val_loss: 6.3147 - val_acc: 0.6250\n",
      "Epoch 24/1000\n",
      "15619/15619 [==============================] - 0s 10us/step - loss: 5.1295 - acc: 0.9365 - val_loss: 6.1105 - val_acc: 0.6250\n",
      "Epoch 25/1000\n",
      "15619/15619 [==============================] - 0s 11us/step - loss: 4.9980 - acc: 0.9365 - val_loss: 5.9791 - val_acc: 0.6250\n",
      "Epoch 26/1000\n",
      "15619/15619 [==============================] - 0s 10us/step - loss: 4.8695 - acc: 0.9365 - val_loss: 5.9319 - val_acc: 0.6250\n",
      "Epoch 27/1000\n",
      "15619/15619 [==============================] - 0s 10us/step - loss: 4.7441 - acc: 0.9365 - val_loss: 5.8047 - val_acc: 0.6250\n",
      "Epoch 28/1000\n",
      "15619/15619 [==============================] - 0s 11us/step - loss: 4.6218 - acc: 0.9365 - val_loss: 5.6327 - val_acc: 0.6250\n",
      "Epoch 29/1000\n",
      "15619/15619 [==============================] - 0s 10us/step - loss: 4.5032 - acc: 0.9365 - val_loss: 5.5589 - val_acc: 0.6250\n",
      "Epoch 30/1000\n",
      "15619/15619 [==============================] - 0s 10us/step - loss: 4.3876 - acc: 0.9365 - val_loss: 5.4639 - val_acc: 0.6250\n",
      "Epoch 31/1000\n",
      "15619/15619 [==============================] - 0s 9us/step - loss: 4.2750 - acc: 0.9365 - val_loss: 5.2974 - val_acc: 0.6250\n",
      "Epoch 32/1000\n",
      "15619/15619 [==============================] - 0s 10us/step - loss: 4.1665 - acc: 0.9365 - val_loss: 5.2435 - val_acc: 0.6250\n",
      "Epoch 33/1000\n",
      "15619/15619 [==============================] - 0s 11us/step - loss: 4.0603 - acc: 0.9365 - val_loss: 5.0650 - val_acc: 0.6250\n",
      "Epoch 34/1000\n",
      "15619/15619 [==============================] - 0s 10us/step - loss: 3.9578 - acc: 0.9365 - val_loss: 5.0267 - val_acc: 0.6250\n",
      "Epoch 35/1000\n",
      "15619/15619 [==============================] - 0s 11us/step - loss: 3.8585 - acc: 0.9365 - val_loss: 4.8944 - val_acc: 0.6250\n",
      "Epoch 36/1000\n",
      "15619/15619 [==============================] - 0s 11us/step - loss: 3.7609 - acc: 0.9365 - val_loss: 4.7853 - val_acc: 0.6250\n",
      "Epoch 37/1000\n",
      "15619/15619 [==============================] - 0s 10us/step - loss: 3.6664 - acc: 0.9365 - val_loss: 4.6702 - val_acc: 0.6250\n",
      "Epoch 38/1000\n",
      "15619/15619 [==============================] - 0s 11us/step - loss: 3.5748 - acc: 0.9365 - val_loss: 4.5950 - val_acc: 0.6250\n",
      "Epoch 39/1000\n",
      "15619/15619 [==============================] - 0s 11us/step - loss: 3.4858 - acc: 0.9365 - val_loss: 4.4631 - val_acc: 0.6250\n",
      "Epoch 40/1000\n",
      "15619/15619 [==============================] - 0s 11us/step - loss: 3.3999 - acc: 0.9365 - val_loss: 4.4430 - val_acc: 0.6250\n",
      "Epoch 41/1000\n",
      "15619/15619 [==============================] - 0s 11us/step - loss: 3.3160 - acc: 0.9365 - val_loss: 4.2993 - val_acc: 0.6250\n",
      "Epoch 42/1000\n",
      "15619/15619 [==============================] - 0s 10us/step - loss: 3.2343 - acc: 0.9365 - val_loss: 4.1353 - val_acc: 0.6250\n",
      "Epoch 43/1000\n",
      "15619/15619 [==============================] - 0s 10us/step - loss: 3.1554 - acc: 0.9365 - val_loss: 4.0380 - val_acc: 0.6250\n",
      "Epoch 44/1000\n",
      "15619/15619 [==============================] - 0s 10us/step - loss: 3.0784 - acc: 0.9365 - val_loss: 3.8924 - val_acc: 0.6250\n",
      "Epoch 45/1000\n",
      "15619/15619 [==============================] - 0s 10us/step - loss: 3.0043 - acc: 0.9365 - val_loss: 3.8680 - val_acc: 0.6250\n",
      "Epoch 46/1000\n",
      "15619/15619 [==============================] - 0s 11us/step - loss: 2.9329 - acc: 0.9365 - val_loss: 3.9709 - val_acc: 0.6250\n",
      "Epoch 47/1000\n",
      "15619/15619 [==============================] - 0s 11us/step - loss: 2.8687 - acc: 0.9365 - val_loss: 3.5718 - val_acc: 0.6250\n",
      "Epoch 48/1000\n",
      "15619/15619 [==============================] - 0s 10us/step - loss: 2.8011 - acc: 0.9365 - val_loss: 3.7039 - val_acc: 0.6250\n",
      "Epoch 49/1000\n",
      "15619/15619 [==============================] - 0s 10us/step - loss: 2.7341 - acc: 0.9365 - val_loss: 3.6428 - val_acc: 0.6250\n",
      "Epoch 50/1000\n",
      "15619/15619 [==============================] - 0s 10us/step - loss: 2.6695 - acc: 0.9365 - val_loss: 3.4768 - val_acc: 0.6250\n",
      "Epoch 51/1000\n",
      "15619/15619 [==============================] - 0s 10us/step - loss: 2.6075 - acc: 0.9365 - val_loss: 3.5641 - val_acc: 0.6250\n",
      "Epoch 52/1000\n",
      "15619/15619 [==============================] - 0s 10us/step - loss: 2.5482 - acc: 0.9365 - val_loss: 3.3631 - val_acc: 0.6250\n",
      "Epoch 53/1000\n",
      "15619/15619 [==============================] - 0s 10us/step - loss: 2.4901 - acc: 0.9365 - val_loss: 3.4776 - val_acc: 0.6250\n",
      "Epoch 54/1000\n",
      "15619/15619 [==============================] - 0s 10us/step - loss: 2.4354 - acc: 0.9365 - val_loss: 3.2452 - val_acc: 0.6250\n",
      "Epoch 55/1000\n",
      "15619/15619 [==============================] - 0s 11us/step - loss: 2.3797 - acc: 0.9365 - val_loss: 3.2990 - val_acc: 0.6250\n",
      "Epoch 56/1000\n",
      "15619/15619 [==============================] - 0s 11us/step - loss: 2.3259 - acc: 0.9365 - val_loss: 3.1478 - val_acc: 0.6250\n",
      "Epoch 57/1000\n"
     ]
    },
    {
     "name": "stdout",
     "output_type": "stream",
     "text": [
      "15619/15619 [==============================] - 0s 11us/step - loss: 2.2755 - acc: 0.9365 - val_loss: 3.1613 - val_acc: 0.6250\n",
      "Epoch 58/1000\n",
      "15619/15619 [==============================] - 0s 10us/step - loss: 2.2259 - acc: 0.9365 - val_loss: 3.2575 - val_acc: 0.6250\n",
      "Epoch 59/1000\n",
      "15619/15619 [==============================] - 0s 10us/step - loss: 2.1799 - acc: 0.9365 - val_loss: 2.9710 - val_acc: 0.6250\n",
      "Epoch 60/1000\n",
      "15619/15619 [==============================] - 0s 10us/step - loss: 2.1330 - acc: 0.9365 - val_loss: 3.0456 - val_acc: 0.6250\n",
      "Epoch 61/1000\n",
      "15619/15619 [==============================] - 0s 12us/step - loss: 2.0852 - acc: 0.9365 - val_loss: 3.0539 - val_acc: 0.6250\n",
      "Epoch 62/1000\n",
      "15619/15619 [==============================] - 0s 12us/step - loss: 2.0411 - acc: 0.9365 - val_loss: 2.8634 - val_acc: 0.6250\n",
      "Epoch 63/1000\n",
      "15619/15619 [==============================] - 0s 12us/step - loss: 1.9981 - acc: 0.9365 - val_loss: 2.9409 - val_acc: 0.6250\n",
      "Epoch 64/1000\n",
      "15619/15619 [==============================] - 0s 11us/step - loss: 1.9589 - acc: 0.9365 - val_loss: 3.1067 - val_acc: 0.6250\n",
      "Epoch 65/1000\n",
      "15619/15619 [==============================] - 0s 11us/step - loss: 1.9241 - acc: 0.9365 - val_loss: 2.6688 - val_acc: 0.6250\n",
      "Epoch 66/1000\n",
      "15619/15619 [==============================] - 0s 11us/step - loss: 1.8925 - acc: 0.9365 - val_loss: 2.8811 - val_acc: 0.6250\n",
      "Epoch 67/1000\n",
      "15619/15619 [==============================] - 0s 11us/step - loss: 1.8498 - acc: 0.9365 - val_loss: 2.9343 - val_acc: 0.6250\n",
      "Epoch 68/1000\n",
      "15619/15619 [==============================] - 0s 10us/step - loss: 1.8136 - acc: 0.9365 - val_loss: 2.6293 - val_acc: 0.6250\n",
      "Epoch 69/1000\n",
      "15619/15619 [==============================] - 0s 9us/step - loss: 1.7764 - acc: 0.9364 - val_loss: 2.8518 - val_acc: 0.6250\n",
      "Epoch 70/1000\n",
      "15619/15619 [==============================] - 0s 11us/step - loss: 1.7439 - acc: 0.9364 - val_loss: 2.6237 - val_acc: 0.6250\n",
      "Epoch 71/1000\n",
      "15619/15619 [==============================] - 0s 10us/step - loss: 1.7067 - acc: 0.9365 - val_loss: 2.6387 - val_acc: 0.6250\n",
      "Epoch 72/1000\n",
      "15619/15619 [==============================] - 0s 10us/step - loss: 1.6732 - acc: 0.9364 - val_loss: 2.6524 - val_acc: 0.6250\n",
      "Epoch 73/1000\n",
      "15619/15619 [==============================] - 0s 11us/step - loss: 1.6417 - acc: 0.9367 - val_loss: 2.4849 - val_acc: 0.6250\n",
      "Epoch 74/1000\n",
      "15619/15619 [==============================] - 0s 11us/step - loss: 1.6099 - acc: 0.9367 - val_loss: 2.6408 - val_acc: 0.6250\n",
      "Epoch 75/1000\n",
      "15619/15619 [==============================] - 0s 11us/step - loss: 1.5819 - acc: 0.9366 - val_loss: 2.4067 - val_acc: 0.6250\n",
      "Epoch 76/1000\n",
      "15619/15619 [==============================] - 0s 10us/step - loss: 1.5519 - acc: 0.9366 - val_loss: 2.5998 - val_acc: 0.6250\n",
      "Epoch 77/1000\n",
      "15619/15619 [==============================] - 0s 10us/step - loss: 1.5253 - acc: 0.9366 - val_loss: 2.3528 - val_acc: 0.6250\n",
      "Epoch 78/1000\n",
      "15619/15619 [==============================] - 0s 11us/step - loss: 1.4965 - acc: 0.9367 - val_loss: 2.5073 - val_acc: 0.6250\n",
      "Epoch 79/1000\n",
      "15619/15619 [==============================] - 0s 11us/step - loss: 1.4703 - acc: 0.9366 - val_loss: 2.2866 - val_acc: 0.6250\n",
      "Epoch 80/1000\n",
      "15619/15619 [==============================] - 0s 11us/step - loss: 1.4438 - acc: 0.9366 - val_loss: 2.4065 - val_acc: 0.6250\n",
      "Epoch 81/1000\n",
      "15619/15619 [==============================] - 0s 11us/step - loss: 1.4194 - acc: 0.9368 - val_loss: 2.3303 - val_acc: 0.6250\n",
      "Epoch 82/1000\n",
      "15619/15619 [==============================] - 0s 11us/step - loss: 1.3939 - acc: 0.9366 - val_loss: 2.2212 - val_acc: 0.6250\n",
      "Epoch 83/1000\n",
      "15619/15619 [==============================] - 0s 10us/step - loss: 1.3704 - acc: 0.9367 - val_loss: 2.4043 - val_acc: 0.6250\n",
      "Epoch 84/1000\n",
      "15619/15619 [==============================] - 0s 10us/step - loss: 1.3481 - acc: 0.9367 - val_loss: 2.2209 - val_acc: 0.6250\n",
      "Epoch 85/1000\n",
      "15619/15619 [==============================] - 0s 11us/step - loss: 1.3268 - acc: 0.9367 - val_loss: 2.1888 - val_acc: 0.6250\n",
      "Epoch 86/1000\n",
      "15619/15619 [==============================] - 0s 10us/step - loss: 1.3031 - acc: 0.9367 - val_loss: 2.3655 - val_acc: 0.6250\n",
      "Epoch 87/1000\n",
      "15619/15619 [==============================] - 0s 11us/step - loss: 1.2834 - acc: 0.9368 - val_loss: 2.3142 - val_acc: 0.6250\n",
      "Epoch 88/1000\n",
      "15619/15619 [==============================] - 0s 11us/step - loss: 1.2603 - acc: 0.9367 - val_loss: 2.1295 - val_acc: 0.6250\n",
      "Epoch 89/1000\n",
      "15619/15619 [==============================] - 0s 11us/step - loss: 1.2419 - acc: 0.9367 - val_loss: 2.1309 - val_acc: 0.6250\n",
      "Epoch 90/1000\n",
      "15619/15619 [==============================] - 0s 11us/step - loss: 1.2203 - acc: 0.9369 - val_loss: 2.4455 - val_acc: 0.6250\n",
      "Epoch 91/1000\n",
      "15619/15619 [==============================] - 0s 10us/step - loss: 1.2121 - acc: 0.9373 - val_loss: 2.3006 - val_acc: 0.6250\n",
      "Epoch 92/1000\n",
      "15619/15619 [==============================] - 0s 11us/step - loss: 1.1844 - acc: 0.9367 - val_loss: 1.9726 - val_acc: 0.6250\n",
      "Epoch 93/1000\n",
      "15619/15619 [==============================] - 0s 11us/step - loss: 1.1909 - acc: 0.9394 - val_loss: 2.0753 - val_acc: 0.6250\n",
      "Epoch 94/1000\n",
      "15619/15619 [==============================] - 0s 11us/step - loss: 1.1580 - acc: 0.9382 - val_loss: 2.6513 - val_acc: 0.6250\n",
      "Epoch 95/1000\n",
      "15619/15619 [==============================] - 0s 10us/step - loss: 1.1659 - acc: 0.9366 - val_loss: 1.8171 - val_acc: 0.6250\n",
      "Epoch 96/1000\n",
      "15619/15619 [==============================] - 0s 10us/step - loss: 1.1530 - acc: 0.9410 - val_loss: 2.6074 - val_acc: 0.6250\n",
      "Epoch 97/1000\n",
      "15619/15619 [==============================] - 0s 9us/step - loss: 1.1336 - acc: 0.9366 - val_loss: 1.8423 - val_acc: 0.6250\n",
      "Epoch 98/1000\n",
      "15619/15619 [==============================] - 0s 9us/step - loss: 1.1126 - acc: 0.9384 - val_loss: 2.2349 - val_acc: 0.6250\n",
      "Epoch 99/1000\n",
      "15619/15619 [==============================] - 0s 10us/step - loss: 1.0930 - acc: 0.9366 - val_loss: 2.1507 - val_acc: 0.6250\n",
      "Epoch 100/1000\n",
      "15619/15619 [==============================] - 0s 10us/step - loss: 1.0704 - acc: 0.9371 - val_loss: 1.8279 - val_acc: 0.6250\n",
      "Epoch 101/1000\n",
      "15619/15619 [==============================] - 0s 10us/step - loss: 1.0607 - acc: 0.9373 - val_loss: 2.2922 - val_acc: 0.6250\n",
      "Epoch 102/1000\n",
      "15619/15619 [==============================] - 0s 9us/step - loss: 1.0479 - acc: 0.9367 - val_loss: 1.8892 - val_acc: 0.6250\n",
      "Epoch 103/1000\n",
      "15619/15619 [==============================] - 0s 10us/step - loss: 1.0287 - acc: 0.9377 - val_loss: 1.9491 - val_acc: 0.6250\n",
      "Epoch 104/1000\n",
      "15619/15619 [==============================] - 0s 9us/step - loss: 1.0129 - acc: 0.9369 - val_loss: 2.0868 - val_acc: 0.6250\n",
      "Epoch 105/1000\n",
      "15619/15619 [==============================] - 0s 10us/step - loss: 1.0007 - acc: 0.9372 - val_loss: 1.7907 - val_acc: 0.6250\n",
      "Epoch 106/1000\n",
      "15619/15619 [==============================] - 0s 9us/step - loss: 0.9880 - acc: 0.9392 - val_loss: 2.0332 - val_acc: 0.6250\n",
      "Epoch 107/1000\n",
      "15619/15619 [==============================] - 0s 10us/step - loss: 0.9740 - acc: 0.9369 - val_loss: 1.8003 - val_acc: 0.6250\n",
      "Epoch 108/1000\n",
      "15619/15619 [==============================] - 0s 10us/step - loss: 0.9621 - acc: 0.9401 - val_loss: 1.9885 - val_acc: 0.6250\n",
      "Epoch 109/1000\n",
      "15619/15619 [==============================] - 0s 10us/step - loss: 0.9497 - acc: 0.9369 - val_loss: 1.8480 - val_acc: 0.6250\n",
      "Epoch 110/1000\n",
      "15619/15619 [==============================] - 0s 12us/step - loss: 0.9371 - acc: 0.9403 - val_loss: 1.9192 - val_acc: 0.6250\n",
      "Epoch 111/1000\n",
      "15619/15619 [==============================] - 0s 11us/step - loss: 0.9254 - acc: 0.9374 - val_loss: 1.8477 - val_acc: 0.6250\n",
      "Epoch 112/1000\n",
      "15619/15619 [==============================] - 0s 10us/step - loss: 0.9143 - acc: 0.9404 - val_loss: 1.9364 - val_acc: 0.6250\n",
      "Epoch 113/1000\n",
      "15619/15619 [==============================] - 0s 10us/step - loss: 0.9034 - acc: 0.9381 - val_loss: 1.8073 - val_acc: 0.6250\n",
      "Epoch 114/1000\n",
      "15619/15619 [==============================] - 0s 10us/step - loss: 0.8930 - acc: 0.9425 - val_loss: 2.0227 - val_acc: 0.6250\n",
      "Epoch 115/1000\n"
     ]
    },
    {
     "name": "stdout",
     "output_type": "stream",
     "text": [
      "15619/15619 [==============================] - 0s 10us/step - loss: 0.8834 - acc: 0.9385 - val_loss: 1.7478 - val_acc: 0.6250\n",
      "Epoch 116/1000\n",
      "15619/15619 [==============================] - 0s 10us/step - loss: 0.8773 - acc: 0.9429 - val_loss: 1.9170 - val_acc: 0.6250\n",
      "Epoch 117/1000\n",
      "15619/15619 [==============================] - 0s 11us/step - loss: 0.8652 - acc: 0.9421 - val_loss: 2.1015 - val_acc: 0.6250\n",
      "Epoch 118/1000\n",
      "15619/15619 [==============================] - 0s 10us/step - loss: 0.8583 - acc: 0.9396 - val_loss: 1.8315 - val_acc: 0.6250\n",
      "Epoch 119/1000\n",
      "15619/15619 [==============================] - 0s 11us/step - loss: 0.8440 - acc: 0.9437 - val_loss: 1.9570 - val_acc: 0.6250\n",
      "Epoch 120/1000\n",
      "15619/15619 [==============================] - 0s 10us/step - loss: 0.8340 - acc: 0.9439 - val_loss: 2.0458 - val_acc: 0.6250\n",
      "Epoch 121/1000\n",
      "15619/15619 [==============================] - 0s 10us/step - loss: 0.8258 - acc: 0.9412 - val_loss: 1.8250 - val_acc: 0.6250\n",
      "Epoch 122/1000\n",
      "15619/15619 [==============================] - 0s 10us/step - loss: 0.8186 - acc: 0.9447 - val_loss: 1.7786 - val_acc: 0.6250\n",
      "Epoch 123/1000\n",
      "15619/15619 [==============================] - 0s 10us/step - loss: 0.8104 - acc: 0.9474 - val_loss: 1.8491 - val_acc: 0.6250\n",
      "Epoch 124/1000\n",
      "15619/15619 [==============================] - 0s 11us/step - loss: 0.7976 - acc: 0.9473 - val_loss: 1.8814 - val_acc: 0.6250\n",
      "Epoch 125/1000\n",
      "15619/15619 [==============================] - 0s 12us/step - loss: 0.7900 - acc: 0.9455 - val_loss: 1.9965 - val_acc: 0.6250\n",
      "Epoch 126/1000\n",
      "15619/15619 [==============================] - 0s 10us/step - loss: 0.7897 - acc: 0.9461 - val_loss: 2.4820 - val_acc: 0.6250\n",
      "Epoch 127/1000\n",
      "15619/15619 [==============================] - 0s 11us/step - loss: 0.8165 - acc: 0.9402 - val_loss: 2.0550 - val_acc: 0.6250\n",
      "Epoch 128/1000\n",
      "15619/15619 [==============================] - 0s 10us/step - loss: 0.7768 - acc: 0.9437 - val_loss: 1.6236 - val_acc: 0.6250\n",
      "Epoch 129/1000\n",
      "15619/15619 [==============================] - 0s 11us/step - loss: 0.7704 - acc: 0.9491 - val_loss: 2.0029 - val_acc: 0.6250\n",
      "Epoch 130/1000\n",
      "15619/15619 [==============================] - 0s 10us/step - loss: 0.7640 - acc: 0.9428 - val_loss: 1.5973 - val_acc: 0.6250\n",
      "Epoch 131/1000\n",
      "15619/15619 [==============================] - 0s 10us/step - loss: 0.7553 - acc: 0.9459 - val_loss: 1.8106 - val_acc: 0.6250\n",
      "Epoch 132/1000\n",
      "15619/15619 [==============================] - 0s 11us/step - loss: 0.7443 - acc: 0.9479 - val_loss: 2.1088 - val_acc: 0.6250\n",
      "Epoch 133/1000\n",
      "15619/15619 [==============================] - 0s 10us/step - loss: 0.7418 - acc: 0.9424 - val_loss: 1.6968 - val_acc: 0.6250\n",
      "Epoch 134/1000\n",
      "15619/15619 [==============================] - 0s 10us/step - loss: 0.7317 - acc: 0.9485 - val_loss: 1.7223 - val_acc: 0.6250\n",
      "Epoch 135/1000\n",
      "15619/15619 [==============================] - 0s 11us/step - loss: 0.7203 - acc: 0.9501 - val_loss: 1.9014 - val_acc: 0.6250\n",
      "Epoch 136/1000\n",
      "15619/15619 [==============================] - 0s 10us/step - loss: 0.7171 - acc: 0.9467 - val_loss: 1.6838 - val_acc: 0.6250\n",
      "Epoch 137/1000\n",
      "15619/15619 [==============================] - 0s 11us/step - loss: 0.7097 - acc: 0.9491 - val_loss: 1.7319 - val_acc: 0.6250\n",
      "Epoch 138/1000\n",
      "15619/15619 [==============================] - 0s 10us/step - loss: 0.7010 - acc: 0.9522 - val_loss: 2.0632 - val_acc: 0.6250\n",
      "Epoch 139/1000\n",
      "15619/15619 [==============================] - 0s 11us/step - loss: 0.7009 - acc: 0.9483 - val_loss: 2.2465 - val_acc: 0.6250\n",
      "Epoch 140/1000\n",
      "15619/15619 [==============================] - 0s 10us/step - loss: 0.7035 - acc: 0.9462 - val_loss: 1.8812 - val_acc: 0.6250\n",
      "Epoch 141/1000\n",
      "15619/15619 [==============================] - 0s 11us/step - loss: 0.6825 - acc: 0.9511 - val_loss: 1.6583 - val_acc: 0.6250\n",
      "Epoch 142/1000\n",
      "15619/15619 [==============================] - 0s 11us/step - loss: 0.6828 - acc: 0.9505 - val_loss: 1.6199 - val_acc: 0.6250\n",
      "Epoch 143/1000\n",
      "15619/15619 [==============================] - 0s 11us/step - loss: 0.6750 - acc: 0.9519 - val_loss: 1.7900 - val_acc: 0.6250\n",
      "Epoch 144/1000\n",
      "15619/15619 [==============================] - 0s 11us/step - loss: 0.6637 - acc: 0.9533 - val_loss: 2.0130 - val_acc: 0.6250\n",
      "Epoch 145/1000\n",
      "15619/15619 [==============================] - 0s 11us/step - loss: 0.6644 - acc: 0.9496 - val_loss: 2.2629 - val_acc: 0.6250\n",
      "Epoch 146/1000\n",
      "15619/15619 [==============================] - 0s 10us/step - loss: 0.6668 - acc: 0.9485 - val_loss: 1.9145 - val_acc: 0.6250\n",
      "Epoch 147/1000\n",
      "15619/15619 [==============================] - 0s 10us/step - loss: 0.6483 - acc: 0.9518 - val_loss: 1.5816 - val_acc: 0.6250\n",
      "Epoch 148/1000\n",
      "15619/15619 [==============================] - 0s 11us/step - loss: 0.6630 - acc: 0.9479 - val_loss: 1.5306 - val_acc: 0.5625\n",
      "Epoch 149/1000\n",
      "15619/15619 [==============================] - 0s 11us/step - loss: 0.6588 - acc: 0.9493 - val_loss: 1.8248 - val_acc: 0.6250\n",
      "Epoch 150/1000\n",
      "15619/15619 [==============================] - 0s 11us/step - loss: 0.6399 - acc: 0.9520 - val_loss: 2.1075 - val_acc: 0.6250\n",
      "Epoch 151/1000\n",
      "15619/15619 [==============================] - 0s 10us/step - loss: 0.6426 - acc: 0.9479 - val_loss: 1.5193 - val_acc: 0.6250\n",
      "Epoch 152/1000\n",
      "15619/15619 [==============================] - 0s 10us/step - loss: 0.6413 - acc: 0.9488 - val_loss: 1.7544 - val_acc: 0.6250\n",
      "Epoch 153/1000\n",
      "15619/15619 [==============================] - 0s 10us/step - loss: 0.6293 - acc: 0.9517 - val_loss: 2.4244 - val_acc: 0.6250\n",
      "Epoch 154/1000\n",
      "15619/15619 [==============================] - 0s 10us/step - loss: 0.6481 - acc: 0.9447 - val_loss: 1.4708 - val_acc: 0.6250\n",
      "Epoch 155/1000\n",
      "15619/15619 [==============================] - 0s 10us/step - loss: 0.6475 - acc: 0.9442 - val_loss: 2.3025 - val_acc: 0.6250\n",
      "Epoch 156/1000\n",
      "15619/15619 [==============================] - 0s 10us/step - loss: 0.6429 - acc: 0.9433 - val_loss: 1.4613 - val_acc: 0.6250\n",
      "Epoch 157/1000\n",
      "15619/15619 [==============================] - 0s 11us/step - loss: 0.6291 - acc: 0.9479 - val_loss: 2.0322 - val_acc: 0.6250\n",
      "Epoch 158/1000\n",
      "15619/15619 [==============================] - 0s 10us/step - loss: 0.6176 - acc: 0.9480 - val_loss: 1.3950 - val_acc: 0.6250\n",
      "Epoch 159/1000\n",
      "15619/15619 [==============================] - 0s 11us/step - loss: 0.6176 - acc: 0.9490 - val_loss: 1.9569 - val_acc: 0.6250\n",
      "Epoch 160/1000\n",
      "15619/15619 [==============================] - 0s 10us/step - loss: 0.6092 - acc: 0.9453 - val_loss: 1.4425 - val_acc: 0.6250\n",
      "Epoch 161/1000\n",
      "15619/15619 [==============================] - 0s 11us/step - loss: 0.6035 - acc: 0.9517 - val_loss: 1.9978 - val_acc: 0.6250\n",
      "Epoch 162/1000\n",
      "15619/15619 [==============================] - 0s 10us/step - loss: 0.5966 - acc: 0.9476 - val_loss: 1.4529 - val_acc: 0.6250\n",
      "Epoch 163/1000\n",
      "15619/15619 [==============================] - 0s 10us/step - loss: 0.5958 - acc: 0.9520 - val_loss: 2.0255 - val_acc: 0.6250\n",
      "Epoch 164/1000\n",
      "15619/15619 [==============================] - 0s 11us/step - loss: 0.5916 - acc: 0.9475 - val_loss: 1.4784 - val_acc: 0.6250\n",
      "Epoch 165/1000\n",
      "15619/15619 [==============================] - 0s 11us/step - loss: 0.5830 - acc: 0.9530 - val_loss: 1.9760 - val_acc: 0.6250\n",
      "Epoch 166/1000\n",
      "15619/15619 [==============================] - 0s 11us/step - loss: 0.5788 - acc: 0.9495 - val_loss: 1.5073 - val_acc: 0.6250\n",
      "Epoch 167/1000\n",
      "15619/15619 [==============================] - 0s 10us/step - loss: 0.5729 - acc: 0.9538 - val_loss: 1.9797 - val_acc: 0.6250\n",
      "Epoch 168/1000\n",
      "15619/15619 [==============================] - 0s 10us/step - loss: 0.5694 - acc: 0.9508 - val_loss: 1.5155 - val_acc: 0.6250\n",
      "Epoch 169/1000\n",
      "15619/15619 [==============================] - 0s 11us/step - loss: 0.5669 - acc: 0.9535 - val_loss: 1.9134 - val_acc: 0.6250\n",
      "Epoch 170/1000\n",
      "15619/15619 [==============================] - 0s 11us/step - loss: 0.5604 - acc: 0.9531 - val_loss: 1.6895 - val_acc: 0.6250\n",
      "Epoch 171/1000\n",
      "15619/15619 [==============================] - 0s 12us/step - loss: 0.5528 - acc: 0.9542 - val_loss: 1.6620 - val_acc: 0.6250\n",
      "Epoch 172/1000\n",
      "15619/15619 [==============================] - 0s 11us/step - loss: 0.5489 - acc: 0.9551 - val_loss: 1.9878 - val_acc: 0.6250\n",
      "Epoch 173/1000\n"
     ]
    },
    {
     "name": "stdout",
     "output_type": "stream",
     "text": [
      "15619/15619 [==============================] - 0s 10us/step - loss: 0.5495 - acc: 0.9533 - val_loss: 1.6415 - val_acc: 0.6250\n",
      "Epoch 174/1000\n",
      "15619/15619 [==============================] - 0s 10us/step - loss: 0.5424 - acc: 0.9545 - val_loss: 1.6889 - val_acc: 0.6250\n",
      "Epoch 175/1000\n",
      "15619/15619 [==============================] - 0s 11us/step - loss: 0.5361 - acc: 0.9557 - val_loss: 1.9353 - val_acc: 0.6250\n",
      "Epoch 176/1000\n",
      "15619/15619 [==============================] - 0s 10us/step - loss: 0.5354 - acc: 0.9547 - val_loss: 1.7161 - val_acc: 0.6250\n",
      "Epoch 177/1000\n",
      "15619/15619 [==============================] - 0s 10us/step - loss: 0.5309 - acc: 0.9555 - val_loss: 1.5757 - val_acc: 0.6250\n",
      "Epoch 178/1000\n",
      "15619/15619 [==============================] - 0s 10us/step - loss: 0.5410 - acc: 0.9527 - val_loss: 1.6856 - val_acc: 0.6250\n",
      "Epoch 179/1000\n",
      "15619/15619 [==============================] - 0s 10us/step - loss: 0.5255 - acc: 0.9553 - val_loss: 2.0254 - val_acc: 0.6250\n",
      "Epoch 180/1000\n",
      "15619/15619 [==============================] - 0s 11us/step - loss: 0.5255 - acc: 0.9543 - val_loss: 1.6996 - val_acc: 0.6250\n",
      "Epoch 181/1000\n",
      "15619/15619 [==============================] - 0s 11us/step - loss: 0.5178 - acc: 0.9556 - val_loss: 1.6699 - val_acc: 0.6250\n",
      "Epoch 182/1000\n",
      "15619/15619 [==============================] - 0s 10us/step - loss: 0.5153 - acc: 0.9570 - val_loss: 1.9751 - val_acc: 0.6250\n",
      "Epoch 183/1000\n",
      "15619/15619 [==============================] - 0s 12us/step - loss: 0.5119 - acc: 0.9563 - val_loss: 2.1292 - val_acc: 0.6250\n",
      "Epoch 184/1000\n",
      "15619/15619 [==============================] - 0s 11us/step - loss: 0.5167 - acc: 0.9541 - val_loss: 2.0388 - val_acc: 0.6250\n",
      "Epoch 185/1000\n",
      "15619/15619 [==============================] - 0s 11us/step - loss: 0.5092 - acc: 0.9558 - val_loss: 1.8677 - val_acc: 0.6250\n",
      "Epoch 186/1000\n",
      "15619/15619 [==============================] - 0s 10us/step - loss: 0.5005 - acc: 0.9562 - val_loss: 1.6994 - val_acc: 0.6250\n",
      "Epoch 187/1000\n",
      "15619/15619 [==============================] - 0s 11us/step - loss: 0.4981 - acc: 0.9564 - val_loss: 1.6393 - val_acc: 0.6250\n",
      "Epoch 188/1000\n",
      "15619/15619 [==============================] - 0s 11us/step - loss: 0.5007 - acc: 0.9553 - val_loss: 1.5037 - val_acc: 0.5625\n",
      "Epoch 189/1000\n",
      "15619/15619 [==============================] - 0s 11us/step - loss: 0.5875 - acc: 0.9428 - val_loss: 1.8583 - val_acc: 0.6250\n",
      "Epoch 190/1000\n",
      "15619/15619 [==============================] - 0s 9us/step - loss: 0.5591 - acc: 0.9335 - val_loss: 3.3750 - val_acc: 0.6250\n",
      "Epoch 191/1000\n",
      "15619/15619 [==============================] - 0s 10us/step - loss: 0.7357 - acc: 0.9365 - val_loss: 2.3988 - val_acc: 0.6250\n",
      "Epoch 192/1000\n",
      "15619/15619 [==============================] - 0s 10us/step - loss: 0.5915 - acc: 0.9394 - val_loss: 1.1892 - val_acc: 0.6250\n",
      "Epoch 193/1000\n",
      "15619/15619 [==============================] - 0s 10us/step - loss: 0.6474 - acc: 0.9439 - val_loss: 1.5218 - val_acc: 0.6250\n",
      "Epoch 194/1000\n",
      "15619/15619 [==============================] - 0s 10us/step - loss: 0.5431 - acc: 0.9399 - val_loss: 2.4403 - val_acc: 0.6250\n",
      "Epoch 195/1000\n",
      "15619/15619 [==============================] - 0s 10us/step - loss: 0.5980 - acc: 0.9369 - val_loss: 1.9447 - val_acc: 0.6250\n",
      "Epoch 196/1000\n",
      "15619/15619 [==============================] - 0s 10us/step - loss: 0.5565 - acc: 0.9387 - val_loss: 1.3876 - val_acc: 0.6250\n",
      "Epoch 197/1000\n",
      "15619/15619 [==============================] - 0s 11us/step - loss: 0.5619 - acc: 0.9418 - val_loss: 1.3638 - val_acc: 0.6250\n",
      "Epoch 198/1000\n",
      "15619/15619 [==============================] - 0s 10us/step - loss: 0.5369 - acc: 0.9405 - val_loss: 1.6923 - val_acc: 0.6250\n",
      "Epoch 199/1000\n",
      "15619/15619 [==============================] - 0s 11us/step - loss: 0.5349 - acc: 0.9382 - val_loss: 1.8670 - val_acc: 0.6250\n",
      "Epoch 200/1000\n",
      "15619/15619 [==============================] - 0s 11us/step - loss: 0.5374 - acc: 0.9381 - val_loss: 1.6104 - val_acc: 0.6250\n",
      "Epoch 201/1000\n",
      "15619/15619 [==============================] - 0s 11us/step - loss: 0.5234 - acc: 0.9414 - val_loss: 1.3958 - val_acc: 0.6250\n",
      "Epoch 202/1000\n",
      "15619/15619 [==============================] - 0s 10us/step - loss: 0.5208 - acc: 0.9449 - val_loss: 1.4862 - val_acc: 0.6250\n"
     ]
    }
   ],
   "source": [
    "with tf.Session() as session:\n",
    "    K.set_session(session)\n",
    "    #tf.compat.v1.keras.backend.set_session(session)\n",
    "    session.run(tf.global_variables_initializer())  \n",
    "    session.run(tf.tables_initializer())\n",
    "    history = model_bert.fit(all_embeddings, y, epochs=1000, batch_size=10000, \n",
    "                             validation_split = 0.001, callbacks=cb_list)\n",
    "    model_bert.save_weights('../model/bert_ner_logistic_twitter/model_bert_weights.h5')"
   ]
  },
  {
   "cell_type": "code",
   "execution_count": 20,
   "metadata": {},
   "outputs": [
    {
     "data": {
      "image/png": "[encoded data removed]",
      "text/plain": [
       "<Figure size 432x288 with 1 Axes>"
      ]
     },
     "metadata": {
      "needs_background": "light"
     },
     "output_type": "display_data"
    }
   ],
   "source": [
    "import matplotlib.pyplot as plt\n",
    "%matplotlib inline\n",
    "\n",
    "#acc = history.history['acc']\n",
    "acc = history.history['acc']\n",
    "loss = history.history['loss']\n",
    "\n",
    "epochs = range(1, len(acc) + 1)\n",
    "\n",
    "plt.plot(epochs, acc, 'g', label='Training Acc')\n",
    "plt.title('Training and validation Acc')\n",
    "plt.xlabel('Epochs')\n",
    "plt.ylabel('Acc')\n",
    "plt.legend()\n",
    "\n",
    "plt.show()"
   ]
  },
  {
   "cell_type": "markdown",
   "metadata": {},
   "source": [
    "# Predict on Test Data"
   ]
  },
  {
   "cell_type": "code",
   "execution_count": 21,
   "metadata": {},
   "outputs": [],
   "source": [
    "bs = 10000\n",
    "batches = math.ceil(all_embeddings_test.shape[0] / bs)"
   ]
  },
  {
   "cell_type": "code",
   "execution_count": 22,
   "metadata": {},
   "outputs": [
    {
     "name": "stdout",
     "output_type": "stream",
     "text": [
      "Predicting Batch 1\n"
     ]
    }
   ],
   "source": [
    "all_preds = []\n",
    "all_probs = []\n",
    "    \n",
    "with tf.Session() as session:\n",
    "    K.set_session(session)\n",
    "    session.run(tf.global_variables_initializer())  \n",
    "    session.run(tf.tables_initializer())\n",
    "    model_bert.load_weights('../model/bert_ner_logistic_twitter/model_bert_weights.h5')\n",
    "\n",
    "    for i in range(1,batches+1):\n",
    "        print(\"Predicting Batch\",i)\n",
    "        new_text_pr = all_embeddings_test[(i-1)*bs:i*bs]\n",
    "        preds = model_bert.predict(new_text_pr)\n",
    "        all_probs.append(preds)\n",
    "        preds = encoder.inverse_transform(np.argmax(preds,axis=1))\n",
    "        all_preds.append(preds)"
   ]
  },
  {
   "cell_type": "code",
   "execution_count": 23,
   "metadata": {},
   "outputs": [],
   "source": [
    "results = np.concatenate(all_preds, axis=0)\n",
    "results_probs = np.concatenate(all_probs, axis=0)"
   ]
  },
  {
   "cell_type": "code",
   "execution_count": 25,
   "metadata": {},
   "outputs": [],
   "source": [
    "np.savetxt(\"../output/NER/bert_logistic_twitter/test_results.tsv\", results_probs, delimiter=\"\\t\")"
   ]
  },
  {
   "cell_type": "code",
   "execution_count": 26,
   "metadata": {},
   "outputs": [],
   "source": [
    "np.savetxt(\"../output/NER/bert_logistic_twitter/test_predictions.tsv\", results, delimiter=\"\\t\", fmt='%s')"
   ]
  },
  {
   "cell_type": "code",
   "execution_count": 27,
   "metadata": {
    "scrolled": true
   },
   "outputs": [
    {
     "name": "stdout",
     "output_type": "stream",
     "text": [
      "Accuracy:  0.9481509013194573\n"
     ]
    }
   ],
   "source": [
    "print(\"Accuracy: \",sum(results==y_test)/results.shape[0])"
   ]
  },
  {
   "cell_type": "code",
   "execution_count": null,
   "metadata": {},
   "outputs": [],
   "source": []
  }
 ],
 "metadata": {
  "kernelspec": {
   "display_name": "Python 3",
   "language": "python",
   "name": "python3"
  },
  "language_info": {
   "codemirror_mode": {
    "name": "ipython",
    "version": 3
   },
   "file_extension": ".py",
   "mimetype": "text/x-python",
   "name": "python",
   "nbconvert_exporter": "python",
   "pygments_lexer": "ipython3",
   "version": "3.7.3"
  }
 },
 "nbformat": 4,
 "nbformat_minor": 2
}
