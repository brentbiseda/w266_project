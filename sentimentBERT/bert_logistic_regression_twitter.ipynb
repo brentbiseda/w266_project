{
 "cells": [
  {
   "cell_type": "markdown",
   "metadata": {},
   "source": [
    "# Based on Hugging Face Transformers\n",
    "\n",
    "https://github.com/huggingface/transformers"
   ]
  },
  {
   "cell_type": "markdown",
   "metadata": {},
   "source": [
    "# Preprocessing"
   ]
  },
  {
   "cell_type": "code",
   "execution_count": 1,
   "metadata": {},
   "outputs": [
    {
     "name": "stderr",
     "output_type": "stream",
     "text": [
      "Using TensorFlow backend.\n"
     ]
    }
   ],
   "source": [
    "import transformers as ppb\n",
    "import numpy as np\n",
    "import pandas as pd\n",
    "from sklearn.preprocessing import LabelEncoder\n",
    "from keras.utils.np_utils import to_categorical\n",
    "import torch\n",
    "import math"
   ]
  },
  {
   "cell_type": "code",
   "execution_count": 2,
   "metadata": {},
   "outputs": [],
   "source": [
    "# For DistilBERT:\n",
    "#model_class, tokenizer_class, pretrained_weights = (ppb.DistilBertModel, ppb.DistilBertTokenizer, 'distilbert-base-cased')\n",
    "\n",
    "## Want BERT instead of distilBERT? Uncomment the following line:\n",
    "model_class, tokenizer_class, pretrained_weights = (ppb.BertModel, ppb.BertTokenizer, 'bert-base-cased')\n",
    "\n",
    "# Load pretrained model/tokenizer\n",
    "tokenizer = tokenizer_class.from_pretrained(pretrained_weights)\n",
    "model = model_class.from_pretrained(pretrained_weights)"
   ]
  },
  {
   "cell_type": "code",
   "execution_count": 3,
   "metadata": {},
   "outputs": [],
   "source": [
    "df = pd.read_csv(\"../datasets/ADR/train.tsv\", sep=\"\\t\", header=None)\n",
    "test_df = pd.read_csv(\"../datasets/ADR/test.tsv\", sep=\"\\t\", header=None)"
   ]
  },
  {
   "cell_type": "code",
   "execution_count": 4,
   "metadata": {},
   "outputs": [],
   "source": [
    "# Truncate long sentences to 128 tokens\n",
    "X = df[0].apply((lambda x: tokenizer.encode(x, add_special_tokens=True, max_length=128)))\n",
    "y = np.array(df[1])\n",
    "del df\n",
    "\n",
    "X_test = test_df[0].apply((lambda x: tokenizer.encode(x, add_special_tokens=True, max_length=128)))\n",
    "y_test = np.array(test_df[1])\n",
    "del test_df"
   ]
  },
  {
   "cell_type": "code",
   "execution_count": 5,
   "metadata": {},
   "outputs": [],
   "source": [
    "# One hot Encoding of y\n",
    "encoder = LabelEncoder()\n",
    "encoder.fit(y)\n",
    "\n",
    "y = encoder.transform(y)\n",
    "y = to_categorical(y)\n",
    "\n",
    "# One hot Encoding of y test\n",
    "y_oh = encoder.transform(y_test)\n",
    "y_oh = to_categorical(y_oh)"
   ]
  },
  {
   "cell_type": "code",
   "execution_count": 6,
   "metadata": {},
   "outputs": [],
   "source": [
    "def GetEmbeddings(tokenizedBatch):\n",
    "    max_len = 0\n",
    "    for i in tokenizedBatch.values:\n",
    "        if len(i) > max_len:\n",
    "            max_len = len(i)\n",
    "\n",
    "    padded = np.array([i + [0]*(max_len-len(i)) for i in tokenizedBatch.values])\n",
    "    \n",
    "    attention_mask = np.where(padded != 0, 1, 0)\n",
    "    \n",
    "    input_ids = torch.tensor(padded).to(torch.long)  \n",
    "    attention_mask = torch.tensor(attention_mask)\n",
    "\n",
    "    with torch.no_grad():\n",
    "        last_hidden_states = model(input_ids, attention_mask=attention_mask)\n",
    "    \n",
    "    features = last_hidden_states[0][:,0,:].numpy()\n",
    "    return features"
   ]
  },
  {
   "cell_type": "code",
   "execution_count": 7,
   "metadata": {
    "scrolled": false
   },
   "outputs": [
    {
     "name": "stdout",
     "output_type": "stream",
     "text": [
      "Generating Embeddings for Batch: 1 of 6\n",
      "Generating Embeddings for Batch: 2 of 6\n",
      "Generating Embeddings for Batch: 3 of 6\n",
      "Generating Embeddings for Batch: 4 of 6\n",
      "Generating Embeddings for Batch: 5 of 6\n",
      "Generating Embeddings for Batch: 6 of 6\n",
      "Generating Test Embeddings for Batch: 1 of 2\n",
      "Generating Test Embeddings for Batch: 2 of 2\n"
     ]
    }
   ],
   "source": [
    "BATCH_SIZE = 1000\n",
    "all_embeddings = []\n",
    "all_embeddings_test = []\n",
    "\n",
    "# Process Training Set Embeddings\n",
    "batches = math.ceil(X.shape[0] / BATCH_SIZE)\n",
    "\n",
    "for i in range(1, batches+1):\n",
    "    print(\"Generating Embeddings for Batch:\",i,\"of\", batches)\n",
    "    batchEmbeddings = GetEmbeddings(X[(i-1)*BATCH_SIZE:i*BATCH_SIZE])\n",
    "    all_embeddings.append(batchEmbeddings)\n",
    "\n",
    "# Process Test Set Embeddings\n",
    "batches = math.ceil(X_test.shape[0] / BATCH_SIZE)\n",
    "\n",
    "for i in range(1, batches+1):\n",
    "    print(\"Generating Test Embeddings for Batch:\",i,\"of\", batches)\n",
    "    batchEmbeddings = GetEmbeddings(X_test[(i-1)*BATCH_SIZE:i*BATCH_SIZE])\n",
    "    all_embeddings_test.append(batchEmbeddings)"
   ]
  },
  {
   "cell_type": "code",
   "execution_count": 8,
   "metadata": {},
   "outputs": [],
   "source": [
    "all_embeddings = np.concatenate(all_embeddings, axis=0)\n",
    "all_embeddings_test = np.concatenate(all_embeddings_test, axis=0)"
   ]
  },
  {
   "cell_type": "code",
   "execution_count": 9,
   "metadata": {},
   "outputs": [],
   "source": [
    "np.save('../binary/bert_embeddings_twitter.npy', all_embeddings)\n",
    "np.save('../binary/y_twitter.npy', y)\n",
    "np.save('../binary/bert_embeddings_test_twitter.npy', all_embeddings_test)\n",
    "np.save('../binary/y_test_twitter.npy', y_oh)"
   ]
  },
  {
   "cell_type": "markdown",
   "metadata": {},
   "source": [
    "# Train Model"
   ]
  },
  {
   "cell_type": "code",
   "execution_count": 10,
   "metadata": {},
   "outputs": [],
   "source": [
    "import tensorflow as tf\n",
    "import tensorflow.keras as keras \n",
    "from keras.layers import Input, Lambda, Dense\n",
    "from keras.models import Model\n",
    "from keras.callbacks import EarlyStopping\n",
    "import keras.backend as K\n",
    "from keras.optimizers import adam, sgd"
   ]
  },
  {
   "cell_type": "code",
   "execution_count": 11,
   "metadata": {},
   "outputs": [],
   "source": [
    "all_embeddings = np.load('../binary/bert_embeddings_twitter.npy')\n",
    "y = np.load('../binary/y_twitter.npy')\n",
    "all_embeddings_test = np.load('../binary/bert_embeddings_test_twitter.npy')\n",
    "y_oh = np.load('../binary/y_test_twitter.npy')"
   ]
  },
  {
   "cell_type": "code",
   "execution_count": 38,
   "metadata": {},
   "outputs": [],
   "source": [
    "#sgd = sgd(lr=0.01, decay=1e-6, momentum=0.9, nesterov=True)\n",
    "optim = adam(lr=0.0003, beta_1=0.9, beta_2=0.999, amsgrad=False)"
   ]
  },
  {
   "cell_type": "code",
   "execution_count": 39,
   "metadata": {},
   "outputs": [],
   "source": [
    "def build_model(): \n",
    "    embedding = Input(shape=(768,), dtype=\"float\")\n",
    "    dense1 = Dense(1000, activation='relu', kernel_regularizer=keras.regularizers.l2(0.001))(embedding)\n",
    "    dense2 = Dense(1000, activation='relu', kernel_regularizer=keras.regularizers.l2(0.001))(dense1)\n",
    "    dense3 = Dense(1000, activation='relu', kernel_regularizer=keras.regularizers.l2(0.001))(dense2)\n",
    "    dense4 = Dense(1000, activation='relu', kernel_regularizer=keras.regularizers.l2(0.001))(dense3)\n",
    "    dense5 = Dense(1000, activation='relu', kernel_regularizer=keras.regularizers.l2(0.001))(dense4)\n",
    "    dense6 = Dense(1000, activation='relu', kernel_regularizer=keras.regularizers.l2(0.001))(dense5)\n",
    "    dense7 = Dense(1000, activation='relu', kernel_regularizer=keras.regularizers.l2(0.001))(dense6)\n",
    "    dense8 = Dense(1000, activation='relu', kernel_regularizer=keras.regularizers.l2(0.001))(dense7)\n",
    "    dense9 = Dense(1000, activation='relu', kernel_regularizer=keras.regularizers.l2(0.001))(dense8)\n",
    "    dense10 = Dense(1000, activation='relu', kernel_regularizer=keras.regularizers.l2(0.001))(dense9)\n",
    "    pred = Dense(2, activation='sigmoid')(dense9)\n",
    "    model = Model(inputs=[embedding], outputs=pred)\n",
    "    model.compile(loss='categorical_crossentropy', optimizer=optim, metrics=['accuracy'], )\n",
    "    return model"
   ]
  },
  {
   "cell_type": "code",
   "execution_count": 40,
   "metadata": {},
   "outputs": [],
   "source": [
    "model_bert = build_model()"
   ]
  },
  {
   "cell_type": "code",
   "execution_count": 41,
   "metadata": {},
   "outputs": [
    {
     "name": "stdout",
     "output_type": "stream",
     "text": [
      "_________________________________________________________________\n",
      "Layer (type)                 Output Shape              Param #   \n",
      "=================================================================\n",
      "input_4 (InputLayer)         (None, 768)               0         \n",
      "_________________________________________________________________\n",
      "dense_34 (Dense)             (None, 1000)              769000    \n",
      "_________________________________________________________________\n",
      "dense_35 (Dense)             (None, 1000)              1001000   \n",
      "_________________________________________________________________\n",
      "dense_36 (Dense)             (None, 1000)              1001000   \n",
      "_________________________________________________________________\n",
      "dense_37 (Dense)             (None, 1000)              1001000   \n",
      "_________________________________________________________________\n",
      "dense_38 (Dense)             (None, 1000)              1001000   \n",
      "_________________________________________________________________\n",
      "dense_39 (Dense)             (None, 1000)              1001000   \n",
      "_________________________________________________________________\n",
      "dense_40 (Dense)             (None, 1000)              1001000   \n",
      "_________________________________________________________________\n",
      "dense_41 (Dense)             (None, 1000)              1001000   \n",
      "_________________________________________________________________\n",
      "dense_42 (Dense)             (None, 1000)              1001000   \n",
      "_________________________________________________________________\n",
      "dense_44 (Dense)             (None, 2)                 2002      \n",
      "=================================================================\n",
      "Total params: 8,779,002\n",
      "Trainable params: 8,779,002\n",
      "Non-trainable params: 0\n",
      "_________________________________________________________________\n"
     ]
    }
   ],
   "source": [
    "model_bert.summary()"
   ]
  },
  {
   "cell_type": "markdown",
   "metadata": {},
   "source": [
    "# Change to training set"
   ]
  },
  {
   "cell_type": "code",
   "execution_count": 51,
   "metadata": {},
   "outputs": [],
   "source": [
    "es = EarlyStopping(monitor='loss', patience=15)\n",
    "cb_list = [es]"
   ]
  },
  {
   "cell_type": "code",
   "execution_count": 52,
   "metadata": {
    "scrolled": false
   },
   "outputs": [
    {
     "name": "stdout",
     "output_type": "stream",
     "text": [
      "Train on 5911 samples, validate on 6 samples\n",
      "Epoch 1/1000\n",
      "5911/5911 [==============================] - 2s 286us/step - loss: 9.5584 - acc: 0.5023 - val_loss: 9.4203 - val_acc: 0.6667\n"
     ]
    },
    {
     "name": "stderr",
     "output_type": "stream",
     "text": [
      "Exception ignored in: <function BaseSession._Callable.__del__ at 0x00000215278B9620>\n",
      "Traceback (most recent call last):\n",
      "  File \"C:\\Users\\bisedab\\AppData\\Local\\Continuum\\anaconda3\\lib\\site-packages\\tensorflow\\python\\client\\session.py\", line 1455, in __del__\n",
      "    self._session._session, self._handle, status)\n",
      "  File \"C:\\Users\\bisedab\\AppData\\Local\\Continuum\\anaconda3\\lib\\site-packages\\tensorflow\\python\\framework\\errors_impl.py\", line 528, in __exit__\n",
      "    c_api.TF_GetCode(self.status.status))\n",
      "tensorflow.python.framework.errors_impl.CancelledError: Session has been closed.\n",
      "Exception ignored in: <function BaseSession._Callable.__del__ at 0x00000215278B9620>\n",
      "Traceback (most recent call last):\n",
      "  File \"C:\\Users\\bisedab\\AppData\\Local\\Continuum\\anaconda3\\lib\\site-packages\\tensorflow\\python\\client\\session.py\", line 1455, in __del__\n",
      "    self._session._session, self._handle, status)\n",
      "  File \"C:\\Users\\bisedab\\AppData\\Local\\Continuum\\anaconda3\\lib\\site-packages\\tensorflow\\python\\framework\\errors_impl.py\", line 528, in __exit__\n",
      "    c_api.TF_GetCode(self.status.status))\n",
      "tensorflow.python.framework.errors_impl.CancelledError: Session has been closed.\n"
     ]
    },
    {
     "name": "stdout",
     "output_type": "stream",
     "text": [
      "Epoch 2/1000\n",
      "5911/5911 [==============================] - 0s 12us/step - loss: 9.4218 - acc: 0.6231 - val_loss: 9.2882 - val_acc: 0.6667\n",
      "Epoch 3/1000\n",
      "5911/5911 [==============================] - 0s 12us/step - loss: 9.2846 - acc: 0.6275 - val_loss: 9.1429 - val_acc: 0.6667\n",
      "Epoch 4/1000\n",
      "5911/5911 [==============================] - 0s 12us/step - loss: 9.1492 - acc: 0.5881 - val_loss: 9.0476 - val_acc: 0.3333\n",
      "Epoch 5/1000\n",
      "5911/5911 [==============================] - 0s 11us/step - loss: 9.0208 - acc: 0.5018 - val_loss: 8.8776 - val_acc: 0.6667\n",
      "Epoch 6/1000\n",
      "5911/5911 [==============================] - 0s 14us/step - loss: 8.8859 - acc: 0.6075 - val_loss: 8.7534 - val_acc: 0.6667\n",
      "Epoch 7/1000\n",
      "5911/5911 [==============================] - 0s 13us/step - loss: 8.7511 - acc: 0.6759 - val_loss: 8.6568 - val_acc: 0.6667\n",
      "Epoch 8/1000\n",
      "5911/5911 [==============================] - 0s 12us/step - loss: 8.6256 - acc: 0.6018 - val_loss: 8.4936 - val_acc: 0.6667\n",
      "Epoch 9/1000\n",
      "5911/5911 [==============================] - 0s 13us/step - loss: 8.5224 - acc: 0.5781 - val_loss: 8.4010 - val_acc: 0.6667\n",
      "Epoch 10/1000\n",
      "5911/5911 [==============================] - 0s 11us/step - loss: 8.3631 - acc: 0.6919 - val_loss: 8.2944 - val_acc: 0.5000\n",
      "Epoch 11/1000\n",
      "5911/5911 [==============================] - 0s 12us/step - loss: 8.2438 - acc: 0.6913 - val_loss: 8.1744 - val_acc: 0.6667\n",
      "Epoch 12/1000\n",
      "5911/5911 [==============================] - 0s 14us/step - loss: 8.1922 - acc: 0.6078 - val_loss: 8.0760 - val_acc: 0.5000\n",
      "Epoch 13/1000\n",
      "5911/5911 [==============================] - 0s 11us/step - loss: 8.0009 - acc: 0.7068 - val_loss: 8.1040 - val_acc: 0.6667\n",
      "Epoch 14/1000\n",
      "5911/5911 [==============================] - 0s 11us/step - loss: 8.0526 - acc: 0.5840 - val_loss: 7.8778 - val_acc: 0.6667\n",
      "Epoch 15/1000\n",
      "5911/5911 [==============================] - 0s 13us/step - loss: 7.8497 - acc: 0.6552 - val_loss: 7.7841 - val_acc: 0.6667\n",
      "Epoch 16/1000\n",
      "5911/5911 [==============================] - 0s 12us/step - loss: 7.8205 - acc: 0.5947 - val_loss: 7.6852 - val_acc: 0.6667\n",
      "Epoch 17/1000\n",
      "5911/5911 [==============================] - 0s 11us/step - loss: 7.7052 - acc: 0.6087 - val_loss: 7.5975 - val_acc: 0.6667\n",
      "Epoch 18/1000\n",
      "5911/5911 [==============================] - 0s 10us/step - loss: 7.5792 - acc: 0.6603 - val_loss: 7.5310 - val_acc: 0.5000\n",
      "Epoch 19/1000\n",
      "5911/5911 [==============================] - 0s 11us/step - loss: 7.4716 - acc: 0.7119 - val_loss: 7.4755 - val_acc: 0.5000\n",
      "Epoch 20/1000\n",
      "5911/5911 [==============================] - 0s 12us/step - loss: 7.3963 - acc: 0.6977 - val_loss: 7.3956 - val_acc: 0.6667\n",
      "Epoch 21/1000\n",
      "5911/5911 [==============================] - 0s 12us/step - loss: 7.3262 - acc: 0.6554 - val_loss: 7.3077 - val_acc: 0.6667\n",
      "Epoch 22/1000\n",
      "5911/5911 [==============================] - 0s 13us/step - loss: 7.2365 - acc: 0.6608 - val_loss: 7.2156 - val_acc: 0.5000\n",
      "Epoch 23/1000\n",
      "5911/5911 [==============================] - 0s 12us/step - loss: 7.1338 - acc: 0.6992 - val_loss: 7.1161 - val_acc: 0.5000\n",
      "Epoch 24/1000\n",
      "5911/5911 [==============================] - 0s 12us/step - loss: 7.0362 - acc: 0.7173 - val_loss: 7.0067 - val_acc: 0.6667\n",
      "Epoch 25/1000\n",
      "5911/5911 [==============================] - 0s 11us/step - loss: 6.9495 - acc: 0.7224 - val_loss: 6.9126 - val_acc: 0.6667\n",
      "Epoch 26/1000\n",
      "5911/5911 [==============================] - 0s 12us/step - loss: 6.8660 - acc: 0.7016 - val_loss: 6.8248 - val_acc: 0.6667\n",
      "Epoch 27/1000\n",
      "5911/5911 [==============================] - 0s 11us/step - loss: 6.7784 - acc: 0.6980 - val_loss: 6.7408 - val_acc: 0.6667\n",
      "Epoch 28/1000\n",
      "5911/5911 [==============================] - 0s 12us/step - loss: 6.6846 - acc: 0.7068 - val_loss: 6.6638 - val_acc: 0.6667\n",
      "Epoch 29/1000\n",
      "5911/5911 [==============================] - 0s 13us/step - loss: 6.5910 - acc: 0.7246 - val_loss: 6.5968 - val_acc: 0.5000\n",
      "Epoch 30/1000\n",
      "5911/5911 [==============================] - 0s 11us/step - loss: 6.5155 - acc: 0.7322 - val_loss: 6.5065 - val_acc: 0.5000\n",
      "Epoch 31/1000\n",
      "5911/5911 [==============================] - 0s 12us/step - loss: 6.4346 - acc: 0.7339 - val_loss: 6.4238 - val_acc: 0.6667\n",
      "Epoch 32/1000\n",
      "5911/5911 [==============================] - 0s 11us/step - loss: 6.3485 - acc: 0.7307 - val_loss: 6.3565 - val_acc: 0.6667\n",
      "Epoch 33/1000\n",
      "5911/5911 [==============================] - 0s 11us/step - loss: 6.2774 - acc: 0.7329 - val_loss: 6.2338 - val_acc: 0.6667\n",
      "Epoch 34/1000\n",
      "5911/5911 [==============================] - 0s 13us/step - loss: 6.1844 - acc: 0.7425 - val_loss: 6.0984 - val_acc: 0.5000\n",
      "Epoch 35/1000\n",
      "5911/5911 [==============================] - 0s 12us/step - loss: 6.1127 - acc: 0.7447 - val_loss: 6.0105 - val_acc: 0.6667\n",
      "Epoch 36/1000\n",
      "5911/5911 [==============================] - 0s 14us/step - loss: 6.0288 - acc: 0.7542 - val_loss: 5.9541 - val_acc: 0.6667\n",
      "Epoch 37/1000\n",
      "5911/5911 [==============================] - 0s 12us/step - loss: 5.9571 - acc: 0.7515 - val_loss: 5.8647 - val_acc: 0.6667\n",
      "Epoch 38/1000\n",
      "5911/5911 [==============================] - 0s 11us/step - loss: 5.8864 - acc: 0.7586 - val_loss: 5.7453 - val_acc: 0.8333\n",
      "Epoch 39/1000\n",
      "5911/5911 [==============================] - 0s 11us/step - loss: 5.8115 - acc: 0.7552 - val_loss: 5.6524 - val_acc: 0.8333\n",
      "Epoch 40/1000\n",
      "5911/5911 [==============================] - 0s 13us/step - loss: 5.7447 - acc: 0.7567 - val_loss: 5.5790 - val_acc: 0.8333\n",
      "Epoch 41/1000\n",
      "5911/5911 [==============================] - 0s 11us/step - loss: 5.6670 - acc: 0.7755 - val_loss: 5.5130 - val_acc: 0.8333\n",
      "Epoch 42/1000\n",
      "5911/5911 [==============================] - 0s 11us/step - loss: 5.6015 - acc: 0.7733 - val_loss: 5.3915 - val_acc: 0.8333\n",
      "Epoch 43/1000\n",
      "5911/5911 [==============================] - 0s 13us/step - loss: 5.5288 - acc: 0.7708 - val_loss: 5.3162 - val_acc: 0.8333\n",
      "Epoch 44/1000\n",
      "5911/5911 [==============================] - 0s 13us/step - loss: 5.4583 - acc: 0.7765 - val_loss: 5.2930 - val_acc: 0.8333\n",
      "Epoch 45/1000\n",
      "5911/5911 [==============================] - 0s 12us/step - loss: 5.4000 - acc: 0.7789 - val_loss: 5.1768 - val_acc: 0.8333\n",
      "Epoch 46/1000\n",
      "5911/5911 [==============================] - 0s 12us/step - loss: 5.3341 - acc: 0.7726 - val_loss: 5.1566 - val_acc: 0.8333\n",
      "Epoch 47/1000\n",
      "5911/5911 [==============================] - 0s 13us/step - loss: 5.2603 - acc: 0.7814 - val_loss: 5.0919 - val_acc: 0.8333\n",
      "Epoch 48/1000\n",
      "5911/5911 [==============================] - 0s 12us/step - loss: 5.1925 - acc: 0.7879 - val_loss: 5.0255 - val_acc: 0.8333\n",
      "Epoch 49/1000\n",
      "5911/5911 [==============================] - 0s 13us/step - loss: 5.1349 - acc: 0.7870 - val_loss: 5.0217 - val_acc: 0.8333\n",
      "Epoch 50/1000\n",
      "5911/5911 [==============================] - 0s 11us/step - loss: 5.0779 - acc: 0.7995 - val_loss: 4.9234 - val_acc: 0.8333\n",
      "Epoch 51/1000\n",
      "5911/5911 [==============================] - 0s 12us/step - loss: 5.0107 - acc: 0.7988 - val_loss: 4.8906 - val_acc: 0.8333\n",
      "Epoch 52/1000\n",
      "5911/5911 [==============================] - 0s 13us/step - loss: 4.9441 - acc: 0.8109 - val_loss: 4.8298 - val_acc: 0.8333\n",
      "Epoch 53/1000\n",
      "5911/5911 [==============================] - 0s 11us/step - loss: 4.8814 - acc: 0.8159 - val_loss: 4.7547 - val_acc: 0.8333\n",
      "Epoch 54/1000\n",
      "5911/5911 [==============================] - 0s 14us/step - loss: 4.8243 - acc: 0.8097 - val_loss: 4.7993 - val_acc: 0.8333\n",
      "Epoch 55/1000\n",
      "5911/5911 [==============================] - 0s 14us/step - loss: 4.7937 - acc: 0.8014 - val_loss: 4.6909 - val_acc: 0.8333\n",
      "Epoch 56/1000\n",
      "5911/5911 [==============================] - 0s 11us/step - loss: 4.8621 - acc: 0.7050 - val_loss: 4.9152 - val_acc: 0.6667\n",
      "Epoch 57/1000\n",
      "5911/5911 [==============================] - 0s 12us/step - loss: 4.8590 - acc: 0.6919 - val_loss: 4.7091 - val_acc: 0.6667\n",
      "Epoch 58/1000\n",
      "5911/5911 [==============================] - 0s 13us/step - loss: 4.6762 - acc: 0.7538 - val_loss: 4.5774 - val_acc: 0.8333\n",
      "Epoch 59/1000\n",
      "5911/5911 [==============================] - 0s 11us/step - loss: 4.6340 - acc: 0.7593 - val_loss: 4.5846 - val_acc: 0.8333\n",
      "Epoch 60/1000\n",
      "5911/5911 [==============================] - 0s 11us/step - loss: 4.6268 - acc: 0.7066 - val_loss: 4.5141 - val_acc: 0.8333\n",
      "Epoch 61/1000\n",
      "5911/5911 [==============================] - 0s 11us/step - loss: 4.5150 - acc: 0.8188 - val_loss: 4.5245 - val_acc: 0.6667\n"
     ]
    },
    {
     "name": "stdout",
     "output_type": "stream",
     "text": [
      "Epoch 62/1000\n",
      "5911/5911 [==============================] - 0s 13us/step - loss: 4.4946 - acc: 0.7811 - val_loss: 4.5020 - val_acc: 0.6667\n",
      "Epoch 63/1000\n",
      "5911/5911 [==============================] - 0s 13us/step - loss: 4.4731 - acc: 0.7315 - val_loss: 4.4495 - val_acc: 0.6667\n",
      "Epoch 64/1000\n",
      "5911/5911 [==============================] - 0s 14us/step - loss: 4.4088 - acc: 0.7596 - val_loss: 4.3564 - val_acc: 0.8333\n",
      "Epoch 65/1000\n",
      "5911/5911 [==============================] - 0s 13us/step - loss: 4.3213 - acc: 0.8163 - val_loss: 4.2648 - val_acc: 0.6667\n",
      "Epoch 66/1000\n",
      "5911/5911 [==============================] - 0s 11us/step - loss: 4.2856 - acc: 0.7907 - val_loss: 4.2054 - val_acc: 0.8333\n",
      "Epoch 67/1000\n",
      "5911/5911 [==============================] - 0s 13us/step - loss: 4.2516 - acc: 0.7853 - val_loss: 4.1646 - val_acc: 0.8333\n",
      "Epoch 68/1000\n",
      "5911/5911 [==============================] - 0s 14us/step - loss: 4.1617 - acc: 0.8215 - val_loss: 4.2219 - val_acc: 0.6667\n",
      "Epoch 69/1000\n",
      "5911/5911 [==============================] - 0s 13us/step - loss: 4.1463 - acc: 0.7951 - val_loss: 4.1729 - val_acc: 0.6667\n",
      "Epoch 70/1000\n",
      "5911/5911 [==============================] - 0s 11us/step - loss: 4.0989 - acc: 0.8026 - val_loss: 3.9768 - val_acc: 0.8333\n",
      "Epoch 71/1000\n",
      "5911/5911 [==============================] - 0s 11us/step - loss: 4.0314 - acc: 0.8266 - val_loss: 3.8839 - val_acc: 0.8333\n",
      "Epoch 72/1000\n",
      "5911/5911 [==============================] - 0s 12us/step - loss: 4.0231 - acc: 0.8071 - val_loss: 3.9209 - val_acc: 0.8333\n",
      "Epoch 73/1000\n",
      "5911/5911 [==============================] - 0s 12us/step - loss: 3.9419 - acc: 0.8295 - val_loss: 3.9691 - val_acc: 0.6667\n",
      "Epoch 74/1000\n",
      "5911/5911 [==============================] - 0s 13us/step - loss: 3.9273 - acc: 0.8124 - val_loss: 3.8242 - val_acc: 0.8333\n",
      "Epoch 75/1000\n",
      "5911/5911 [==============================] - 0s 11us/step - loss: 3.8569 - acc: 0.8318 - val_loss: 3.6969 - val_acc: 1.0000\n",
      "Epoch 76/1000\n",
      "5911/5911 [==============================] - 0s 12us/step - loss: 3.8379 - acc: 0.8230 - val_loss: 3.6796 - val_acc: 0.8333\n",
      "Epoch 77/1000\n",
      "5911/5911 [==============================] - 0s 11us/step - loss: 3.7784 - acc: 0.8318 - val_loss: 3.7244 - val_acc: 0.8333\n",
      "Epoch 78/1000\n",
      "5911/5911 [==============================] - 0s 13us/step - loss: 3.7493 - acc: 0.8325 - val_loss: 3.6674 - val_acc: 0.8333\n",
      "Epoch 79/1000\n",
      "5911/5911 [==============================] - 0s 11us/step - loss: 3.7065 - acc: 0.8376 - val_loss: 3.5364 - val_acc: 1.0000\n",
      "Epoch 80/1000\n",
      "5911/5911 [==============================] - 0s 14us/step - loss: 3.6626 - acc: 0.8393 - val_loss: 3.4867 - val_acc: 1.0000\n",
      "Epoch 81/1000\n",
      "5911/5911 [==============================] - 0s 11us/step - loss: 3.6267 - acc: 0.8403 - val_loss: 3.5281 - val_acc: 0.8333\n",
      "Epoch 82/1000\n",
      "5911/5911 [==============================] - 0s 11us/step - loss: 3.5841 - acc: 0.8486 - val_loss: 3.4887 - val_acc: 0.8333\n",
      "Epoch 83/1000\n",
      "5911/5911 [==============================] - 0s 11us/step - loss: 3.5443 - acc: 0.8523 - val_loss: 3.3547 - val_acc: 1.0000\n",
      "Epoch 84/1000\n",
      "5911/5911 [==============================] - 0s 11us/step - loss: 3.5111 - acc: 0.8415 - val_loss: 3.3615 - val_acc: 0.8333\n",
      "Epoch 85/1000\n",
      "5911/5911 [==============================] - 0s 11us/step - loss: 3.4576 - acc: 0.8680 - val_loss: 3.3823 - val_acc: 0.8333\n",
      "Epoch 86/1000\n",
      "5911/5911 [==============================] - 0s 13us/step - loss: 3.4286 - acc: 0.8584 - val_loss: 3.2316 - val_acc: 1.0000\n",
      "Epoch 87/1000\n",
      "5911/5911 [==============================] - 0s 11us/step - loss: 3.3923 - acc: 0.8576 - val_loss: 3.2927 - val_acc: 0.8333\n",
      "Epoch 88/1000\n",
      "5911/5911 [==============================] - 0s 11us/step - loss: 3.3501 - acc: 0.8652 - val_loss: 3.1720 - val_acc: 1.0000\n",
      "Epoch 89/1000\n",
      "5911/5911 [==============================] - 0s 10us/step - loss: 3.3038 - acc: 0.8758 - val_loss: 3.1185 - val_acc: 1.0000\n",
      "Epoch 90/1000\n",
      "5911/5911 [==============================] - 0s 13us/step - loss: 3.2662 - acc: 0.8784 - val_loss: 3.1679 - val_acc: 0.8333\n",
      "Epoch 91/1000\n",
      "5911/5911 [==============================] - 0s 11us/step - loss: 3.2420 - acc: 0.8723 - val_loss: 3.0694 - val_acc: 1.0000\n",
      "Epoch 92/1000\n",
      "5911/5911 [==============================] - 0s 13us/step - loss: 3.2550 - acc: 0.8296 - val_loss: 3.6111 - val_acc: 0.6667\n",
      "Epoch 93/1000\n",
      "5911/5911 [==============================] - 0s 14us/step - loss: 3.4986 - acc: 0.7141 - val_loss: 3.0837 - val_acc: 1.0000\n",
      "Epoch 94/1000\n",
      "5911/5911 [==============================] - 0s 13us/step - loss: 3.1380 - acc: 0.8860 - val_loss: 3.5673 - val_acc: 0.6667\n",
      "Epoch 95/1000\n",
      "5911/5911 [==============================] - 0s 13us/step - loss: 3.6113 - acc: 0.6129 - val_loss: 3.2951 - val_acc: 0.6667\n",
      "Epoch 96/1000\n",
      "5911/5911 [==============================] - 0s 13us/step - loss: 3.1923 - acc: 0.8124 - val_loss: 3.3631 - val_acc: 0.6667\n",
      "Epoch 97/1000\n",
      "5911/5911 [==============================] - 0s 13us/step - loss: 3.3549 - acc: 0.6495 - val_loss: 3.3239 - val_acc: 0.6667\n",
      "Epoch 98/1000\n",
      "5911/5911 [==============================] - 0s 11us/step - loss: 3.3375 - acc: 0.6297 - val_loss: 3.2809 - val_acc: 0.6667\n",
      "Epoch 99/1000\n",
      "5911/5911 [==============================] - 0s 12us/step - loss: 3.2717 - acc: 0.6764 - val_loss: 3.2543 - val_acc: 0.6667\n",
      "Epoch 100/1000\n",
      "5911/5911 [==============================] - 0s 14us/step - loss: 3.2103 - acc: 0.7625 - val_loss: 3.2288 - val_acc: 0.6667\n",
      "Epoch 101/1000\n",
      "5911/5911 [==============================] - 0s 12us/step - loss: 3.1621 - acc: 0.8442 - val_loss: 3.1986 - val_acc: 0.8333\n",
      "Epoch 102/1000\n",
      "5911/5911 [==============================] - 0s 12us/step - loss: 3.1414 - acc: 0.8038 - val_loss: 3.2020 - val_acc: 0.8333\n",
      "Epoch 103/1000\n",
      "5911/5911 [==============================] - 0s 12us/step - loss: 3.1420 - acc: 0.7187 - val_loss: 3.1979 - val_acc: 0.6667\n",
      "Epoch 104/1000\n",
      "5911/5911 [==============================] - 0s 13us/step - loss: 3.1326 - acc: 0.6841 - val_loss: 3.1572 - val_acc: 0.6667\n",
      "Epoch 105/1000\n",
      "5911/5911 [==============================] - 0s 13us/step - loss: 3.0952 - acc: 0.7122 - val_loss: 3.1005 - val_acc: 0.8333\n",
      "Epoch 106/1000\n",
      "5911/5911 [==============================] - 0s 14us/step - loss: 3.0374 - acc: 0.7767 - val_loss: 3.0729 - val_acc: 0.6667\n",
      "Epoch 107/1000\n",
      "5911/5911 [==============================] - 0s 13us/step - loss: 2.9863 - acc: 0.8313 - val_loss: 3.0573 - val_acc: 0.6667\n",
      "Epoch 108/1000\n",
      "5911/5911 [==============================] - 0s 11us/step - loss: 2.9553 - acc: 0.8252 - val_loss: 3.0336 - val_acc: 0.6667\n",
      "Epoch 109/1000\n",
      "5911/5911 [==============================] - 0s 12us/step - loss: 2.9336 - acc: 0.7950 - val_loss: 3.0114 - val_acc: 0.6667\n",
      "Epoch 110/1000\n",
      "5911/5911 [==============================] - 0s 13us/step - loss: 2.9069 - acc: 0.7780 - val_loss: 2.9850 - val_acc: 0.6667\n",
      "Epoch 111/1000\n",
      "5911/5911 [==============================] - 0s 11us/step - loss: 2.8674 - acc: 0.7931 - val_loss: 2.9356 - val_acc: 0.6667\n",
      "Epoch 112/1000\n",
      "5911/5911 [==============================] - 0s 11us/step - loss: 2.8196 - acc: 0.8237 - val_loss: 2.8206 - val_acc: 0.6667\n",
      "Epoch 113/1000\n",
      "5911/5911 [==============================] - 0s 11us/step - loss: 2.7962 - acc: 0.8339 - val_loss: 2.7119 - val_acc: 1.0000\n",
      "Epoch 114/1000\n",
      "5911/5911 [==============================] - 0s 12us/step - loss: 2.7870 - acc: 0.8301 - val_loss: 2.7055 - val_acc: 0.8333\n",
      "Epoch 115/1000\n",
      "5911/5911 [==============================] - 0s 11us/step - loss: 2.7364 - acc: 0.8444 - val_loss: 2.7749 - val_acc: 0.6667\n",
      "Epoch 116/1000\n",
      "5911/5911 [==============================] - 0s 12us/step - loss: 2.7150 - acc: 0.8413 - val_loss: 2.7189 - val_acc: 0.6667\n",
      "Epoch 117/1000\n",
      "5911/5911 [==============================] - 0s 13us/step - loss: 2.6868 - acc: 0.8444 - val_loss: 2.5457 - val_acc: 0.8333\n",
      "Epoch 118/1000\n",
      "5911/5911 [==============================] - 0s 12us/step - loss: 2.6410 - acc: 0.8614 - val_loss: 2.4740 - val_acc: 1.0000\n",
      "Epoch 119/1000\n",
      "5911/5911 [==============================] - 0s 11us/step - loss: 2.6309 - acc: 0.8464 - val_loss: 2.4620 - val_acc: 1.0000\n",
      "Epoch 120/1000\n",
      "5911/5911 [==============================] - 0s 11us/step - loss: 2.5933 - acc: 0.8702 - val_loss: 2.4895 - val_acc: 0.8333\n",
      "Epoch 121/1000\n",
      "5911/5911 [==============================] - 0s 13us/step - loss: 2.5734 - acc: 0.8686 - val_loss: 2.4676 - val_acc: 0.8333\n"
     ]
    },
    {
     "name": "stdout",
     "output_type": "stream",
     "text": [
      "Epoch 122/1000\n",
      "5911/5911 [==============================] - 0s 13us/step - loss: 2.5546 - acc: 0.8687 - val_loss: 2.3918 - val_acc: 1.0000\n",
      "Epoch 123/1000\n",
      "5911/5911 [==============================] - 0s 13us/step - loss: 2.5203 - acc: 0.8828 - val_loss: 2.3631 - val_acc: 1.0000\n",
      "Epoch 124/1000\n",
      "5911/5911 [==============================] - 0s 14us/step - loss: 2.5068 - acc: 0.8750 - val_loss: 2.3331 - val_acc: 1.0000\n",
      "Epoch 125/1000\n",
      "5911/5911 [==============================] - 0s 11us/step - loss: 2.4695 - acc: 0.8900 - val_loss: 2.3299 - val_acc: 1.0000\n",
      "Epoch 126/1000\n",
      "5911/5911 [==============================] - 0s 13us/step - loss: 2.4530 - acc: 0.8848 - val_loss: 2.2797 - val_acc: 1.0000\n",
      "Epoch 127/1000\n",
      "5911/5911 [==============================] - 0s 11us/step - loss: 2.4185 - acc: 0.8951 - val_loss: 2.2510 - val_acc: 1.0000\n",
      "Epoch 128/1000\n",
      "5911/5911 [==============================] - 0s 13us/step - loss: 2.4058 - acc: 0.8883 - val_loss: 2.2414 - val_acc: 1.0000\n",
      "Epoch 129/1000\n",
      "5911/5911 [==============================] - 0s 13us/step - loss: 2.3720 - acc: 0.8985 - val_loss: 2.2189 - val_acc: 1.0000\n",
      "Epoch 130/1000\n",
      "5911/5911 [==============================] - 0s 13us/step - loss: 2.3457 - acc: 0.9053 - val_loss: 2.1726 - val_acc: 1.0000\n",
      "Epoch 131/1000\n",
      "5911/5911 [==============================] - 0s 11us/step - loss: 2.3394 - acc: 0.8965 - val_loss: 2.2881 - val_acc: 0.8333\n",
      "Epoch 132/1000\n",
      "5911/5911 [==============================] - 0s 11us/step - loss: 2.3368 - acc: 0.8938 - val_loss: 2.1297 - val_acc: 1.0000\n",
      "Epoch 133/1000\n",
      "5911/5911 [==============================] - 0s 13us/step - loss: 2.2746 - acc: 0.9198 - val_loss: 2.1212 - val_acc: 1.0000\n",
      "Epoch 134/1000\n",
      "5911/5911 [==============================] - 0s 11us/step - loss: 2.2691 - acc: 0.9076 - val_loss: 2.2605 - val_acc: 1.0000\n",
      "Epoch 135/1000\n",
      "5911/5911 [==============================] - 0s 12us/step - loss: 2.3141 - acc: 0.8751 - val_loss: 2.0849 - val_acc: 1.0000\n",
      "Epoch 136/1000\n",
      "5911/5911 [==============================] - 0s 13us/step - loss: 2.2104 - acc: 0.9308 - val_loss: 2.1677 - val_acc: 1.0000\n",
      "Epoch 137/1000\n",
      "5911/5911 [==============================] - 0s 11us/step - loss: 2.3096 - acc: 0.8584 - val_loss: 2.6559 - val_acc: 0.6667\n",
      "Epoch 138/1000\n",
      "5911/5911 [==============================] - 0s 11us/step - loss: 2.5090 - acc: 0.7586 - val_loss: 2.5544 - val_acc: 0.6667\n",
      "Epoch 139/1000\n",
      "5911/5911 [==============================] - 0s 11us/step - loss: 2.4045 - acc: 0.7779 - val_loss: 2.1311 - val_acc: 1.0000\n",
      "Epoch 140/1000\n",
      "5911/5911 [==============================] - 0s 11us/step - loss: 2.1798 - acc: 0.9318 - val_loss: 2.5983 - val_acc: 0.6667\n",
      "Epoch 141/1000\n",
      "5911/5911 [==============================] - 0s 11us/step - loss: 2.5972 - acc: 0.6716 - val_loss: 2.3781 - val_acc: 0.6667\n",
      "Epoch 142/1000\n",
      "5911/5911 [==============================] - 0s 13us/step - loss: 2.2388 - acc: 0.8714 - val_loss: 2.4650 - val_acc: 0.6667\n",
      "Epoch 143/1000\n",
      "5911/5911 [==============================] - 0s 13us/step - loss: 2.3958 - acc: 0.7112 - val_loss: 2.4690 - val_acc: 0.6667\n",
      "Epoch 144/1000\n",
      "5911/5911 [==============================] - 0s 12us/step - loss: 2.4541 - acc: 0.6430 - val_loss: 2.4529 - val_acc: 0.6667\n",
      "Epoch 145/1000\n",
      "5911/5911 [==============================] - 0s 13us/step - loss: 2.4422 - acc: 0.6403 - val_loss: 2.4339 - val_acc: 0.6667\n",
      "Epoch 146/1000\n",
      "5911/5911 [==============================] - 0s 12us/step - loss: 2.4005 - acc: 0.6721 - val_loss: 2.4187 - val_acc: 0.6667\n",
      "Epoch 147/1000\n",
      "5911/5911 [==============================] - 0s 13us/step - loss: 2.3472 - acc: 0.7349 - val_loss: 2.4040 - val_acc: 0.6667\n",
      "Epoch 148/1000\n",
      "5911/5911 [==============================] - 0s 12us/step - loss: 2.2881 - acc: 0.8141 - val_loss: 2.3582 - val_acc: 0.8333\n",
      "Epoch 149/1000\n",
      "5911/5911 [==============================] - 0s 11us/step - loss: 2.2400 - acc: 0.8731 - val_loss: 2.3233 - val_acc: 0.8333\n",
      "Epoch 150/1000\n",
      "5911/5911 [==============================] - 0s 11us/step - loss: 2.2459 - acc: 0.8290 - val_loss: 2.3527 - val_acc: 0.8333\n",
      "Epoch 151/1000\n",
      "5911/5911 [==============================] - 0s 13us/step - loss: 2.2887 - acc: 0.7611 - val_loss: 2.3068 - val_acc: 0.8333\n",
      "Epoch 152/1000\n",
      "5911/5911 [==============================] - 0s 11us/step - loss: 2.2493 - acc: 0.7848 - val_loss: 2.2208 - val_acc: 0.8333\n",
      "Epoch 153/1000\n",
      "5911/5911 [==============================] - 0s 13us/step - loss: 2.1784 - acc: 0.8657 - val_loss: 2.2560 - val_acc: 0.8333\n",
      "Epoch 154/1000\n",
      "5911/5911 [==============================] - 0s 14us/step - loss: 2.1514 - acc: 0.8680 - val_loss: 2.2629 - val_acc: 0.6667\n",
      "Epoch 155/1000\n",
      "5911/5911 [==============================] - 0s 14us/step - loss: 2.1455 - acc: 0.8371 - val_loss: 2.2502 - val_acc: 0.6667\n",
      "Epoch 156/1000\n",
      "5911/5911 [==============================] - 0s 13us/step - loss: 2.1374 - acc: 0.8142 - val_loss: 2.2295 - val_acc: 0.6667\n",
      "Epoch 157/1000\n",
      "5911/5911 [==============================] - 0s 11us/step - loss: 2.1130 - acc: 0.8166 - val_loss: 2.1751 - val_acc: 0.6667\n",
      "Epoch 158/1000\n",
      "5911/5911 [==============================] - 0s 11us/step - loss: 2.0653 - acc: 0.8472 - val_loss: 2.0032 - val_acc: 1.0000\n",
      "Epoch 159/1000\n",
      "5911/5911 [==============================] - 0s 13us/step - loss: 2.0131 - acc: 0.8867 - val_loss: 1.8986 - val_acc: 1.0000\n",
      "Epoch 160/1000\n",
      "5911/5911 [==============================] - 0s 13us/step - loss: 2.0175 - acc: 0.8706 - val_loss: 1.8569 - val_acc: 1.0000\n",
      "Epoch 161/1000\n",
      "5911/5911 [==============================] - 0s 14us/step - loss: 2.0052 - acc: 0.8691 - val_loss: 1.8223 - val_acc: 1.0000\n",
      "Epoch 162/1000\n",
      "5911/5911 [==============================] - 0s 13us/step - loss: 1.9523 - acc: 0.9007 - val_loss: 1.9009 - val_acc: 0.8333\n",
      "Epoch 163/1000\n",
      "5911/5911 [==============================] - 0s 11us/step - loss: 1.9738 - acc: 0.8843 - val_loss: 1.7706 - val_acc: 1.0000\n",
      "Epoch 164/1000\n",
      "5911/5911 [==============================] - 0s 12us/step - loss: 1.9230 - acc: 0.9092 - val_loss: 1.7477 - val_acc: 1.0000\n",
      "Epoch 165/1000\n",
      "5911/5911 [==============================] - 0s 11us/step - loss: 1.9061 - acc: 0.9032 - val_loss: 1.7381 - val_acc: 1.0000\n",
      "Epoch 166/1000\n",
      "5911/5911 [==============================] - 0s 12us/step - loss: 1.8824 - acc: 0.9176 - val_loss: 1.7147 - val_acc: 1.0000\n",
      "Epoch 167/1000\n",
      "5911/5911 [==============================] - 0s 11us/step - loss: 1.8639 - acc: 0.9207 - val_loss: 1.7095 - val_acc: 1.0000\n",
      "Epoch 168/1000\n",
      "5911/5911 [==============================] - 0s 11us/step - loss: 1.8595 - acc: 0.9136 - val_loss: 1.7073 - val_acc: 1.0000\n",
      "Epoch 169/1000\n",
      "5911/5911 [==============================] - 0s 10us/step - loss: 1.8185 - acc: 0.9391 - val_loss: 1.7373 - val_acc: 1.0000\n",
      "Epoch 170/1000\n",
      "5911/5911 [==============================] - 0s 13us/step - loss: 1.8401 - acc: 0.9169 - val_loss: 1.6835 - val_acc: 1.0000\n",
      "Epoch 171/1000\n",
      "5911/5911 [==============================] - 0s 11us/step - loss: 1.8127 - acc: 0.9222 - val_loss: 1.6843 - val_acc: 1.0000\n",
      "Epoch 172/1000\n",
      "5911/5911 [==============================] - 0s 13us/step - loss: 1.8135 - acc: 0.9147 - val_loss: 1.6851 - val_acc: 1.0000\n",
      "Epoch 173/1000\n",
      "5911/5911 [==============================] - 0s 12us/step - loss: 1.7643 - acc: 0.9514 - val_loss: 1.7107 - val_acc: 1.0000\n",
      "Epoch 174/1000\n",
      "5911/5911 [==============================] - 0s 10us/step - loss: 1.7902 - acc: 0.9201 - val_loss: 1.6878 - val_acc: 1.0000\n",
      "Epoch 175/1000\n",
      "5911/5911 [==============================] - 0s 10us/step - loss: 1.8070 - acc: 0.9019 - val_loss: 1.6519 - val_acc: 1.0000\n",
      "Epoch 176/1000\n",
      "5911/5911 [==============================] - 0s 11us/step - loss: 1.7835 - acc: 0.9108 - val_loss: 1.6579 - val_acc: 1.0000\n",
      "Epoch 177/1000\n",
      "5911/5911 [==============================] - 0s 10us/step - loss: 1.7249 - acc: 0.9553 - val_loss: 1.6704 - val_acc: 1.0000\n",
      "Epoch 178/1000\n",
      "5911/5911 [==============================] - 0s 10us/step - loss: 1.7357 - acc: 0.9393 - val_loss: 1.5992 - val_acc: 1.0000\n",
      "Epoch 179/1000\n",
      "5911/5911 [==============================] - 0s 11us/step - loss: 1.7504 - acc: 0.9136 - val_loss: 1.6079 - val_acc: 1.0000\n",
      "Epoch 180/1000\n",
      "5911/5911 [==============================] - 0s 11us/step - loss: 1.7638 - acc: 0.9020 - val_loss: 1.5975 - val_acc: 1.0000\n"
     ]
    },
    {
     "name": "stdout",
     "output_type": "stream",
     "text": [
      "Epoch 181/1000\n",
      "5911/5911 [==============================] - 0s 11us/step - loss: 1.6681 - acc: 0.9599 - val_loss: 1.8747 - val_acc: 0.8333\n",
      "Epoch 182/1000\n",
      "5911/5911 [==============================] - 0s 11us/step - loss: 1.8687 - acc: 0.8259 - val_loss: 2.1700 - val_acc: 0.6667\n",
      "Epoch 183/1000\n",
      "5911/5911 [==============================] - 0s 11us/step - loss: 2.0117 - acc: 0.7843 - val_loss: 2.3557 - val_acc: 0.6667\n",
      "Epoch 184/1000\n",
      "5911/5911 [==============================] - 0s 11us/step - loss: 2.2274 - acc: 0.6885 - val_loss: 2.0517 - val_acc: 0.6667\n",
      "Epoch 185/1000\n",
      "5911/5911 [==============================] - 0s 11us/step - loss: 1.8970 - acc: 0.7850 - val_loss: 1.7451 - val_acc: 1.0000\n",
      "Epoch 186/1000\n",
      "5911/5911 [==============================] - 0s 13us/step - loss: 1.7243 - acc: 0.9311 - val_loss: 1.9361 - val_acc: 0.6667\n",
      "Epoch 187/1000\n",
      "5911/5911 [==============================] - 0s 11us/step - loss: 1.9126 - acc: 0.7828 - val_loss: 1.8429 - val_acc: 0.8333\n",
      "Epoch 188/1000\n",
      "5911/5911 [==============================] - 0s 11us/step - loss: 1.8299 - acc: 0.8488 - val_loss: 1.8486 - val_acc: 1.0000\n",
      "Epoch 189/1000\n",
      "5911/5911 [==============================] - 0s 10us/step - loss: 1.7804 - acc: 0.9381 - val_loss: 1.9690 - val_acc: 0.8333\n",
      "Epoch 190/1000\n",
      "5911/5911 [==============================] - 0s 11us/step - loss: 1.8219 - acc: 0.8875 - val_loss: 2.0015 - val_acc: 0.6667\n",
      "Epoch 191/1000\n",
      "5911/5911 [==============================] - 0s 11us/step - loss: 1.8518 - acc: 0.8413 - val_loss: 1.9978 - val_acc: 0.6667\n",
      "Epoch 192/1000\n",
      "5911/5911 [==============================] - 0s 11us/step - loss: 1.8562 - acc: 0.8286 - val_loss: 1.9870 - val_acc: 0.6667\n",
      "Epoch 193/1000\n",
      "5911/5911 [==============================] - 0s 11us/step - loss: 1.8358 - acc: 0.8408 - val_loss: 1.9476 - val_acc: 0.8333\n",
      "Epoch 194/1000\n",
      "5911/5911 [==============================] - 0s 10us/step - loss: 1.7953 - acc: 0.8790 - val_loss: 1.8056 - val_acc: 1.0000\n",
      "Epoch 195/1000\n",
      "5911/5911 [==============================] - 0s 11us/step - loss: 1.7460 - acc: 0.9242 - val_loss: 1.7387 - val_acc: 1.0000\n",
      "Epoch 196/1000\n",
      "5911/5911 [==============================] - 0s 10us/step - loss: 1.7276 - acc: 0.9245 - val_loss: 1.7500 - val_acc: 0.8333\n"
     ]
    }
   ],
   "source": [
    "with tf.Session() as session:\n",
    "    K.set_session(session)\n",
    "    session.run(tf.global_variables_initializer())  \n",
    "    session.run(tf.tables_initializer())\n",
    "    history = model_bert.fit(all_embeddings, y, epochs=1000, batch_size=10000, \n",
    "                             validation_split = 0.001, callbacks=cb_list)\n",
    "    model_bert.save_weights('../model/bert_logistic_twitter/model_bert_weights.h5')"
   ]
  },
  {
   "cell_type": "code",
   "execution_count": 53,
   "metadata": {},
   "outputs": [
    {
     "data": {
      "image/png": "[encoded data removed]",
      "text/plain": [
       "<Figure size 432x288 with 1 Axes>"
      ]
     },
     "metadata": {
      "needs_background": "light"
     },
     "output_type": "display_data"
    }
   ],
   "source": [
    "import matplotlib.pyplot as plt\n",
    "%matplotlib inline\n",
    "\n",
    "acc = history.history['acc']\n",
    "loss = history.history['loss']\n",
    "\n",
    "epochs = range(1, len(acc) + 1)\n",
    "\n",
    "plt.plot(epochs, acc, 'g', label='Training Acc')\n",
    "plt.title('Training and validation Acc')\n",
    "plt.xlabel('Epochs')\n",
    "plt.ylabel('Acc')\n",
    "plt.legend()\n",
    "\n",
    "plt.show()"
   ]
  },
  {
   "cell_type": "markdown",
   "metadata": {},
   "source": [
    "# Predict on Test Data"
   ]
  },
  {
   "cell_type": "code",
   "execution_count": 54,
   "metadata": {},
   "outputs": [],
   "source": [
    "bs = 10000\n",
    "batches = math.ceil(all_embeddings_test.shape[0] / bs)"
   ]
  },
  {
   "cell_type": "code",
   "execution_count": 55,
   "metadata": {},
   "outputs": [
    {
     "name": "stdout",
     "output_type": "stream",
     "text": [
      "Predicting Batch 1\n"
     ]
    },
    {
     "name": "stderr",
     "output_type": "stream",
     "text": [
      "Exception ignored in: <function BaseSession._Callable.__del__ at 0x00000215278B9620>\n",
      "Traceback (most recent call last):\n",
      "  File \"C:\\Users\\bisedab\\AppData\\Local\\Continuum\\anaconda3\\lib\\site-packages\\tensorflow\\python\\client\\session.py\", line 1455, in __del__\n",
      "    self._session._session, self._handle, status)\n",
      "  File \"C:\\Users\\bisedab\\AppData\\Local\\Continuum\\anaconda3\\lib\\site-packages\\tensorflow\\python\\framework\\errors_impl.py\", line 528, in __exit__\n",
      "    c_api.TF_GetCode(self.status.status))\n",
      "tensorflow.python.framework.errors_impl.CancelledError: Session has been closed.\n"
     ]
    }
   ],
   "source": [
    "all_preds = []\n",
    "all_probs = []\n",
    "    \n",
    "with tf.Session() as session:\n",
    "    K.set_session(session)\n",
    "    session.run(tf.global_variables_initializer())  \n",
    "    session.run(tf.tables_initializer())\n",
    "    model_bert.load_weights('../model/bert_logistic_twitter/model_bert_weights.h5')\n",
    "\n",
    "    for i in range(1,batches+1):\n",
    "        print(\"Predicting Batch\",i)\n",
    "        new_text_pr = all_embeddings_test[(i-1)*bs:i*bs]\n",
    "        preds = model_bert.predict(new_text_pr)\n",
    "        all_probs.append(preds)\n",
    "        preds = encoder.inverse_transform(np.argmax(preds,axis=1))\n",
    "        all_preds.append(preds)"
   ]
  },
  {
   "cell_type": "code",
   "execution_count": 56,
   "metadata": {},
   "outputs": [],
   "source": [
    "results = np.concatenate(all_preds, axis=0)\n",
    "results_probs = np.concatenate(all_probs, axis=0)"
   ]
  },
  {
   "cell_type": "code",
   "execution_count": 57,
   "metadata": {},
   "outputs": [],
   "source": [
    "np.savetxt(\"../output/ADR/bert_logistic_twitter/test_results.tsv\", results_probs, delimiter=\"\\t\")"
   ]
  },
  {
   "cell_type": "code",
   "execution_count": 58,
   "metadata": {},
   "outputs": [],
   "source": [
    "np.savetxt(\"../output/ADR/bert_logistic_twitter/test_predictions.tsv\", results, delimiter=\"\\t\")"
   ]
  },
  {
   "cell_type": "code",
   "execution_count": 59,
   "metadata": {
    "scrolled": true
   },
   "outputs": [
    {
     "name": "stdout",
     "output_type": "stream",
     "text": [
      "Accuracy:  0.8695064232589588\n"
     ]
    }
   ],
   "source": [
    "print(\"Accuracy: \",sum(results==y_test)/results.shape[0])"
   ]
  },
  {
   "cell_type": "code",
   "execution_count": null,
   "metadata": {},
   "outputs": [],
   "source": []
  }
 ],
 "metadata": {
  "kernelspec": {
   "display_name": "Python 3",
   "language": "python",
   "name": "python3"
  },
  "language_info": {
   "codemirror_mode": {
    "name": "ipython",
    "version": 3
   },
   "file_extension": ".py",
   "mimetype": "text/x-python",
   "name": "python",
   "nbconvert_exporter": "python",
   "pygments_lexer": "ipython3",
   "version": "3.7.3"
  }
 },
 "nbformat": 4,
 "nbformat_minor": 2
}
