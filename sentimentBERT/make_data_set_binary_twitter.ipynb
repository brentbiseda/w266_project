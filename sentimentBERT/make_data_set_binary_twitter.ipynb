{
 "cells": [
  {
   "cell_type": "code",
   "execution_count": 23,
   "metadata": {},
   "outputs": [],
   "source": [
    "import pandas as pd"
   ]
  },
  {
   "cell_type": "markdown",
   "metadata": {},
   "source": [
    "# Process the Training File"
   ]
  },
  {
   "cell_type": "code",
   "execution_count": 24,
   "metadata": {},
   "outputs": [],
   "source": [
    "filename = \"binary_tweets_valid_cleaned.csv\""
   ]
  },
  {
   "cell_type": "code",
   "execution_count": 25,
   "metadata": {},
   "outputs": [],
   "source": [
    "df = pd.read_csv('../datasets/ASU twitter data/'+filename, delimiter=',')"
   ]
  },
  {
   "cell_type": "code",
   "execution_count": 26,
   "metadata": {},
   "outputs": [
    {
     "data": {
      "text/html": [
       "<div>\n",
       "<style scoped>\n",
       "    .dataframe tbody tr th:only-of-type {\n",
       "        vertical-align: middle;\n",
       "    }\n",
       "\n",
       "    .dataframe tbody tr th {\n",
       "        vertical-align: top;\n",
       "    }\n",
       "\n",
       "    .dataframe thead th {\n",
       "        text-align: right;\n",
       "    }\n",
       "</style>\n",
       "<table border=\"1\" class=\"dataframe\">\n",
       "  <thead>\n",
       "    <tr style=\"text-align: right;\">\n",
       "      <th></th>\n",
       "      <th>index</th>\n",
       "      <th>tweet_id</th>\n",
       "      <th>user_id</th>\n",
       "      <th>id</th>\n",
       "      <th>tweet</th>\n",
       "      <th>url</th>\n",
       "    </tr>\n",
       "  </thead>\n",
       "  <tbody>\n",
       "    <tr>\n",
       "      <th>0</th>\n",
       "      <td>2</td>\n",
       "      <td>3.398680e+17</td>\n",
       "      <td>246979971</td>\n",
       "      <td>0</td>\n",
       "      <td>@DoctorChristian scared to start fluoxetine, w...</td>\n",
       "      <td>http://twitter.com/246979971/status/3398678188...</td>\n",
       "    </tr>\n",
       "    <tr>\n",
       "      <th>1</th>\n",
       "      <td>3</td>\n",
       "      <td>3.492950e+17</td>\n",
       "      <td>149749939</td>\n",
       "      <td>0</td>\n",
       "      <td>@IntuitiveGal1 ok, if you stopped taking the L...</td>\n",
       "      <td>http://twitter.com/149749939/status/3492945373...</td>\n",
       "    </tr>\n",
       "    <tr>\n",
       "      <th>2</th>\n",
       "      <td>4</td>\n",
       "      <td>3.542560e+17</td>\n",
       "      <td>54516759</td>\n",
       "      <td>0</td>\n",
       "      <td>Novartis announces secukinumab (AIN457) demons...</td>\n",
       "      <td>http://twitter.com/54516759/status/35425619543...</td>\n",
       "    </tr>\n",
       "    <tr>\n",
       "      <th>3</th>\n",
       "      <td>5</td>\n",
       "      <td>3.524570e+17</td>\n",
       "      <td>1267743056</td>\n",
       "      <td>1</td>\n",
       "      <td>\"U wailed all night; now y'r disembodied sobbi...</td>\n",
       "      <td>http://twitter.com/1267743056/status/352456944...</td>\n",
       "    </tr>\n",
       "    <tr>\n",
       "      <th>4</th>\n",
       "      <td>6</td>\n",
       "      <td>3.324800e+17</td>\n",
       "      <td>273421529</td>\n",
       "      <td>0</td>\n",
       "      <td>@irapaps you're so fucking selfish. I've got L...</td>\n",
       "      <td>http://twitter.com/273421529/status/3324797070...</td>\n",
       "    </tr>\n",
       "    <tr>\n",
       "      <th>...</th>\n",
       "      <td>...</td>\n",
       "      <td>...</td>\n",
       "      <td>...</td>\n",
       "      <td>...</td>\n",
       "      <td>...</td>\n",
       "      <td>...</td>\n",
       "    </tr>\n",
       "    <tr>\n",
       "      <th>4164</th>\n",
       "      <td>7565</td>\n",
       "      <td>3.421500e+17</td>\n",
       "      <td>775979797</td>\n",
       "      <td>1</td>\n",
       "      <td>@ctr1945 my mom used Rivaroxaban and it gave h...</td>\n",
       "      <td>http://twitter.com/775979797/status/3421503826...</td>\n",
       "    </tr>\n",
       "    <tr>\n",
       "      <th>4165</th>\n",
       "      <td>7566</td>\n",
       "      <td>3.332250e+17</td>\n",
       "      <td>1093433228</td>\n",
       "      <td>0</td>\n",
       "      <td>Any body wanna buy me cymbalta, My depression ...</td>\n",
       "      <td>http://twitter.com/1093433228/status/333224523...</td>\n",
       "    </tr>\n",
       "    <tr>\n",
       "      <th>4166</th>\n",
       "      <td>7568</td>\n",
       "      <td>3.531020e+17</td>\n",
       "      <td>71475416</td>\n",
       "      <td>1</td>\n",
       "      <td>@LilythePurr I've had too much quetiapine toda...</td>\n",
       "      <td>http://twitter.com/71475416/status/35310247053...</td>\n",
       "    </tr>\n",
       "    <tr>\n",
       "      <th>4167</th>\n",
       "      <td>7569</td>\n",
       "      <td>3.403130e+17</td>\n",
       "      <td>149645239</td>\n",
       "      <td>0</td>\n",
       "      <td>@CCinneide ohhh so it really has nicotine and ...</td>\n",
       "      <td>http://twitter.com/149645239/status/3403130252...</td>\n",
       "    </tr>\n",
       "    <tr>\n",
       "      <th>4168</th>\n",
       "      <td>7571</td>\n",
       "      <td>3.334680e+17</td>\n",
       "      <td>185404032</td>\n",
       "      <td>1</td>\n",
       "      <td>Why do I always get the seroquel munchies!?</td>\n",
       "      <td>http://twitter.com/185404032/status/3334678635...</td>\n",
       "    </tr>\n",
       "  </tbody>\n",
       "</table>\n",
       "<p>4169 rows × 6 columns</p>\n",
       "</div>"
      ],
      "text/plain": [
       "      index      tweet_id     user_id  id  \\\n",
       "0         2  3.398680e+17   246979971   0   \n",
       "1         3  3.492950e+17   149749939   0   \n",
       "2         4  3.542560e+17    54516759   0   \n",
       "3         5  3.524570e+17  1267743056   1   \n",
       "4         6  3.324800e+17   273421529   0   \n",
       "...     ...           ...         ...  ..   \n",
       "4164   7565  3.421500e+17   775979797   1   \n",
       "4165   7566  3.332250e+17  1093433228   0   \n",
       "4166   7568  3.531020e+17    71475416   1   \n",
       "4167   7569  3.403130e+17   149645239   0   \n",
       "4168   7571  3.334680e+17   185404032   1   \n",
       "\n",
       "                                                  tweet  \\\n",
       "0     @DoctorChristian scared to start fluoxetine, w...   \n",
       "1     @IntuitiveGal1 ok, if you stopped taking the L...   \n",
       "2     Novartis announces secukinumab (AIN457) demons...   \n",
       "3     \"U wailed all night; now y'r disembodied sobbi...   \n",
       "4     @irapaps you're so fucking selfish. I've got L...   \n",
       "...                                                 ...   \n",
       "4164  @ctr1945 my mom used Rivaroxaban and it gave h...   \n",
       "4165  Any body wanna buy me cymbalta, My depression ...   \n",
       "4166  @LilythePurr I've had too much quetiapine toda...   \n",
       "4167  @CCinneide ohhh so it really has nicotine and ...   \n",
       "4168        Why do I always get the seroquel munchies!?   \n",
       "\n",
       "                                                    url  \n",
       "0     http://twitter.com/246979971/status/3398678188...  \n",
       "1     http://twitter.com/149749939/status/3492945373...  \n",
       "2     http://twitter.com/54516759/status/35425619543...  \n",
       "3     http://twitter.com/1267743056/status/352456944...  \n",
       "4     http://twitter.com/273421529/status/3324797070...  \n",
       "...                                                 ...  \n",
       "4164  http://twitter.com/775979797/status/3421503826...  \n",
       "4165  http://twitter.com/1093433228/status/333224523...  \n",
       "4166  http://twitter.com/71475416/status/35310247053...  \n",
       "4167  http://twitter.com/149645239/status/3403130252...  \n",
       "4168  http://twitter.com/185404032/status/3334678635...  \n",
       "\n",
       "[4169 rows x 6 columns]"
      ]
     },
     "execution_count": 26,
     "metadata": {},
     "output_type": "execute_result"
    }
   ],
   "source": [
    "df"
   ]
  },
  {
   "cell_type": "code",
   "execution_count": 27,
   "metadata": {},
   "outputs": [],
   "source": [
    "# Remove the unnecessary columns\n",
    "df = df.drop(['index', 'tweet_id', 'user_id', 'url'], axis=1)"
   ]
  },
  {
   "cell_type": "code",
   "execution_count": 28,
   "metadata": {},
   "outputs": [],
   "source": [
    "df = df.rename(columns={\n",
    "    \"tweet\":\"sentence\",\n",
    "    \"id\":\"label\"\n",
    "})"
   ]
  },
  {
   "cell_type": "code",
   "execution_count": 34,
   "metadata": {},
   "outputs": [],
   "source": [
    "df = df[['sentence','label']]"
   ]
  },
  {
   "cell_type": "code",
   "execution_count": 35,
   "metadata": {},
   "outputs": [],
   "source": [
    "train = df.sample(frac=0.8, random_state=1234)\n",
    "test = df.loc[~df.index.isin(train.index)]"
   ]
  },
  {
   "cell_type": "code",
   "execution_count": 36,
   "metadata": {},
   "outputs": [
    {
     "data": {
      "text/plain": [
       "2974"
      ]
     },
     "execution_count": 36,
     "metadata": {},
     "output_type": "execute_result"
    }
   ],
   "source": [
    "sum(train['label']==0)"
   ]
  },
  {
   "cell_type": "code",
   "execution_count": 37,
   "metadata": {},
   "outputs": [
    {
     "data": {
      "text/plain": [
       "361"
      ]
     },
     "execution_count": 37,
     "metadata": {},
     "output_type": "execute_result"
    }
   ],
   "source": [
    "sum(train['label']==1)"
   ]
  },
  {
   "cell_type": "code",
   "execution_count": 38,
   "metadata": {},
   "outputs": [
    {
     "data": {
      "text/html": [
       "<div>\n",
       "<style scoped>\n",
       "    .dataframe tbody tr th:only-of-type {\n",
       "        vertical-align: middle;\n",
       "    }\n",
       "\n",
       "    .dataframe tbody tr th {\n",
       "        vertical-align: top;\n",
       "    }\n",
       "\n",
       "    .dataframe thead th {\n",
       "        text-align: right;\n",
       "    }\n",
       "</style>\n",
       "<table border=\"1\" class=\"dataframe\">\n",
       "  <thead>\n",
       "    <tr style=\"text-align: right;\">\n",
       "      <th></th>\n",
       "      <th>sentence</th>\n",
       "      <th>label</th>\n",
       "    </tr>\n",
       "  </thead>\n",
       "  <tbody>\n",
       "    <tr>\n",
       "      <th>0</th>\n",
       "      <td>@DoctorChristian scared to start fluoxetine, w...</td>\n",
       "      <td>0</td>\n",
       "    </tr>\n",
       "    <tr>\n",
       "      <th>1</th>\n",
       "      <td>@IntuitiveGal1 ok, if you stopped taking the L...</td>\n",
       "      <td>0</td>\n",
       "    </tr>\n",
       "    <tr>\n",
       "      <th>2</th>\n",
       "      <td>Novartis announces secukinumab (AIN457) demons...</td>\n",
       "      <td>0</td>\n",
       "    </tr>\n",
       "    <tr>\n",
       "      <th>3</th>\n",
       "      <td>\"U wailed all night; now y'r disembodied sobbi...</td>\n",
       "      <td>1</td>\n",
       "    </tr>\n",
       "    <tr>\n",
       "      <th>4</th>\n",
       "      <td>@irapaps you're so fucking selfish. I've got L...</td>\n",
       "      <td>0</td>\n",
       "    </tr>\n",
       "    <tr>\n",
       "      <th>...</th>\n",
       "      <td>...</td>\n",
       "      <td>...</td>\n",
       "    </tr>\n",
       "    <tr>\n",
       "      <th>4164</th>\n",
       "      <td>@ctr1945 my mom used Rivaroxaban and it gave h...</td>\n",
       "      <td>1</td>\n",
       "    </tr>\n",
       "    <tr>\n",
       "      <th>4165</th>\n",
       "      <td>Any body wanna buy me cymbalta, My depression ...</td>\n",
       "      <td>0</td>\n",
       "    </tr>\n",
       "    <tr>\n",
       "      <th>4166</th>\n",
       "      <td>@LilythePurr I've had too much quetiapine toda...</td>\n",
       "      <td>1</td>\n",
       "    </tr>\n",
       "    <tr>\n",
       "      <th>4167</th>\n",
       "      <td>@CCinneide ohhh so it really has nicotine and ...</td>\n",
       "      <td>0</td>\n",
       "    </tr>\n",
       "    <tr>\n",
       "      <th>4168</th>\n",
       "      <td>Why do I always get the seroquel munchies!?</td>\n",
       "      <td>1</td>\n",
       "    </tr>\n",
       "  </tbody>\n",
       "</table>\n",
       "<p>4169 rows × 2 columns</p>\n",
       "</div>"
      ],
      "text/plain": [
       "                                               sentence  label\n",
       "0     @DoctorChristian scared to start fluoxetine, w...      0\n",
       "1     @IntuitiveGal1 ok, if you stopped taking the L...      0\n",
       "2     Novartis announces secukinumab (AIN457) demons...      0\n",
       "3     \"U wailed all night; now y'r disembodied sobbi...      1\n",
       "4     @irapaps you're so fucking selfish. I've got L...      0\n",
       "...                                                 ...    ...\n",
       "4164  @ctr1945 my mom used Rivaroxaban and it gave h...      1\n",
       "4165  Any body wanna buy me cymbalta, My depression ...      0\n",
       "4166  @LilythePurr I've had too much quetiapine toda...      1\n",
       "4167  @CCinneide ohhh so it really has nicotine and ...      0\n",
       "4168        Why do I always get the seroquel munchies!?      1\n",
       "\n",
       "[4169 rows x 2 columns]"
      ]
     },
     "execution_count": 38,
     "metadata": {},
     "output_type": "execute_result"
    }
   ],
   "source": [
    "df"
   ]
  },
  {
   "cell_type": "code",
   "execution_count": 39,
   "metadata": {},
   "outputs": [],
   "source": [
    "# We wish to preserve all records for train\n",
    "train.to_csv('../datasets/ADR/train.tsv', sep='\\t', index=False, header=False)"
   ]
  },
  {
   "cell_type": "code",
   "execution_count": 40,
   "metadata": {},
   "outputs": [],
   "source": [
    "test.to_csv('../datasets/ADR/test.tsv', sep='\\t', index=False, header=False)"
   ]
  },
  {
   "cell_type": "code",
   "execution_count": null,
   "metadata": {},
   "outputs": [],
   "source": []
  }
 ],
 "metadata": {
  "kernelspec": {
   "display_name": "Python 3",
   "language": "python",
   "name": "python3"
  },
  "language_info": {
   "codemirror_mode": {
    "name": "ipython",
    "version": 3
   },
   "file_extension": ".py",
   "mimetype": "text/x-python",
   "name": "python",
   "nbconvert_exporter": "python",
   "pygments_lexer": "ipython3",
   "version": "3.7.3"
  }
 },
 "nbformat": 4,
 "nbformat_minor": 2
}
