{
 "cells": [
  {
   "cell_type": "code",
   "execution_count": 1,
   "metadata": {},
   "outputs": [],
   "source": [
    "#!pip install tensorflow"
   ]
  },
  {
   "cell_type": "code",
   "execution_count": 2,
   "metadata": {
    "colab": {},
    "colab_type": "code",
    "id": "yDbmvsw-u9eZ"
   },
   "outputs": [],
   "source": [
    "import re\n",
    "import numpy as np\n",
    "import pandas as pd\n",
    "import csv\n",
    "import sys\n",
    "import codecs\n",
    "\n",
    "import tensorflow as tf\n",
    "from tensorflow.keras.preprocessing.text import text_to_word_sequence\n",
    "\n",
    "import warnings\n",
    "warnings.filterwarnings('ignore')"
   ]
  },
  {
   "cell_type": "markdown",
   "metadata": {
    "colab_type": "text",
    "id": "m22MR1G0xvgQ"
   },
   "source": [
    "# Helper functions"
   ]
  },
  {
   "cell_type": "code",
   "execution_count": 3,
   "metadata": {
    "colab": {},
    "colab_type": "code",
    "id": "LFcDMhS1nk5-"
   },
   "outputs": [],
   "source": [
    "def annotate_tweets(data_ids, data_ann, i):\n",
    "  #split tweet into a list of words and punctuation\n",
    "  tweet = data_ids[\"tweet\"][i]\n",
    "  tweet = re.sub(r'\\n', ' ', tweet) #remove newlines from tweets\n",
    "  tweet = re.sub(r'\"', '', tweet) #remove quotes from tweets\n",
    "  to_tokenize = '!#$%&()*+,-./:;<=>?@[\\\\]^_`{|}~\\t'\n",
    "  tweet = re.sub(r'(['+to_tokenize+'])', r' \\1 ', tweet) #add spaces in between punctuations\n",
    "  seq = text_to_word_sequence(tweet, filters='', split=' ', lower=False) #convert tweet to list\n",
    "\n",
    "  #find the adr associated with the tweet from the annotation file\n",
    "  tweet_id = data_ids[\"id\"][i]\n",
    "  adrs = data_ann[data_ann[\"id\"]==tweet_id][\"adr\"].tolist()\n",
    "  adrs_list = []\n",
    "  for adr in adrs:\n",
    "    adr = re.sub(r'\\n', ' ', adr) #remove newlines from tweets\n",
    "    to_tokenize = '!\"#$%&()*+,-./:;<=>?@[\\\\]^_`{|}~\\t'\n",
    "    adr = re.sub(r'(['+to_tokenize+'])', r' \\1 ', adr) #add spaces in between punctuations\n",
    "    adr = text_to_word_sequence(adr, filters='!\"#$%&()*+,-./:;<=>?@[\\\\]^_`{|}~\\t', split=' ', lower=False)\n",
    "    adrs_list.append(adr)\n",
    "\n",
    "  #build the ner labels\n",
    "  ner_annotation = []\n",
    "  for s in seq:\n",
    "    ner_annotation.append(assign_bio(s, adrs_list))\n",
    "  \n",
    "  return(ner_annotation)"
   ]
  },
  {
   "cell_type": "code",
   "execution_count": 4,
   "metadata": {
    "colab": {},
    "colab_type": "code",
    "id": "kN1B2xHQrbo2"
   },
   "outputs": [],
   "source": [
    "def assign_bio(word, adrs_list):\n",
    "  for adrs in adrs_list:\n",
    "    for i,adr in enumerate(adrs):\n",
    "      if word.lower()==adr.lower():\n",
    "        if i==0:\n",
    "          return(word+'\\tB')\n",
    "        else:\n",
    "          return(word+'\\tI')\n",
    "  return(word+'\\tO')"
   ]
  },
  {
   "cell_type": "markdown",
   "metadata": {
    "colab_type": "text",
    "id": "94y-KZCLyNUR"
   },
   "source": [
    "# Training data"
   ]
  },
  {
   "cell_type": "code",
   "execution_count": 5,
   "metadata": {
    "colab": {},
    "colab_type": "code",
    "id": "Jl3PfZMpKgNX"
   },
   "outputs": [],
   "source": [
    "DATA_DIR = \"../data/twitter_ner/ner_tweet_dataset/\"\n",
    "OUTPUT_DIR = \"../datasets/NER/\""
   ]
  },
  {
   "cell_type": "code",
   "execution_count": 6,
   "metadata": {
    "colab": {
     "base_uri": "https://localhost:8080/",
     "height": 408
    },
    "colab_type": "code",
    "id": "9xc0QkMcviai",
    "outputId": "3d0d063a-1a57-4e4b-d9ef-8d3b82d8beea"
   },
   "outputs": [
    {
     "data": {
      "text/html": [
       "<div>\n",
       "<style scoped>\n",
       "    .dataframe tbody tr th:only-of-type {\n",
       "        vertical-align: middle;\n",
       "    }\n",
       "\n",
       "    .dataframe tbody tr th {\n",
       "        vertical-align: top;\n",
       "    }\n",
       "\n",
       "    .dataframe thead th {\n",
       "        text-align: right;\n",
       "    }\n",
       "</style>\n",
       "<table border=\"1\" class=\"dataframe\">\n",
       "  <thead>\n",
       "    <tr style=\"text-align: right;\">\n",
       "      <th></th>\n",
       "      <th>index</th>\n",
       "      <th>tweet_id</th>\n",
       "      <th>user_id</th>\n",
       "      <th>id</th>\n",
       "      <th>tweet</th>\n",
       "      <th>url</th>\n",
       "      <th>adr_present</th>\n",
       "    </tr>\n",
       "  </thead>\n",
       "  <tbody>\n",
       "    <tr>\n",
       "      <th>0</th>\n",
       "      <td>1</td>\n",
       "      <td>344616533332467713</td>\n",
       "      <td>173701851</td>\n",
       "      <td>vyvanse-51b7c4c75378b9555a2f1ab8</td>\n",
       "      <td>Vyvanse, commonly known as OCD in a pill.</td>\n",
       "      <td>http://twitter.com/173701851/status/3446165333...</td>\n",
       "      <td>1</td>\n",
       "    </tr>\n",
       "    <tr>\n",
       "      <th>1</th>\n",
       "      <td>2</td>\n",
       "      <td>344630199217958912</td>\n",
       "      <td>385562257</td>\n",
       "      <td>vyvanse-51b7d1815378b9555a2f1b0c</td>\n",
       "      <td>@MTV When are you going to do True Life: I am ...</td>\n",
       "      <td>http://twitter.com/385562257/status/3446301992...</td>\n",
       "      <td>1</td>\n",
       "    </tr>\n",
       "    <tr>\n",
       "      <th>2</th>\n",
       "      <td>3</td>\n",
       "      <td>342117282585133056</td>\n",
       "      <td>1110475417</td>\n",
       "      <td>cymbalta-51aead545378f924d02efd7c</td>\n",
       "      <td>@upasbook Great read as always. I was on Cymba...</td>\n",
       "      <td>http://twitter.com/1110475417/status/342117282...</td>\n",
       "      <td>1</td>\n",
       "    </tr>\n",
       "    <tr>\n",
       "      <th>3</th>\n",
       "      <td>9</td>\n",
       "      <td>351446999637299200</td>\n",
       "      <td>1061562434</td>\n",
       "      <td>seroquel-51d09e2a53785f584a9ae686</td>\n",
       "      <td>I wonder if seroquel /then/ food still equals ...</td>\n",
       "      <td>http://twitter.com/1061562434/status/351446999...</td>\n",
       "      <td>1</td>\n",
       "    </tr>\n",
       "    <tr>\n",
       "      <th>4</th>\n",
       "      <td>12</td>\n",
       "      <td>348262745730338817</td>\n",
       "      <td>97567146</td>\n",
       "      <td>rivaroxaban-51c5089353785f584a9a91e5</td>\n",
       "      <td>Rivaroxaban diary day 22. Last tablet taken Tu...</td>\n",
       "      <td>http://twitter.com/97567146/status/34826274573...</td>\n",
       "      <td>1</td>\n",
       "    </tr>\n",
       "  </tbody>\n",
       "</table>\n",
       "</div>"
      ],
      "text/plain": [
       "   index            tweet_id     user_id  \\\n",
       "0      1  344616533332467713   173701851   \n",
       "1      2  344630199217958912   385562257   \n",
       "2      3  342117282585133056  1110475417   \n",
       "3      9  351446999637299200  1061562434   \n",
       "4     12  348262745730338817    97567146   \n",
       "\n",
       "                                     id  \\\n",
       "0      vyvanse-51b7c4c75378b9555a2f1ab8   \n",
       "1      vyvanse-51b7d1815378b9555a2f1b0c   \n",
       "2     cymbalta-51aead545378f924d02efd7c   \n",
       "3     seroquel-51d09e2a53785f584a9ae686   \n",
       "4  rivaroxaban-51c5089353785f584a9a91e5   \n",
       "\n",
       "                                               tweet  \\\n",
       "0          Vyvanse, commonly known as OCD in a pill.   \n",
       "1  @MTV When are you going to do True Life: I am ...   \n",
       "2  @upasbook Great read as always. I was on Cymba...   \n",
       "3  I wonder if seroquel /then/ food still equals ...   \n",
       "4  Rivaroxaban diary day 22. Last tablet taken Tu...   \n",
       "\n",
       "                                                 url  adr_present  \n",
       "0  http://twitter.com/173701851/status/3446165333...            1  \n",
       "1  http://twitter.com/385562257/status/3446301992...            1  \n",
       "2  http://twitter.com/1110475417/status/342117282...            1  \n",
       "3  http://twitter.com/1061562434/status/351446999...            1  \n",
       "4  http://twitter.com/97567146/status/34826274573...            1  "
      ]
     },
     "execution_count": 6,
     "metadata": {},
     "output_type": "execute_result"
    }
   ],
   "source": [
    "#load training data\n",
    "train_ids =  pd.read_csv(DATA_DIR+'/train_ids_valid.csv')\n",
    "train_ids.head()"
   ]
  },
  {
   "cell_type": "code",
   "execution_count": 7,
   "metadata": {
    "colab": {
     "base_uri": "https://localhost:8080/",
     "height": 68
    },
    "colab_type": "code",
    "id": "gsi3_2uAx-G9",
    "outputId": "179b6a28-e8a2-4400-c0f8-41938ea0c57c"
   },
   "outputs": [
    {
     "data": {
      "text/plain": [
       "1    360\n",
       "0    352\n",
       "Name: adr_present, dtype: int64"
      ]
     },
     "execution_count": 7,
     "metadata": {},
     "output_type": "execute_result"
    }
   ],
   "source": [
    "train_ids['adr_present'].value_counts()"
   ]
  },
  {
   "cell_type": "code",
   "execution_count": 8,
   "metadata": {
    "colab": {
     "base_uri": "https://localhost:8080/",
     "height": 204
    },
    "colab_type": "code",
    "id": "MqmDyUkeNvIc",
    "outputId": "ba540af9-d9b7-421e-c621-a1b4a0301100"
   },
   "outputs": [
    {
     "data": {
      "text/html": [
       "<div>\n",
       "<style scoped>\n",
       "    .dataframe tbody tr th:only-of-type {\n",
       "        vertical-align: middle;\n",
       "    }\n",
       "\n",
       "    .dataframe tbody tr th {\n",
       "        vertical-align: top;\n",
       "    }\n",
       "\n",
       "    .dataframe thead th {\n",
       "        text-align: right;\n",
       "    }\n",
       "</style>\n",
       "<table border=\"1\" class=\"dataframe\">\n",
       "  <thead>\n",
       "    <tr style=\"text-align: right;\">\n",
       "      <th></th>\n",
       "      <th>id</th>\n",
       "      <th>start</th>\n",
       "      <th>end</th>\n",
       "      <th>type</th>\n",
       "      <th>adr</th>\n",
       "      <th>drug1</th>\n",
       "      <th>drug2</th>\n",
       "    </tr>\n",
       "  </thead>\n",
       "  <tbody>\n",
       "    <tr>\n",
       "      <th>0</th>\n",
       "      <td>baclofen-518bf599ac6ab35b4d48099f</td>\n",
       "      <td>60</td>\n",
       "      <td>66</td>\n",
       "      <td>ADR</td>\n",
       "      <td>tired</td>\n",
       "      <td>baclofen</td>\n",
       "      <td>baclofen\\r</td>\n",
       "    </tr>\n",
       "    <tr>\n",
       "      <th>1</th>\n",
       "      <td>baclofen-518bf599ac6ab35b4d48099f</td>\n",
       "      <td>67</td>\n",
       "      <td>73</td>\n",
       "      <td>ADR</td>\n",
       "      <td>sleepy</td>\n",
       "      <td>baclofen</td>\n",
       "      <td>baclofen\\r</td>\n",
       "    </tr>\n",
       "    <tr>\n",
       "      <th>2</th>\n",
       "      <td>baclofen-518bf599ac6ab35b4d48099f</td>\n",
       "      <td>74</td>\n",
       "      <td>77</td>\n",
       "      <td>ADR</td>\n",
       "      <td>fog</td>\n",
       "      <td>baclofen</td>\n",
       "      <td>baclofen\\r</td>\n",
       "    </tr>\n",
       "    <tr>\n",
       "      <th>3</th>\n",
       "      <td>baclofen-51905f6cac6ab35b4d483a24</td>\n",
       "      <td>69</td>\n",
       "      <td>75</td>\n",
       "      <td>ADR</td>\n",
       "      <td>gorked</td>\n",
       "      <td>baclofen</td>\n",
       "      <td>baclofen\\r</td>\n",
       "    </tr>\n",
       "    <tr>\n",
       "      <th>4</th>\n",
       "      <td>baclofen-51ae70ba5378f924d02efb33</td>\n",
       "      <td>23</td>\n",
       "      <td>47</td>\n",
       "      <td>ADR</td>\n",
       "      <td>make me a bigger asshole</td>\n",
       "      <td>baclofen</td>\n",
       "      <td>baclofen\\r</td>\n",
       "    </tr>\n",
       "  </tbody>\n",
       "</table>\n",
       "</div>"
      ],
      "text/plain": [
       "                                  id  start  end type  \\\n",
       "0  baclofen-518bf599ac6ab35b4d48099f     60   66  ADR   \n",
       "1  baclofen-518bf599ac6ab35b4d48099f     67   73  ADR   \n",
       "2  baclofen-518bf599ac6ab35b4d48099f     74   77  ADR   \n",
       "3  baclofen-51905f6cac6ab35b4d483a24     69   75  ADR   \n",
       "4  baclofen-51ae70ba5378f924d02efb33     23   47  ADR   \n",
       "\n",
       "                        adr     drug1       drug2  \n",
       "0                     tired  baclofen  baclofen\\r  \n",
       "1                    sleepy  baclofen  baclofen\\r  \n",
       "2                       fog  baclofen  baclofen\\r  \n",
       "3                    gorked  baclofen  baclofen\\r  \n",
       "4  make me a bigger asshole  baclofen  baclofen\\r  "
      ]
     },
     "execution_count": 8,
     "metadata": {},
     "output_type": "execute_result"
    }
   ],
   "source": [
    "train_ann =  pd.read_csv(DATA_DIR+'/train_tweet_annotations.tsv', delimiter='\\t', lineterminator='\\n', header=None)\n",
    "train_ann.columns = [\"id\",\"start\",\"end\",\"type\",\"adr\",\"drug1\",\"drug2\"]\n",
    "train_ann.head()"
   ]
  },
  {
   "cell_type": "code",
   "execution_count": 9,
   "metadata": {
    "colab": {},
    "colab_type": "code",
    "id": "DUAnQa3EoLgt"
   },
   "outputs": [],
   "source": [
    "#annotate train tweets with ner labels\n",
    "train_annotations = []\n",
    "num_data_ids = train_ids.shape[0]\n",
    "for i in range(num_data_ids):\n",
    "  train_annotations.append(annotate_tweets(train_ids, train_ann, i))"
   ]
  },
  {
   "cell_type": "code",
   "execution_count": 10,
   "metadata": {
    "colab": {},
    "colab_type": "code",
    "id": "QB2xxD37qcid"
   },
   "outputs": [],
   "source": [
    "#save full train dataset to csv file\n",
    "full_train_tweet_ids_ner = pd.concat([train_ids, pd.DataFrame(np.array(train_annotations),columns=['ner'])], axis=1)\n",
    "full_train_tweet_ids_ner.to_csv(DATA_DIR+'/full_train_tweet_ids_ner.csv', index=False)"
   ]
  },
  {
   "cell_type": "code",
   "execution_count": 11,
   "metadata": {
    "colab": {
     "base_uri": "https://localhost:8080/",
     "height": 34
    },
    "colab_type": "code",
    "id": "z7F7U3yh_Ip0",
    "outputId": "bc372b89-39dd-4d96-f0e1-f5e8fbaa562f"
   },
   "outputs": [],
   "source": [
    "#split into train dataset to csv file\n",
    "train_tweet_ids_ner = full_train_tweet_ids_ner\n",
    "train_tweet_ids_ner.to_csv(DATA_DIR+'train_tweet_ids_ner.csv', index=False)"
   ]
  },
  {
   "cell_type": "code",
   "execution_count": 12,
   "metadata": {
    "colab": {},
    "colab_type": "code",
    "id": "1DzQnw8K8JqW"
   },
   "outputs": [],
   "source": [
    "#split into train and dev dataset ner labels to tsv file\n",
    "with open(OUTPUT_DIR+'train.tsv', 'w', newline='\\n', encoding='utf-8') as f_output:\n",
    "  tsv_output = csv.writer(f_output, delimiter='\\n', quoting = csv.QUOTE_NONE, escapechar='\\\\')\n",
    "  for annot in train_tweet_ids_ner['ner'].tolist():\n",
    "    tsv_output.writerow(annot)\n",
    "    tsv_output.writerow('')"
   ]
  },
  {
   "cell_type": "code",
   "execution_count": 13,
   "metadata": {
    "colab": {
     "base_uri": "https://localhost:8080/",
     "height": 85
    },
    "colab_type": "code",
    "id": "x0LXZXGf_ptx",
    "outputId": "57d2af45-259d-4d7b-8dbf-84e3adfccdd9"
   },
   "outputs": [
    {
     "data": {
      "text/plain": [
       "O    14592\n",
       "B      504\n",
       "I      449\n",
       "Name: 1, dtype: int64"
      ]
     },
     "execution_count": 13,
     "metadata": {},
     "output_type": "execute_result"
    }
   ],
   "source": [
    "train_ner = pd.read_csv(DATA_DIR+'train_tweet_ner_labels.tsv', delimiter='\\t', header=None)\n",
    "train_ner[1].value_counts()"
   ]
  },
  {
   "cell_type": "code",
   "execution_count": 36,
   "metadata": {},
   "outputs": [],
   "source": [
    "# df = pd.read_csv(OUTPUT_DIR + 'train.tsv', delimiter='\\t', header=None)\n",
    "# df = df.replace(np.nan, '', regex=True)\n",
    "# df.to_csv(OUTPUT_DIR + 'train.tsv', sep='\\t', header=None)"
   ]
  },
  {
   "cell_type": "code",
   "execution_count": 39,
   "metadata": {},
   "outputs": [],
   "source": [
    "# df = pd.read_csv(OUTPUT_DIR + 'test.tsv', delimiter='\\t', header=None)\n",
    "# df = df.replace(np.nan, '', regex=True)\n",
    "# df.to_csv(OUTPUT_DIR + 'test.tsv', sep='\\t', header=None)"
   ]
  },
  {
   "cell_type": "markdown",
   "metadata": {
    "colab_type": "text",
    "id": "2Fi_MNoF8CZ-"
   },
   "source": [
    "# Load test data"
   ]
  },
  {
   "cell_type": "code",
   "execution_count": 14,
   "metadata": {
    "colab": {
     "base_uri": "https://localhost:8080/",
     "height": 34
    },
    "colab_type": "code",
    "id": "-VcdAmXzyX36",
    "outputId": "5f95c724-d862-455b-cc8c-83d26dc107df"
   },
   "outputs": [
    {
     "data": {
      "text/plain": [
       "253"
      ]
     },
     "execution_count": 14,
     "metadata": {},
     "output_type": "execute_result"
    }
   ],
   "source": [
    "#load test data\n",
    "test_ids = pd.read_csv(DATA_DIR+'/test_ids_valid.csv')\n",
    "test_ids.shape[0]"
   ]
  },
  {
   "cell_type": "code",
   "execution_count": 15,
   "metadata": {
    "colab": {
     "base_uri": "https://localhost:8080/",
     "height": 68
    },
    "colab_type": "code",
    "id": "HJqRN349y0mZ",
    "outputId": "dceb3d1e-f18d-439d-b355-ae26274a7f6e"
   },
   "outputs": [
    {
     "data": {
      "text/plain": [
       "1    140\n",
       "0    113\n",
       "Name: adr_present, dtype: int64"
      ]
     },
     "execution_count": 15,
     "metadata": {},
     "output_type": "execute_result"
    }
   ],
   "source": [
    "test_ids['adr_present'].value_counts()"
   ]
  },
  {
   "cell_type": "code",
   "execution_count": 16,
   "metadata": {
    "colab": {
     "base_uri": "https://localhost:8080/",
     "height": 204
    },
    "colab_type": "code",
    "id": "3rvIH-owAtSD",
    "outputId": "6518d1f0-441d-43db-e167-07e7e6cfe32b"
   },
   "outputs": [
    {
     "data": {
      "text/html": [
       "<div>\n",
       "<style scoped>\n",
       "    .dataframe tbody tr th:only-of-type {\n",
       "        vertical-align: middle;\n",
       "    }\n",
       "\n",
       "    .dataframe tbody tr th {\n",
       "        vertical-align: top;\n",
       "    }\n",
       "\n",
       "    .dataframe thead th {\n",
       "        text-align: right;\n",
       "    }\n",
       "</style>\n",
       "<table border=\"1\" class=\"dataframe\">\n",
       "  <thead>\n",
       "    <tr style=\"text-align: right;\">\n",
       "      <th></th>\n",
       "      <th>id</th>\n",
       "      <th>start</th>\n",
       "      <th>end</th>\n",
       "      <th>type</th>\n",
       "      <th>adr</th>\n",
       "      <th>drug1</th>\n",
       "      <th>drug2</th>\n",
       "    </tr>\n",
       "  </thead>\n",
       "  <tbody>\n",
       "    <tr>\n",
       "      <th>0</th>\n",
       "      <td>avelox-51c3e5a853785f584a9a8c01</td>\n",
       "      <td>76</td>\n",
       "      <td>93</td>\n",
       "      <td>ADR</td>\n",
       "      <td>connective tissue</td>\n",
       "      <td>avelox</td>\n",
       "      <td>avelox\\r</td>\n",
       "    </tr>\n",
       "    <tr>\n",
       "      <th>1</th>\n",
       "      <td>avelox-51c3e5a853785f584a9a8c01</td>\n",
       "      <td>94</td>\n",
       "      <td>99</td>\n",
       "      <td>ADR</td>\n",
       "      <td>lungs</td>\n",
       "      <td>avelox</td>\n",
       "      <td>avelox\\r</td>\n",
       "    </tr>\n",
       "    <tr>\n",
       "      <th>2</th>\n",
       "      <td>avelox-51c3e5a853785f584a9a8c01</td>\n",
       "      <td>104</td>\n",
       "      <td>111</td>\n",
       "      <td>ADR</td>\n",
       "      <td>thyroid</td>\n",
       "      <td>avelox</td>\n",
       "      <td>avelox\\r</td>\n",
       "    </tr>\n",
       "    <tr>\n",
       "      <th>3</th>\n",
       "      <td>baclofen-51b35e355378b9555a2f0709</td>\n",
       "      <td>78</td>\n",
       "      <td>84</td>\n",
       "      <td>ADR</td>\n",
       "      <td>drowsy</td>\n",
       "      <td>baclofen</td>\n",
       "      <td>baclofen\\r</td>\n",
       "    </tr>\n",
       "    <tr>\n",
       "      <th>4</th>\n",
       "      <td>baclofen-51b35e355378b9555a2f0709</td>\n",
       "      <td>110</td>\n",
       "      <td>114</td>\n",
       "      <td>ADR</td>\n",
       "      <td>high</td>\n",
       "      <td>baclofen</td>\n",
       "      <td>baclofen\\r</td>\n",
       "    </tr>\n",
       "  </tbody>\n",
       "</table>\n",
       "</div>"
      ],
      "text/plain": [
       "                                  id  start  end type                adr  \\\n",
       "0    avelox-51c3e5a853785f584a9a8c01     76   93  ADR  connective tissue   \n",
       "1    avelox-51c3e5a853785f584a9a8c01     94   99  ADR              lungs   \n",
       "2    avelox-51c3e5a853785f584a9a8c01    104  111  ADR            thyroid   \n",
       "3  baclofen-51b35e355378b9555a2f0709     78   84  ADR             drowsy   \n",
       "4  baclofen-51b35e355378b9555a2f0709    110  114  ADR               high   \n",
       "\n",
       "      drug1       drug2  \n",
       "0    avelox    avelox\\r  \n",
       "1    avelox    avelox\\r  \n",
       "2    avelox    avelox\\r  \n",
       "3  baclofen  baclofen\\r  \n",
       "4  baclofen  baclofen\\r  "
      ]
     },
     "execution_count": 16,
     "metadata": {},
     "output_type": "execute_result"
    }
   ],
   "source": [
    "test_ann =  pd.read_csv(DATA_DIR+'/test_tweet_annotations.tsv', delimiter='\\t', lineterminator='\\n', header=None)\n",
    "test_ann.columns = [\"id\",\"start\",\"end\",\"type\",\"adr\",\"drug1\",\"drug2\"]\n",
    "test_ann.head()"
   ]
  },
  {
   "cell_type": "code",
   "execution_count": 17,
   "metadata": {
    "colab": {},
    "colab_type": "code",
    "id": "O_0X6un8AmPW"
   },
   "outputs": [],
   "source": [
    "#annotate test tweets with ner labels\n",
    "test_annotations = []\n",
    "num_data_ids = test_ids.shape[0]\n",
    "for i in range(num_data_ids):\n",
    "  test_annotations.append(annotate_tweets(test_ids, test_ann, i))"
   ]
  },
  {
   "cell_type": "code",
   "execution_count": 18,
   "metadata": {
    "colab": {},
    "colab_type": "code",
    "id": "PsUwYZS5AmPd"
   },
   "outputs": [],
   "source": [
    "#save test dataset to csv file\n",
    "test_tweet_ids_ner = pd.concat([test_ids, pd.DataFrame(np.array(test_annotations),columns=['ner'])], axis=1)\n",
    "test_tweet_ids_ner.to_csv(DATA_DIR+'test_tweet_ids_ner.csv', index=False)"
   ]
  },
  {
   "cell_type": "code",
   "execution_count": 19,
   "metadata": {
    "colab": {},
    "colab_type": "code",
    "id": "crJWbxr6AmPh"
   },
   "outputs": [],
   "source": [
    "#save test ner labels to tsv file\n",
    "with open(OUTPUT_DIR+'test.tsv', 'w', newline='\\n', encoding='utf-8') as f_output:\n",
    "  tsv_output = csv.writer(f_output, delimiter='\\n', quoting = csv.QUOTE_NONE, escapechar='\\\\')\n",
    "  for annot in test_annotations:\n",
    "    annot = [word.encode(sys.stdout.encoding, errors='replace') for word in annot]\n",
    "    tsv_output.writerow(annot)\n",
    "    tsv_output.writerow('')"
   ]
  },
  {
   "cell_type": "code",
   "execution_count": 20,
   "metadata": {},
   "outputs": [],
   "source": [
    "#split into train and dev dataset ner labels to tsv file\n",
    "with open(OUTPUT_DIR+'test.tsv', 'w', newline='\\n', encoding='utf-8') as f_output:\n",
    "  tsv_output = csv.writer(f_output, delimiter='\\n', quoting = csv.QUOTE_NONE, escapechar='\\\\')\n",
    "  for annot in test_tweet_ids_ner['ner'].tolist():\n",
    "    tsv_output.writerow(annot)\n",
    "    tsv_output.writerow('')"
   ]
  },
  {
   "cell_type": "code",
   "execution_count": null,
   "metadata": {},
   "outputs": [],
   "source": []
  }
 ],
 "metadata": {
  "accelerator": "GPU",
  "colab": {
   "collapsed_sections": [],
   "machine_shape": "hm",
   "name": "W266 Project Colab - NER Twitter.ipynb",
   "provenance": []
  },
  "kernelspec": {
   "display_name": "Python 3",
   "language": "python",
   "name": "python3"
  },
  "language_info": {
   "codemirror_mode": {
    "name": "ipython",
    "version": 3
   },
   "file_extension": ".py",
   "mimetype": "text/x-python",
   "name": "python",
   "nbconvert_exporter": "python",
   "pygments_lexer": "ipython3",
   "version": "3.7.3"
  }
 },
 "nbformat": 4,
 "nbformat_minor": 1
}
