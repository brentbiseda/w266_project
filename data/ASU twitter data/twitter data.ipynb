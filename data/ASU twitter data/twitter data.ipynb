{
 "cells": [
  {
   "cell_type": "code",
   "execution_count": 19,
   "metadata": {},
   "outputs": [],
   "source": [
    "import sys, urllib, re, json, socket, string\n",
    "import requests\n",
    "from bs4 import BeautifulSoup\n",
    "import pandas as pd\n",
    "import numpy as np"
   ]
  },
  {
   "cell_type": "code",
   "execution_count": 15,
   "metadata": {},
   "outputs": [
    {
     "data": {
      "text/html": [
       "<div>\n",
       "<style scoped>\n",
       "    .dataframe tbody tr th:only-of-type {\n",
       "        vertical-align: middle;\n",
       "    }\n",
       "\n",
       "    .dataframe tbody tr th {\n",
       "        vertical-align: top;\n",
       "    }\n",
       "\n",
       "    .dataframe thead th {\n",
       "        text-align: right;\n",
       "    }\n",
       "</style>\n",
       "<table border=\"1\" class=\"dataframe\">\n",
       "  <thead>\n",
       "    <tr style=\"text-align: right;\">\n",
       "      <th></th>\n",
       "      <th>0</th>\n",
       "      <th>1</th>\n",
       "      <th>2</th>\n",
       "    </tr>\n",
       "  </thead>\n",
       "  <tbody>\n",
       "    <tr>\n",
       "      <th>0</th>\n",
       "      <td>333007591879884802</td>\n",
       "      <td>242520444</td>\n",
       "      <td>levaquin-518d891bac6ab35b4d481e06</td>\n",
       "    </tr>\n",
       "    <tr>\n",
       "      <th>1</th>\n",
       "      <td>344616533332467713</td>\n",
       "      <td>173701851</td>\n",
       "      <td>vyvanse-51b7c4c75378b9555a2f1ab8</td>\n",
       "    </tr>\n",
       "    <tr>\n",
       "      <th>2</th>\n",
       "      <td>344630199217958912</td>\n",
       "      <td>385562257</td>\n",
       "      <td>vyvanse-51b7d1815378b9555a2f1b0c</td>\n",
       "    </tr>\n",
       "    <tr>\n",
       "      <th>3</th>\n",
       "      <td>342117282585133056</td>\n",
       "      <td>1110475417</td>\n",
       "      <td>cymbalta-51aead545378f924d02efd7c</td>\n",
       "    </tr>\n",
       "    <tr>\n",
       "      <th>4</th>\n",
       "      <td>333102549362176001</td>\n",
       "      <td>356547564</td>\n",
       "      <td>seroquel-518de18bac6ab35b4d482156</td>\n",
       "    </tr>\n",
       "  </tbody>\n",
       "</table>\n",
       "</div>"
      ],
      "text/plain": [
       "                    0           1                                  2\n",
       "0  333007591879884802   242520444  levaquin-518d891bac6ab35b4d481e06\n",
       "1  344616533332467713   173701851   vyvanse-51b7c4c75378b9555a2f1ab8\n",
       "2  344630199217958912   385562257   vyvanse-51b7d1815378b9555a2f1b0c\n",
       "3  342117282585133056  1110475417  cymbalta-51aead545378f924d02efd7c\n",
       "4  333102549362176001   356547564  seroquel-518de18bac6ab35b4d482156"
      ]
     },
     "execution_count": 15,
     "metadata": {},
     "output_type": "execute_result"
    }
   ],
   "source": [
    "train_ids = pd.read_csv(\"train_tweet_ids.tsv\", sep=\"\\t\", header=None)\n",
    "train_ids.head()"
   ]
  },
  {
   "cell_type": "code",
   "execution_count": 133,
   "metadata": {},
   "outputs": [
    {
     "data": {
      "text/plain": [
       "(1340, 3)"
      ]
     },
     "execution_count": 133,
     "metadata": {},
     "output_type": "execute_result"
    }
   ],
   "source": [
    "train_ids.shape"
   ]
  },
  {
   "cell_type": "code",
   "execution_count": 161,
   "metadata": {},
   "outputs": [
    {
     "data": {
      "text/html": [
       "<div>\n",
       "<style scoped>\n",
       "    .dataframe tbody tr th:only-of-type {\n",
       "        vertical-align: middle;\n",
       "    }\n",
       "\n",
       "    .dataframe tbody tr th {\n",
       "        vertical-align: top;\n",
       "    }\n",
       "\n",
       "    .dataframe thead th {\n",
       "        text-align: right;\n",
       "    }\n",
       "</style>\n",
       "<table border=\"1\" class=\"dataframe\">\n",
       "  <thead>\n",
       "    <tr style=\"text-align: right;\">\n",
       "      <th></th>\n",
       "      <th>id</th>\n",
       "      <th>start</th>\n",
       "      <th>stop</th>\n",
       "      <th>adr_present</th>\n",
       "      <th>adr_text</th>\n",
       "      <th>related_drug</th>\n",
       "      <th>target_drug</th>\n",
       "    </tr>\n",
       "  </thead>\n",
       "  <tbody>\n",
       "    <tr>\n",
       "      <th>0</th>\n",
       "      <td>baclofen-518bf599ac6ab35b4d48099f</td>\n",
       "      <td>60</td>\n",
       "      <td>66</td>\n",
       "      <td>ADR</td>\n",
       "      <td>tired</td>\n",
       "      <td>baclofen</td>\n",
       "      <td>baclofen</td>\n",
       "    </tr>\n",
       "    <tr>\n",
       "      <th>1</th>\n",
       "      <td>baclofen-518bf599ac6ab35b4d48099f</td>\n",
       "      <td>67</td>\n",
       "      <td>73</td>\n",
       "      <td>ADR</td>\n",
       "      <td>sleepy</td>\n",
       "      <td>baclofen</td>\n",
       "      <td>baclofen</td>\n",
       "    </tr>\n",
       "    <tr>\n",
       "      <th>2</th>\n",
       "      <td>baclofen-518bf599ac6ab35b4d48099f</td>\n",
       "      <td>74</td>\n",
       "      <td>77</td>\n",
       "      <td>ADR</td>\n",
       "      <td>fog</td>\n",
       "      <td>baclofen</td>\n",
       "      <td>baclofen</td>\n",
       "    </tr>\n",
       "    <tr>\n",
       "      <th>3</th>\n",
       "      <td>baclofen-51905f6cac6ab35b4d483a24</td>\n",
       "      <td>69</td>\n",
       "      <td>75</td>\n",
       "      <td>ADR</td>\n",
       "      <td>gorked</td>\n",
       "      <td>baclofen</td>\n",
       "      <td>baclofen</td>\n",
       "    </tr>\n",
       "    <tr>\n",
       "      <th>4</th>\n",
       "      <td>baclofen-51ae70ba5378f924d02efb33</td>\n",
       "      <td>23</td>\n",
       "      <td>47</td>\n",
       "      <td>ADR</td>\n",
       "      <td>make me a bigger asshole</td>\n",
       "      <td>baclofen</td>\n",
       "      <td>baclofen</td>\n",
       "    </tr>\n",
       "  </tbody>\n",
       "</table>\n",
       "</div>"
      ],
      "text/plain": [
       "                                  id  start  stop adr_present  \\\n",
       "0  baclofen-518bf599ac6ab35b4d48099f     60    66         ADR   \n",
       "1  baclofen-518bf599ac6ab35b4d48099f     67    73         ADR   \n",
       "2  baclofen-518bf599ac6ab35b4d48099f     74    77         ADR   \n",
       "3  baclofen-51905f6cac6ab35b4d483a24     69    75         ADR   \n",
       "4  baclofen-51ae70ba5378f924d02efb33     23    47         ADR   \n",
       "\n",
       "                   adr_text related_drug target_drug  \n",
       "0                     tired     baclofen    baclofen  \n",
       "1                    sleepy     baclofen    baclofen  \n",
       "2                       fog     baclofen    baclofen  \n",
       "3                    gorked     baclofen    baclofen  \n",
       "4  make me a bigger asshole     baclofen    baclofen  "
      ]
     },
     "execution_count": 161,
     "metadata": {},
     "output_type": "execute_result"
    }
   ],
   "source": [
    "train_anns = pd.read_csv(\"train_tweet_annotations.tsv\", sep=\"\\t\", header=None)\n",
    "train_anns.columns = [\"id\",\"start\",\"stop\",\"adr_present\",\"adr_text\",\"related_drug\",\"target_drug\"]\n",
    "train_anns.head()"
   ]
  },
  {
   "cell_type": "code",
   "execution_count": 137,
   "metadata": {},
   "outputs": [
    {
     "data": {
      "text/plain": [
       "(991, 7)"
      ]
     },
     "execution_count": 137,
     "metadata": {},
     "output_type": "execute_result"
    }
   ],
   "source": [
    "train_anns.shape"
   ]
  },
  {
   "cell_type": "code",
   "execution_count": 139,
   "metadata": {},
   "outputs": [
    {
     "data": {
      "text/plain": [
       "706"
      ]
     },
     "execution_count": 139,
     "metadata": {},
     "output_type": "execute_result"
    }
   ],
   "source": [
    "len(train_anns[0].unique())"
   ]
  },
  {
   "cell_type": "code",
   "execution_count": 135,
   "metadata": {},
   "outputs": [],
   "source": [
    "all_tweets = []\n",
    "all_links = []\n",
    "for i in range(train_ids.shape[0]):\n",
    "    tweetid = train_ids[0][i]\n",
    "    userid = train_ids[1][i]\n",
    "    link = 'http://twitter.com/'+str(userid)+'/status/'+str(tweetid)\n",
    "    all_links.append(link)\n",
    "    request = requests.get(link).text\n",
    "    soup = BeautifulSoup(request,\"lxml\")\n",
    "    tweets = soup.find_all(\"p\", \"TweetTextSize--jumbo\")\n",
    "    tweet_text = list([x.get_text() for x in tweets])\n",
    "    all_tweets.append(tweet_text)"
   ]
  },
  {
   "cell_type": "code",
   "execution_count": 148,
   "metadata": {},
   "outputs": [],
   "source": [
    "train_ids_download = pd.concat([train_ids, pd.DataFrame(all_tweets), pd.DataFrame(all_links)], axis=1)\n",
    "train_ids_download.columns = [\"tweet_id\", \"user_id\",\"id\",\"tweet\",\"url\"]"
   ]
  },
  {
   "cell_type": "code",
   "execution_count": 149,
   "metadata": {
    "scrolled": false
   },
   "outputs": [
    {
     "data": {
      "text/html": [
       "<div>\n",
       "<style scoped>\n",
       "    .dataframe tbody tr th:only-of-type {\n",
       "        vertical-align: middle;\n",
       "    }\n",
       "\n",
       "    .dataframe tbody tr th {\n",
       "        vertical-align: top;\n",
       "    }\n",
       "\n",
       "    .dataframe thead th {\n",
       "        text-align: right;\n",
       "    }\n",
       "</style>\n",
       "<table border=\"1\" class=\"dataframe\">\n",
       "  <thead>\n",
       "    <tr style=\"text-align: right;\">\n",
       "      <th></th>\n",
       "      <th>tweet_id</th>\n",
       "      <th>user_id</th>\n",
       "      <th>id</th>\n",
       "      <th>tweet</th>\n",
       "      <th>url</th>\n",
       "    </tr>\n",
       "  </thead>\n",
       "  <tbody>\n",
       "    <tr>\n",
       "      <th>0</th>\n",
       "      <td>333007591879884802</td>\n",
       "      <td>242520444</td>\n",
       "      <td>levaquin-518d891bac6ab35b4d481e06</td>\n",
       "      <td>None</td>\n",
       "      <td>http://twitter.com/242520444/status/3330075918...</td>\n",
       "    </tr>\n",
       "    <tr>\n",
       "      <th>1</th>\n",
       "      <td>344616533332467713</td>\n",
       "      <td>173701851</td>\n",
       "      <td>vyvanse-51b7c4c75378b9555a2f1ab8</td>\n",
       "      <td>Vyvanse, commonly known as OCD in a pill.</td>\n",
       "      <td>http://twitter.com/173701851/status/3446165333...</td>\n",
       "    </tr>\n",
       "    <tr>\n",
       "      <th>2</th>\n",
       "      <td>344630199217958912</td>\n",
       "      <td>385562257</td>\n",
       "      <td>vyvanse-51b7d1815378b9555a2f1b0c</td>\n",
       "      <td>@MTV When are you going to do True Life: I am ...</td>\n",
       "      <td>http://twitter.com/385562257/status/3446301992...</td>\n",
       "    </tr>\n",
       "    <tr>\n",
       "      <th>3</th>\n",
       "      <td>342117282585133056</td>\n",
       "      <td>1110475417</td>\n",
       "      <td>cymbalta-51aead545378f924d02efd7c</td>\n",
       "      <td>@upasbook Great read as always. I was on Cymba...</td>\n",
       "      <td>http://twitter.com/1110475417/status/342117282...</td>\n",
       "    </tr>\n",
       "    <tr>\n",
       "      <th>4</th>\n",
       "      <td>333102549362176001</td>\n",
       "      <td>356547564</td>\n",
       "      <td>seroquel-518de18bac6ab35b4d482156</td>\n",
       "      <td>None</td>\n",
       "      <td>http://twitter.com/356547564/status/3331025493...</td>\n",
       "    </tr>\n",
       "  </tbody>\n",
       "</table>\n",
       "</div>"
      ],
      "text/plain": [
       "             tweet_id     user_id                                 id  \\\n",
       "0  333007591879884802   242520444  levaquin-518d891bac6ab35b4d481e06   \n",
       "1  344616533332467713   173701851   vyvanse-51b7c4c75378b9555a2f1ab8   \n",
       "2  344630199217958912   385562257   vyvanse-51b7d1815378b9555a2f1b0c   \n",
       "3  342117282585133056  1110475417  cymbalta-51aead545378f924d02efd7c   \n",
       "4  333102549362176001   356547564  seroquel-518de18bac6ab35b4d482156   \n",
       "\n",
       "                                               tweet  \\\n",
       "0                                               None   \n",
       "1          Vyvanse, commonly known as OCD in a pill.   \n",
       "2  @MTV When are you going to do True Life: I am ...   \n",
       "3  @upasbook Great read as always. I was on Cymba...   \n",
       "4                                               None   \n",
       "\n",
       "                                                 url  \n",
       "0  http://twitter.com/242520444/status/3330075918...  \n",
       "1  http://twitter.com/173701851/status/3446165333...  \n",
       "2  http://twitter.com/385562257/status/3446301992...  \n",
       "3  http://twitter.com/1110475417/status/342117282...  \n",
       "4  http://twitter.com/356547564/status/3331025493...  "
      ]
     },
     "execution_count": 149,
     "metadata": {},
     "output_type": "execute_result"
    }
   ],
   "source": [
    "train_ids_download.head()"
   ]
  },
  {
   "cell_type": "code",
   "execution_count": 155,
   "metadata": {},
   "outputs": [],
   "source": [
    "train_ids_download.to_csv(\"train_ids_download.csv\", index=False)"
   ]
  },
  {
   "cell_type": "code",
   "execution_count": 183,
   "metadata": {},
   "outputs": [
    {
     "data": {
      "text/html": [
       "<div>\n",
       "<style scoped>\n",
       "    .dataframe tbody tr th:only-of-type {\n",
       "        vertical-align: middle;\n",
       "    }\n",
       "\n",
       "    .dataframe tbody tr th {\n",
       "        vertical-align: top;\n",
       "    }\n",
       "\n",
       "    .dataframe thead th {\n",
       "        text-align: right;\n",
       "    }\n",
       "</style>\n",
       "<table border=\"1\" class=\"dataframe\">\n",
       "  <thead>\n",
       "    <tr style=\"text-align: right;\">\n",
       "      <th></th>\n",
       "      <th>index</th>\n",
       "      <th>tweet_id</th>\n",
       "      <th>user_id</th>\n",
       "      <th>id</th>\n",
       "      <th>tweet</th>\n",
       "      <th>url</th>\n",
       "    </tr>\n",
       "  </thead>\n",
       "  <tbody>\n",
       "    <tr>\n",
       "      <th>0</th>\n",
       "      <td>1</td>\n",
       "      <td>344616533332467713</td>\n",
       "      <td>173701851</td>\n",
       "      <td>vyvanse-51b7c4c75378b9555a2f1ab8</td>\n",
       "      <td>Vyvanse, commonly known as OCD in a pill.</td>\n",
       "      <td>http://twitter.com/173701851/status/3446165333...</td>\n",
       "    </tr>\n",
       "    <tr>\n",
       "      <th>1</th>\n",
       "      <td>2</td>\n",
       "      <td>344630199217958912</td>\n",
       "      <td>385562257</td>\n",
       "      <td>vyvanse-51b7d1815378b9555a2f1b0c</td>\n",
       "      <td>@MTV When are you going to do True Life: I am ...</td>\n",
       "      <td>http://twitter.com/385562257/status/3446301992...</td>\n",
       "    </tr>\n",
       "    <tr>\n",
       "      <th>2</th>\n",
       "      <td>3</td>\n",
       "      <td>342117282585133056</td>\n",
       "      <td>1110475417</td>\n",
       "      <td>cymbalta-51aead545378f924d02efd7c</td>\n",
       "      <td>@upasbook Great read as always. I was on Cymba...</td>\n",
       "      <td>http://twitter.com/1110475417/status/342117282...</td>\n",
       "    </tr>\n",
       "    <tr>\n",
       "      <th>3</th>\n",
       "      <td>9</td>\n",
       "      <td>351446999637299200</td>\n",
       "      <td>1061562434</td>\n",
       "      <td>seroquel-51d09e2a53785f584a9ae686</td>\n",
       "      <td>I wonder if seroquel /then/ food still equals ...</td>\n",
       "      <td>http://twitter.com/1061562434/status/351446999...</td>\n",
       "    </tr>\n",
       "    <tr>\n",
       "      <th>4</th>\n",
       "      <td>12</td>\n",
       "      <td>348262745730338817</td>\n",
       "      <td>97567146</td>\n",
       "      <td>rivaroxaban-51c5089353785f584a9a91e5</td>\n",
       "      <td>Rivaroxaban diary day 22. Last tablet taken Tu...</td>\n",
       "      <td>http://twitter.com/97567146/status/34826274573...</td>\n",
       "    </tr>\n",
       "  </tbody>\n",
       "</table>\n",
       "</div>"
      ],
      "text/plain": [
       "   index            tweet_id     user_id  \\\n",
       "0      1  344616533332467713   173701851   \n",
       "1      2  344630199217958912   385562257   \n",
       "2      3  342117282585133056  1110475417   \n",
       "3      9  351446999637299200  1061562434   \n",
       "4     12  348262745730338817    97567146   \n",
       "\n",
       "                                     id  \\\n",
       "0      vyvanse-51b7c4c75378b9555a2f1ab8   \n",
       "1      vyvanse-51b7d1815378b9555a2f1b0c   \n",
       "2     cymbalta-51aead545378f924d02efd7c   \n",
       "3     seroquel-51d09e2a53785f584a9ae686   \n",
       "4  rivaroxaban-51c5089353785f584a9a91e5   \n",
       "\n",
       "                                               tweet  \\\n",
       "0          Vyvanse, commonly known as OCD in a pill.   \n",
       "1  @MTV When are you going to do True Life: I am ...   \n",
       "2  @upasbook Great read as always. I was on Cymba...   \n",
       "3  I wonder if seroquel /then/ food still equals ...   \n",
       "4  Rivaroxaban diary day 22. Last tablet taken Tu...   \n",
       "\n",
       "                                                 url  \n",
       "0  http://twitter.com/173701851/status/3446165333...  \n",
       "1  http://twitter.com/385562257/status/3446301992...  \n",
       "2  http://twitter.com/1110475417/status/342117282...  \n",
       "3  http://twitter.com/1061562434/status/351446999...  \n",
       "4  http://twitter.com/97567146/status/34826274573...  "
      ]
     },
     "execution_count": 183,
     "metadata": {},
     "output_type": "execute_result"
    }
   ],
   "source": [
    "train_ids_valid = train_ids_download[train_ids_download[\"tweet\"].isnull()==False].reset_index()\n",
    "train_ids_valid.head()"
   ]
  },
  {
   "cell_type": "code",
   "execution_count": 185,
   "metadata": {},
   "outputs": [
    {
     "data": {
      "text/plain": [
       "(712,)"
      ]
     },
     "execution_count": 185,
     "metadata": {},
     "output_type": "execute_result"
    }
   ],
   "source": [
    "#number of tweets that were able to found\n",
    "train_ids_valid[\"id\"].shape"
   ]
  },
  {
   "cell_type": "code",
   "execution_count": 202,
   "metadata": {
    "scrolled": true
   },
   "outputs": [],
   "source": [
    "unique_anns = set(train_anns[\"id\"])"
   ]
  },
  {
   "cell_type": "code",
   "execution_count": 195,
   "metadata": {},
   "outputs": [],
   "source": [
    "adr_present = []\n",
    "for i in range(train_ids_valid.shape[0]):\n",
    "    if train_ids_valid[\"id\"][i] in unique_anns:\n",
    "        adr_present.append(1)\n",
    "    else:\n",
    "        adr_present.append(0)"
   ]
  },
  {
   "cell_type": "code",
   "execution_count": 198,
   "metadata": {
    "scrolled": false
   },
   "outputs": [
    {
     "data": {
      "text/html": [
       "<div>\n",
       "<style scoped>\n",
       "    .dataframe tbody tr th:only-of-type {\n",
       "        vertical-align: middle;\n",
       "    }\n",
       "\n",
       "    .dataframe tbody tr th {\n",
       "        vertical-align: top;\n",
       "    }\n",
       "\n",
       "    .dataframe thead th {\n",
       "        text-align: right;\n",
       "    }\n",
       "</style>\n",
       "<table border=\"1\" class=\"dataframe\">\n",
       "  <thead>\n",
       "    <tr style=\"text-align: right;\">\n",
       "      <th></th>\n",
       "      <th>index</th>\n",
       "      <th>tweet_id</th>\n",
       "      <th>user_id</th>\n",
       "      <th>id</th>\n",
       "      <th>tweet</th>\n",
       "      <th>url</th>\n",
       "      <th>adr_present</th>\n",
       "    </tr>\n",
       "  </thead>\n",
       "  <tbody>\n",
       "    <tr>\n",
       "      <th>0</th>\n",
       "      <td>1</td>\n",
       "      <td>344616533332467713</td>\n",
       "      <td>173701851</td>\n",
       "      <td>vyvanse-51b7c4c75378b9555a2f1ab8</td>\n",
       "      <td>Vyvanse, commonly known as OCD in a pill.</td>\n",
       "      <td>http://twitter.com/173701851/status/3446165333...</td>\n",
       "      <td>1</td>\n",
       "    </tr>\n",
       "    <tr>\n",
       "      <th>1</th>\n",
       "      <td>2</td>\n",
       "      <td>344630199217958912</td>\n",
       "      <td>385562257</td>\n",
       "      <td>vyvanse-51b7d1815378b9555a2f1b0c</td>\n",
       "      <td>@MTV When are you going to do True Life: I am ...</td>\n",
       "      <td>http://twitter.com/385562257/status/3446301992...</td>\n",
       "      <td>1</td>\n",
       "    </tr>\n",
       "    <tr>\n",
       "      <th>2</th>\n",
       "      <td>3</td>\n",
       "      <td>342117282585133056</td>\n",
       "      <td>1110475417</td>\n",
       "      <td>cymbalta-51aead545378f924d02efd7c</td>\n",
       "      <td>@upasbook Great read as always. I was on Cymba...</td>\n",
       "      <td>http://twitter.com/1110475417/status/342117282...</td>\n",
       "      <td>1</td>\n",
       "    </tr>\n",
       "    <tr>\n",
       "      <th>3</th>\n",
       "      <td>9</td>\n",
       "      <td>351446999637299200</td>\n",
       "      <td>1061562434</td>\n",
       "      <td>seroquel-51d09e2a53785f584a9ae686</td>\n",
       "      <td>I wonder if seroquel /then/ food still equals ...</td>\n",
       "      <td>http://twitter.com/1061562434/status/351446999...</td>\n",
       "      <td>1</td>\n",
       "    </tr>\n",
       "    <tr>\n",
       "      <th>4</th>\n",
       "      <td>12</td>\n",
       "      <td>348262745730338817</td>\n",
       "      <td>97567146</td>\n",
       "      <td>rivaroxaban-51c5089353785f584a9a91e5</td>\n",
       "      <td>Rivaroxaban diary day 22. Last tablet taken Tu...</td>\n",
       "      <td>http://twitter.com/97567146/status/34826274573...</td>\n",
       "      <td>1</td>\n",
       "    </tr>\n",
       "  </tbody>\n",
       "</table>\n",
       "</div>"
      ],
      "text/plain": [
       "   index            tweet_id     user_id  \\\n",
       "0      1  344616533332467713   173701851   \n",
       "1      2  344630199217958912   385562257   \n",
       "2      3  342117282585133056  1110475417   \n",
       "3      9  351446999637299200  1061562434   \n",
       "4     12  348262745730338817    97567146   \n",
       "\n",
       "                                     id  \\\n",
       "0      vyvanse-51b7c4c75378b9555a2f1ab8   \n",
       "1      vyvanse-51b7d1815378b9555a2f1b0c   \n",
       "2     cymbalta-51aead545378f924d02efd7c   \n",
       "3     seroquel-51d09e2a53785f584a9ae686   \n",
       "4  rivaroxaban-51c5089353785f584a9a91e5   \n",
       "\n",
       "                                               tweet  \\\n",
       "0          Vyvanse, commonly known as OCD in a pill.   \n",
       "1  @MTV When are you going to do True Life: I am ...   \n",
       "2  @upasbook Great read as always. I was on Cymba...   \n",
       "3  I wonder if seroquel /then/ food still equals ...   \n",
       "4  Rivaroxaban diary day 22. Last tablet taken Tu...   \n",
       "\n",
       "                                                 url  adr_present  \n",
       "0  http://twitter.com/173701851/status/3446165333...            1  \n",
       "1  http://twitter.com/385562257/status/3446301992...            1  \n",
       "2  http://twitter.com/1110475417/status/342117282...            1  \n",
       "3  http://twitter.com/1061562434/status/351446999...            1  \n",
       "4  http://twitter.com/97567146/status/34826274573...            1  "
      ]
     },
     "execution_count": 198,
     "metadata": {},
     "output_type": "execute_result"
    }
   ],
   "source": [
    "train_ids_valid2 = pd.concat([train_ids_valid, pd.DataFrame(adr_present, columns=[\"adr_present\"])], axis=1)\n",
    "train_ids_valid2.head()"
   ]
  },
  {
   "cell_type": "code",
   "execution_count": 204,
   "metadata": {},
   "outputs": [],
   "source": [
    "train_ids_valid2.to_csv(\"train_ids_valid.csv\", index=False)"
   ]
  },
  {
   "cell_type": "code",
   "execution_count": 206,
   "metadata": {},
   "outputs": [
    {
     "data": {
      "text/plain": [
       "1    360\n",
       "0    352\n",
       "Name: adr_present, dtype: int64"
      ]
     },
     "execution_count": 206,
     "metadata": {},
     "output_type": "execute_result"
    }
   ],
   "source": [
    "train_ids_valid2[\"adr_present\"].value_counts()"
   ]
  }
 ],
 "metadata": {
  "kernelspec": {
   "display_name": "Python 3",
   "language": "python",
   "name": "python3"
  },
  "language_info": {
   "codemirror_mode": {
    "name": "ipython",
    "version": 3
   },
   "file_extension": ".py",
   "mimetype": "text/x-python",
   "name": "python",
   "nbconvert_exporter": "python",
   "pygments_lexer": "ipython3",
   "version": "3.6.4"
  }
 },
 "nbformat": 4,
 "nbformat_minor": 2
}
