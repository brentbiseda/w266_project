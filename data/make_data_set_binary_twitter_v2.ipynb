{
 "cells": [
  {
   "cell_type": "code",
   "execution_count": 1,
   "metadata": {},
   "outputs": [],
   "source": [
    "import pandas as pd\n",
    "import numpy as np\n",
    "import re\n",
    "from sklearn.model_selection import train_test_split\n",
    "from sklearn.utils import shuffle"
   ]
  },
  {
   "cell_type": "markdown",
   "metadata": {},
   "source": [
    "# Process the Training File"
   ]
  },
  {
   "cell_type": "code",
   "execution_count": 2,
   "metadata": {},
   "outputs": [],
   "source": [
    "filename = \"binary_tweets_valid.csv\""
   ]
  },
  {
   "cell_type": "code",
   "execution_count": 3,
   "metadata": {},
   "outputs": [],
   "source": [
    "df = pd.read_csv('./twitter data/'+filename, lineterminator='\\n')"
   ]
  },
  {
   "cell_type": "code",
   "execution_count": 4,
   "metadata": {},
   "outputs": [],
   "source": [
    "# Remove the unnecessary columns\n",
    "df = df.drop(['index', 'tweet_id', 'user_id', 'url'], axis=1)"
   ]
  },
  {
   "cell_type": "code",
   "execution_count": 5,
   "metadata": {},
   "outputs": [],
   "source": [
    "df = df.rename(columns={\n",
    "    \"tweet\":\"sentence\",\n",
    "    \"id\":\"label\"\n",
    "})"
   ]
  },
  {
   "cell_type": "code",
   "execution_count": 6,
   "metadata": {},
   "outputs": [],
   "source": [
    "df = df[['sentence','label']]"
   ]
  },
  {
   "cell_type": "code",
   "execution_count": 7,
   "metadata": {},
   "outputs": [
    {
     "data": {
      "text/html": [
       "<div>\n",
       "<style scoped>\n",
       "    .dataframe tbody tr th:only-of-type {\n",
       "        vertical-align: middle;\n",
       "    }\n",
       "\n",
       "    .dataframe tbody tr th {\n",
       "        vertical-align: top;\n",
       "    }\n",
       "\n",
       "    .dataframe thead th {\n",
       "        text-align: right;\n",
       "    }\n",
       "</style>\n",
       "<table border=\"1\" class=\"dataframe\">\n",
       "  <thead>\n",
       "    <tr style=\"text-align: right;\">\n",
       "      <th></th>\n",
       "      <th>sentence</th>\n",
       "      <th>label</th>\n",
       "    </tr>\n",
       "  </thead>\n",
       "  <tbody>\n",
       "    <tr>\n",
       "      <th>0</th>\n",
       "      <td>@DoctorChristian scared to start fluoxetine, w...</td>\n",
       "      <td>0</td>\n",
       "    </tr>\n",
       "    <tr>\n",
       "      <th>1</th>\n",
       "      <td>@IntuitiveGal1 ok, if you stopped taking the L...</td>\n",
       "      <td>0</td>\n",
       "    </tr>\n",
       "    <tr>\n",
       "      <th>2</th>\n",
       "      <td>Novartis announces secukinumab (AIN457) demons...</td>\n",
       "      <td>0</td>\n",
       "    </tr>\n",
       "    <tr>\n",
       "      <th>3</th>\n",
       "      <td>\"U wailed all night; now y'r disembodied sobbi...</td>\n",
       "      <td>1</td>\n",
       "    </tr>\n",
       "    <tr>\n",
       "      <th>4</th>\n",
       "      <td>@irapaps you're so fucking selfish. I've got L...</td>\n",
       "      <td>0</td>\n",
       "    </tr>\n",
       "  </tbody>\n",
       "</table>\n",
       "</div>"
      ],
      "text/plain": [
       "                                            sentence  label\n",
       "0  @DoctorChristian scared to start fluoxetine, w...      0\n",
       "1  @IntuitiveGal1 ok, if you stopped taking the L...      0\n",
       "2  Novartis announces secukinumab (AIN457) demons...      0\n",
       "3  \"U wailed all night; now y'r disembodied sobbi...      1\n",
       "4  @irapaps you're so fucking selfish. I've got L...      0"
      ]
     },
     "execution_count": 7,
     "metadata": {},
     "output_type": "execute_result"
    }
   ],
   "source": [
    "df.head()"
   ]
  },
  {
   "cell_type": "code",
   "execution_count": 8,
   "metadata": {},
   "outputs": [],
   "source": [
    "#remove newline characters from tweets\n",
    "def preprocess(s):\n",
    "  s = re.sub(r'\\n', ' ', s)\n",
    "  return(s)\n",
    "df['sentence'] = df['sentence'].apply(lambda x: preprocess(x))"
   ]
  },
  {
   "cell_type": "code",
   "execution_count": 9,
   "metadata": {},
   "outputs": [],
   "source": [
    "train_dev_data, test_data = train_test_split(df, test_size=0.2, random_state=0, stratify=df[\"label\"])\n",
    "train_data, dev_data = train_test_split(train_dev_data, test_size=0.25, random_state=0, stratify=train_dev_data[\"label\"])"
   ]
  },
  {
   "cell_type": "code",
   "execution_count": 10,
   "metadata": {},
   "outputs": [],
   "source": [
    "train_data.reset_index(inplace=True, drop=True)\n",
    "dev_data.reset_index(inplace=True, drop=True)\n",
    "test_data.reset_index(inplace=True, drop=True)"
   ]
  },
  {
   "cell_type": "code",
   "execution_count": 11,
   "metadata": {},
   "outputs": [
    {
     "data": {
      "text/plain": [
       "(2501, 834, 834)"
      ]
     },
     "execution_count": 11,
     "metadata": {},
     "output_type": "execute_result"
    }
   ],
   "source": [
    "train_data.shape[0], dev_data.shape[0], test_data.shape[0]"
   ]
  },
  {
   "cell_type": "code",
   "execution_count": 12,
   "metadata": {},
   "outputs": [],
   "source": [
    "def class_proportion(data):\n",
    "    value_counts = data[\"label\"].value_counts()\n",
    "    print(\"number of negative class examples:\", value_counts[0])\n",
    "    print(\"number of positive class examples:\", value_counts[1])\n",
    "    print(\"proportion of positive class examples:\", (value_counts[1]/data[\"label\"].shape[0]))"
   ]
  },
  {
   "cell_type": "code",
   "execution_count": 13,
   "metadata": {},
   "outputs": [
    {
     "name": "stdout",
     "output_type": "stream",
     "text": [
      "number of negative class examples: 2224\n",
      "number of positive class examples: 277\n",
      "proportion of positive class examples: 0.11075569772091164\n"
     ]
    }
   ],
   "source": [
    "class_proportion(train_data)"
   ]
  },
  {
   "cell_type": "code",
   "execution_count": 14,
   "metadata": {},
   "outputs": [
    {
     "name": "stdout",
     "output_type": "stream",
     "text": [
      "number of negative class examples: 742\n",
      "number of positive class examples: 92\n",
      "proportion of positive class examples: 0.11031175059952038\n"
     ]
    }
   ],
   "source": [
    "class_proportion(dev_data)"
   ]
  },
  {
   "cell_type": "code",
   "execution_count": 15,
   "metadata": {},
   "outputs": [
    {
     "name": "stdout",
     "output_type": "stream",
     "text": [
      "number of negative class examples: 742\n",
      "number of positive class examples: 92\n",
      "proportion of positive class examples: 0.11031175059952038\n"
     ]
    }
   ],
   "source": [
    "class_proportion(test_data)"
   ]
  },
  {
   "cell_type": "code",
   "execution_count": 16,
   "metadata": {},
   "outputs": [],
   "source": [
    "train_data_duplicates = pd.concat([train_data[train_data[\"label\"]==1]]*7, ignore_index=True)\n",
    "train_data_rebalanced = pd.concat([train_data, train_data_duplicates], ignore_index=True)"
   ]
  },
  {
   "cell_type": "code",
   "execution_count": 17,
   "metadata": {
    "scrolled": true
   },
   "outputs": [
    {
     "name": "stdout",
     "output_type": "stream",
     "text": [
      "number of negative class examples: 2224\n",
      "number of positive class examples: 2216\n",
      "proportion of positive class examples: 0.4990990990990991\n"
     ]
    }
   ],
   "source": [
    "class_proportion(train_data_rebalanced)"
   ]
  },
  {
   "cell_type": "code",
   "execution_count": 19,
   "metadata": {},
   "outputs": [],
   "source": [
    "shuffle(train_data_rebalanced, random_state=0).to_csv('./twitter data/twitter_binary_balanced/train.tsv', sep='\\t', index=False, header=False)\n",
    "dev_data.to_csv('./twitter data/twitter_binary_balanced/dev.tsv', sep='\\t', index=False, header=False)\n",
    "test_data.to_csv('./twitter data/twitter_binary_balanced/test.tsv', sep='\\t', index=False, header=False)"
   ]
  },
  {
   "cell_type": "code",
   "execution_count": null,
   "metadata": {},
   "outputs": [],
   "source": []
  }
 ],
 "metadata": {
  "kernelspec": {
   "display_name": "Python 3",
   "language": "python",
   "name": "python3"
  },
  "language_info": {
   "codemirror_mode": {
    "name": "ipython",
    "version": 3
   },
   "file_extension": ".py",
   "mimetype": "text/x-python",
   "name": "python",
   "nbconvert_exporter": "python",
   "pygments_lexer": "ipython3",
   "version": "3.6.4"
  }
 },
 "nbformat": 4,
 "nbformat_minor": 2
}
