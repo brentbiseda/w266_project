{
  "nbformat": 4,
  "nbformat_minor": 0,
  "metadata": {
    "colab": {
      "name": "W266 Project Colab - NER Twitter.ipynb",
      "provenance": [],
      "collapsed_sections": [],
      "machine_shape": "hm"
    },
    "kernelspec": {
      "name": "python3",
      "display_name": "Python 3"
    },
    "accelerator": "GPU"
  },
  "cells": [
    {
      "cell_type": "code",
      "metadata": {
        "id": "HFBqlpldEMZT",
        "colab_type": "code",
        "outputId": "7cf37f26-2544-499d-d315-4535a4a58f21",
        "colab": {
          "base_uri": "https://localhost:8080/",
          "height": 51
        }
      },
      "source": [
        "%tensorflow_version 1.x\n",
        "import tensorflow as tf\n",
        "device_name = tf.test.gpu_device_name()\n",
        "if device_name != '/device:GPU:0':\n",
        "  raise SystemError('GPU device not found')\n",
        "print('Found GPU at: {}'.format(device_name))"
      ],
      "execution_count": 1,
      "outputs": [
        {
          "output_type": "stream",
          "text": [
            "TensorFlow 1.x selected.\n",
            "Found GPU at: /device:GPU:0\n"
          ],
          "name": "stdout"
        }
      ]
    },
    {
      "cell_type": "code",
      "metadata": {
        "id": "CPRQpM8opr6j",
        "colab_type": "code",
        "outputId": "658b262c-8fe5-446f-94fd-ebae89a8fa01",
        "colab": {
          "base_uri": "https://localhost:8080/",
          "height": 34
        }
      },
      "source": [
        "from google.colab import drive\n",
        "drive.mount('/content/drive/')"
      ],
      "execution_count": 2,
      "outputs": [
        {
          "output_type": "stream",
          "text": [
            "Drive already mounted at /content/drive/; to attempt to forcibly remount, call drive.mount(\"/content/drive/\", force_remount=True).\n"
          ],
          "name": "stdout"
        }
      ]
    },
    {
      "cell_type": "code",
      "metadata": {
        "id": "8R3ixBlO44Vx",
        "colab_type": "code",
        "colab": {
          "base_uri": "https://localhost:8080/",
          "height": 207
        },
        "outputId": "ad0b7cef-6b9a-4581-a0c9-4dfc661d3c87"
      },
      "source": [
        "!pip install sklearn_crfsuite"
      ],
      "execution_count": 3,
      "outputs": [
        {
          "output_type": "stream",
          "text": [
            "Collecting sklearn_crfsuite\n",
            "  Downloading https://files.pythonhosted.org/packages/25/74/5b7befa513482e6dee1f3dd68171a6c9dfc14c0eaa00f885ffeba54fe9b0/sklearn_crfsuite-0.3.6-py2.py3-none-any.whl\n",
            "Requirement already satisfied: tqdm>=2.0 in /usr/local/lib/python3.6/dist-packages (from sklearn_crfsuite) (4.38.0)\n",
            "Requirement already satisfied: tabulate in /usr/local/lib/python3.6/dist-packages (from sklearn_crfsuite) (0.8.7)\n",
            "Collecting python-crfsuite>=0.8.3\n",
            "\u001b[?25l  Downloading https://files.pythonhosted.org/packages/95/99/869dde6dbf3e0d07a013c8eebfb0a3d30776334e0097f8432b631a9a3a19/python_crfsuite-0.9.7-cp36-cp36m-manylinux1_x86_64.whl (743kB)\n",
            "\u001b[K     |████████████████████████████████| 747kB 4.7MB/s \n",
            "\u001b[?25hRequirement already satisfied: six in /usr/local/lib/python3.6/dist-packages (from sklearn_crfsuite) (1.12.0)\n",
            "Installing collected packages: python-crfsuite, sklearn-crfsuite\n",
            "Successfully installed python-crfsuite-0.9.7 sklearn-crfsuite-0.3.6\n"
          ],
          "name": "stdout"
        }
      ]
    },
    {
      "cell_type": "code",
      "metadata": {
        "id": "yDbmvsw-u9eZ",
        "colab_type": "code",
        "colab": {}
      },
      "source": [
        "import os\n",
        "import re\n",
        "import numpy as np\n",
        "import pandas as pd\n",
        "import json\n",
        "import scipy.stats as stats\n",
        "import csv   \n",
        "\n",
        "from sklearn.model_selection import train_test_split\n",
        "from sklearn.linear_model import LogisticRegression\n",
        "from sklearn.model_selection import GridSearchCV\n",
        "from sklearn.model_selection import RandomizedSearchCV\n",
        "from sklearn.metrics import accuracy_score\n",
        "from sklearn.metrics import f1_score\n",
        "from sklearn.metrics import confusion_matrix\n",
        "from sklearn.externals import joblib\n",
        "\n",
        "import sklearn_crfsuite\n",
        "from itertools import chain\n",
        "\n",
        "import tensorflow as tf\n",
        "from tensorflow import keras\n",
        "from tensorflow.keras.preprocessing.text import text_to_word_sequence\n",
        "from tensorflow.keras.layers import Dense, Dropout, Embedding, LSTM, Bidirectional\n",
        "from tensorflow.keras.models import Model, Sequential\n",
        "#import transformers as ppb\n",
        "import torch\n",
        "\n",
        "import warnings\n",
        "warnings.filterwarnings('ignore')"
      ],
      "execution_count": 0,
      "outputs": []
    },
    {
      "cell_type": "code",
      "metadata": {
        "id": "ukmub-oerbtS",
        "colab_type": "code",
        "colab": {}
      },
      "source": [
        "os.chdir(\"/content/drive/My Drive/MIDS/W266/\")\n",
        "!ls"
      ],
      "execution_count": 0,
      "outputs": []
    },
    {
      "cell_type": "markdown",
      "metadata": {
        "id": "94y-KZCLyNUR",
        "colab_type": "text"
      },
      "source": [
        "# Prepare dataset"
      ]
    },
    {
      "cell_type": "markdown",
      "metadata": {
        "id": "YRu_Q9xnwO7l",
        "colab_type": "text"
      },
      "source": [
        "Dataset from: http://diego.asu.edu/Publications/ADRMine.html"
      ]
    },
    {
      "cell_type": "markdown",
      "metadata": {
        "id": "m22MR1G0xvgQ",
        "colab_type": "text"
      },
      "source": [
        "Helper functions"
      ]
    },
    {
      "cell_type": "code",
      "metadata": {
        "id": "LFcDMhS1nk5-",
        "colab_type": "code",
        "colab": {}
      },
      "source": [
        "def annotate_tweets(data_ids, data_ann, i):\n",
        "  #split tweet into a list of words and punctuation\n",
        "  tweet = data_ids[\"tweet\"][i]\n",
        "  tweet = re.sub(r'\\n', ' ', tweet) #remove newlines from tweets\n",
        "  tweet = re.sub(r'\"|”', '', tweet) #remove quotes from tweets\n",
        "  tweet = re.sub(r\"'|’\", '', tweet) #remove quotes from tweets\n",
        "  to_tokenize = \"…!#$%&()*+,-./:;<=>?@[\\\\]^_`{|}~\\t\"\n",
        "  tweet = re.sub(r'(['+to_tokenize+'])', r' \\1 ', tweet) #add spaces in between punctuations\n",
        "  seq = text_to_word_sequence(tweet, filters='', split=' ', lower=False) #convert tweet to list\n",
        "\n",
        "  #find the adr associated with the tweet from the annotation file\n",
        "  tweet_id = data_ids[\"id\"][i]\n",
        "  adrs = data_ann[data_ann[\"id\"]==tweet_id][\"adr\"].to_list()\n",
        "  adrs_list = []\n",
        "  for adr in adrs:\n",
        "    adr = re.sub(r'\\n', ' ', adr) #remove newlines from adrs\n",
        "    adr = re.sub(r'\"|”', '', adr) #remove quotes from adrs \n",
        "    adr = re.sub(r\"'|’\", '', adr) #remove quotes from tweets \n",
        "    to_tokenize = \"…!#$%&()*+,-./:;<=>?@[\\\\]^_`{|}~\\t\"\n",
        "    adr = re.sub(r'(['+to_tokenize+'])', r' \\1 ', adr) #add spaces in between punctuations\n",
        "    adr = text_to_word_sequence(adr, filters=\"…!#$%&()*+,-./:;<=>?@[\\\\]^_`{|}~\\t\", split=' ', lower=False)\n",
        "    adrs_list.append(adr)\n",
        "\n",
        "  #build the ner labels\n",
        "  ner_annotation = []\n",
        "  for s in seq:\n",
        "    ner_annotation.append(assign_bio(s, adrs_list))\n",
        "  \n",
        "  return(ner_annotation)"
      ],
      "execution_count": 0,
      "outputs": []
    },
    {
      "cell_type": "code",
      "metadata": {
        "id": "kN1B2xHQrbo2",
        "colab_type": "code",
        "colab": {}
      },
      "source": [
        "def assign_bio(word, adrs_list):\n",
        "  for adrs in adrs_list:\n",
        "    for i,adr in enumerate(adrs):\n",
        "      if word.lower()==adr.lower():\n",
        "        if i==0:\n",
        "          return(word+'\\tB')\n",
        "        else:\n",
        "          return(word+'\\tI')\n",
        "  return(word+'\\tO')"
      ],
      "execution_count": 0,
      "outputs": []
    },
    {
      "cell_type": "markdown",
      "metadata": {
        "id": "jnC8ABImuzRW",
        "colab_type": "text"
      },
      "source": [
        "Training data"
      ]
    },
    {
      "cell_type": "code",
      "metadata": {
        "id": "Jl3PfZMpKgNX",
        "colab_type": "code",
        "colab": {}
      },
      "source": [
        "DATA_DIR = \"/content/drive/My Drive/MIDS/W266/ner_tweet_dataset\""
      ],
      "execution_count": 0,
      "outputs": []
    },
    {
      "cell_type": "code",
      "metadata": {
        "id": "9xc0QkMcviai",
        "colab_type": "code",
        "outputId": "1dd00663-895f-46ca-e9c3-fe131b335547",
        "colab": {
          "base_uri": "https://localhost:8080/",
          "height": 289
        }
      },
      "source": [
        "#load training data\n",
        "train_ids =  pd.read_csv(DATA_DIR+'/train_ids_valid.csv')\n",
        "train_ids.head()"
      ],
      "execution_count": 9,
      "outputs": [
        {
          "output_type": "execute_result",
          "data": {
            "text/html": [
              "<div>\n",
              "<style scoped>\n",
              "    .dataframe tbody tr th:only-of-type {\n",
              "        vertical-align: middle;\n",
              "    }\n",
              "\n",
              "    .dataframe tbody tr th {\n",
              "        vertical-align: top;\n",
              "    }\n",
              "\n",
              "    .dataframe thead th {\n",
              "        text-align: right;\n",
              "    }\n",
              "</style>\n",
              "<table border=\"1\" class=\"dataframe\">\n",
              "  <thead>\n",
              "    <tr style=\"text-align: right;\">\n",
              "      <th></th>\n",
              "      <th>index</th>\n",
              "      <th>tweet_id</th>\n",
              "      <th>user_id</th>\n",
              "      <th>id</th>\n",
              "      <th>tweet</th>\n",
              "      <th>url</th>\n",
              "      <th>adr_present</th>\n",
              "    </tr>\n",
              "  </thead>\n",
              "  <tbody>\n",
              "    <tr>\n",
              "      <th>0</th>\n",
              "      <td>1</td>\n",
              "      <td>344616533332467713</td>\n",
              "      <td>173701851</td>\n",
              "      <td>vyvanse-51b7c4c75378b9555a2f1ab8</td>\n",
              "      <td>Vyvanse, commonly known as OCD in a pill.</td>\n",
              "      <td>http://twitter.com/173701851/status/3446165333...</td>\n",
              "      <td>1</td>\n",
              "    </tr>\n",
              "    <tr>\n",
              "      <th>1</th>\n",
              "      <td>2</td>\n",
              "      <td>344630199217958912</td>\n",
              "      <td>385562257</td>\n",
              "      <td>vyvanse-51b7d1815378b9555a2f1b0c</td>\n",
              "      <td>@MTV When are you going to do True Life: I am ...</td>\n",
              "      <td>http://twitter.com/385562257/status/3446301992...</td>\n",
              "      <td>1</td>\n",
              "    </tr>\n",
              "    <tr>\n",
              "      <th>2</th>\n",
              "      <td>3</td>\n",
              "      <td>342117282585133056</td>\n",
              "      <td>1110475417</td>\n",
              "      <td>cymbalta-51aead545378f924d02efd7c</td>\n",
              "      <td>@upasbook Great read as always. I was on Cymba...</td>\n",
              "      <td>http://twitter.com/1110475417/status/342117282...</td>\n",
              "      <td>1</td>\n",
              "    </tr>\n",
              "    <tr>\n",
              "      <th>3</th>\n",
              "      <td>9</td>\n",
              "      <td>351446999637299200</td>\n",
              "      <td>1061562434</td>\n",
              "      <td>seroquel-51d09e2a53785f584a9ae686</td>\n",
              "      <td>I wonder if seroquel /then/ food still equals ...</td>\n",
              "      <td>http://twitter.com/1061562434/status/351446999...</td>\n",
              "      <td>1</td>\n",
              "    </tr>\n",
              "    <tr>\n",
              "      <th>4</th>\n",
              "      <td>12</td>\n",
              "      <td>348262745730338817</td>\n",
              "      <td>97567146</td>\n",
              "      <td>rivaroxaban-51c5089353785f584a9a91e5</td>\n",
              "      <td>Rivaroxaban diary day 22. Last tablet taken Tu...</td>\n",
              "      <td>http://twitter.com/97567146/status/34826274573...</td>\n",
              "      <td>1</td>\n",
              "    </tr>\n",
              "  </tbody>\n",
              "</table>\n",
              "</div>"
            ],
            "text/plain": [
              "   index  ...  adr_present\n",
              "0      1  ...            1\n",
              "1      2  ...            1\n",
              "2      3  ...            1\n",
              "3      9  ...            1\n",
              "4     12  ...            1\n",
              "\n",
              "[5 rows x 7 columns]"
            ]
          },
          "metadata": {
            "tags": []
          },
          "execution_count": 9
        }
      ]
    },
    {
      "cell_type": "code",
      "metadata": {
        "id": "xSgseG5_y-PK",
        "colab_type": "code",
        "outputId": "30a1b5f5-bfb9-4be7-c3a2-ad6d99266608",
        "colab": {
          "base_uri": "https://localhost:8080/",
          "height": 34
        }
      },
      "source": [
        "train_ids.shape[0]"
      ],
      "execution_count": 10,
      "outputs": [
        {
          "output_type": "execute_result",
          "data": {
            "text/plain": [
              "712"
            ]
          },
          "metadata": {
            "tags": []
          },
          "execution_count": 10
        }
      ]
    },
    {
      "cell_type": "code",
      "metadata": {
        "id": "MqmDyUkeNvIc",
        "colab_type": "code",
        "outputId": "098de10e-96a5-446a-e7bd-ac723f722bd3",
        "colab": {
          "base_uri": "https://localhost:8080/",
          "height": 204
        }
      },
      "source": [
        "train_ann =  pd.read_csv(DATA_DIR+'/train_tweet_annotations.tsv', delimiter='\\t', lineterminator='\\n', header=None)\n",
        "train_ann.columns = [\"id\",\"start\",\"end\",\"type\",\"adr\",\"drug1\",\"drug2\"]\n",
        "train_ann = train_ann[train_ann[\"type\"]==\"ADR\"]\n",
        "train_ann.head()"
      ],
      "execution_count": 17,
      "outputs": [
        {
          "output_type": "execute_result",
          "data": {
            "text/html": [
              "<div>\n",
              "<style scoped>\n",
              "    .dataframe tbody tr th:only-of-type {\n",
              "        vertical-align: middle;\n",
              "    }\n",
              "\n",
              "    .dataframe tbody tr th {\n",
              "        vertical-align: top;\n",
              "    }\n",
              "\n",
              "    .dataframe thead th {\n",
              "        text-align: right;\n",
              "    }\n",
              "</style>\n",
              "<table border=\"1\" class=\"dataframe\">\n",
              "  <thead>\n",
              "    <tr style=\"text-align: right;\">\n",
              "      <th></th>\n",
              "      <th>id</th>\n",
              "      <th>start</th>\n",
              "      <th>end</th>\n",
              "      <th>type</th>\n",
              "      <th>adr</th>\n",
              "      <th>drug1</th>\n",
              "      <th>drug2</th>\n",
              "    </tr>\n",
              "  </thead>\n",
              "  <tbody>\n",
              "    <tr>\n",
              "      <th>0</th>\n",
              "      <td>baclofen-518bf599ac6ab35b4d48099f</td>\n",
              "      <td>60</td>\n",
              "      <td>66</td>\n",
              "      <td>ADR</td>\n",
              "      <td>tired</td>\n",
              "      <td>baclofen</td>\n",
              "      <td>baclofen</td>\n",
              "    </tr>\n",
              "    <tr>\n",
              "      <th>1</th>\n",
              "      <td>baclofen-518bf599ac6ab35b4d48099f</td>\n",
              "      <td>67</td>\n",
              "      <td>73</td>\n",
              "      <td>ADR</td>\n",
              "      <td>sleepy</td>\n",
              "      <td>baclofen</td>\n",
              "      <td>baclofen</td>\n",
              "    </tr>\n",
              "    <tr>\n",
              "      <th>2</th>\n",
              "      <td>baclofen-518bf599ac6ab35b4d48099f</td>\n",
              "      <td>74</td>\n",
              "      <td>77</td>\n",
              "      <td>ADR</td>\n",
              "      <td>fog</td>\n",
              "      <td>baclofen</td>\n",
              "      <td>baclofen</td>\n",
              "    </tr>\n",
              "    <tr>\n",
              "      <th>3</th>\n",
              "      <td>baclofen-51905f6cac6ab35b4d483a24</td>\n",
              "      <td>69</td>\n",
              "      <td>75</td>\n",
              "      <td>ADR</td>\n",
              "      <td>gorked</td>\n",
              "      <td>baclofen</td>\n",
              "      <td>baclofen</td>\n",
              "    </tr>\n",
              "    <tr>\n",
              "      <th>4</th>\n",
              "      <td>baclofen-51ae70ba5378f924d02efb33</td>\n",
              "      <td>23</td>\n",
              "      <td>47</td>\n",
              "      <td>ADR</td>\n",
              "      <td>make me a bigger asshole</td>\n",
              "      <td>baclofen</td>\n",
              "      <td>baclofen</td>\n",
              "    </tr>\n",
              "  </tbody>\n",
              "</table>\n",
              "</div>"
            ],
            "text/plain": [
              "                                  id  start  ...     drug1     drug2\n",
              "0  baclofen-518bf599ac6ab35b4d48099f     60  ...  baclofen  baclofen\n",
              "1  baclofen-518bf599ac6ab35b4d48099f     67  ...  baclofen  baclofen\n",
              "2  baclofen-518bf599ac6ab35b4d48099f     74  ...  baclofen  baclofen\n",
              "3  baclofen-51905f6cac6ab35b4d483a24     69  ...  baclofen  baclofen\n",
              "4  baclofen-51ae70ba5378f924d02efb33     23  ...  baclofen  baclofen\n",
              "\n",
              "[5 rows x 7 columns]"
            ]
          },
          "metadata": {
            "tags": []
          },
          "execution_count": 17
        }
      ]
    },
    {
      "cell_type": "code",
      "metadata": {
        "id": "DUAnQa3EoLgt",
        "colab_type": "code",
        "colab": {}
      },
      "source": [
        "#annotate train tweets with ner labels\n",
        "train_annotations = []\n",
        "num_data_ids = train_ids.shape[0]\n",
        "for i in range(num_data_ids):\n",
        "  train_annotations.append(annotate_tweets(train_ids, train_ann, i))"
      ],
      "execution_count": 0,
      "outputs": []
    },
    {
      "cell_type": "code",
      "metadata": {
        "id": "QB2xxD37qcid",
        "colab_type": "code",
        "colab": {}
      },
      "source": [
        "#save full train dataset to csv file\n",
        "full_train_tweet_ids_ner = pd.concat([train_ids, pd.DataFrame(np.array(train_annotations),columns=['ner'])], axis=1)\n",
        "full_train_tweet_ids_ner.to_csv(DATA_DIR+'/full_train_tweet_ids_ner.csv', index=False)"
      ],
      "execution_count": 0,
      "outputs": []
    },
    {
      "cell_type": "code",
      "metadata": {
        "id": "z7F7U3yh_Ip0",
        "colab_type": "code",
        "outputId": "a8cfaada-9c9f-4c27-a64b-49290bb01541",
        "colab": {
          "base_uri": "https://localhost:8080/",
          "height": 34
        }
      },
      "source": [
        "#split into train and dev dataset to csv file\n",
        "train_tweet_ids_ner, dev_tweet_ids_ner = train_test_split(full_train_tweet_ids_ner, test_size=0.2, random_state=0, stratify=full_train_tweet_ids_ner[\"adr_present\"])\n",
        "train_tweet_ids_ner.to_csv(DATA_DIR+'/train_tweet_ids_ner.csv', index=False)\n",
        "dev_tweet_ids_ner.to_csv(DATA_DIR+'/dev_tweet_ids_ner.csv', index=False)\n",
        "train_tweet_ids_ner.shape[0], dev_tweet_ids_ner.shape[0]"
      ],
      "execution_count": 22,
      "outputs": [
        {
          "output_type": "execute_result",
          "data": {
            "text/plain": [
              "(569, 143)"
            ]
          },
          "metadata": {
            "tags": []
          },
          "execution_count": 22
        }
      ]
    },
    {
      "cell_type": "code",
      "metadata": {
        "id": "ijyJPQauO8gU",
        "colab_type": "code",
        "colab": {
          "base_uri": "https://localhost:8080/",
          "height": 68
        },
        "outputId": "c0338788-4163-4e05-d1be-475c2923e4f0"
      },
      "source": [
        "train_tweet_ids_ner['adr_present'].value_counts()"
      ],
      "execution_count": 23,
      "outputs": [
        {
          "output_type": "execute_result",
          "data": {
            "text/plain": [
              "1    288\n",
              "0    281\n",
              "Name: adr_present, dtype: int64"
            ]
          },
          "metadata": {
            "tags": []
          },
          "execution_count": 23
        }
      ]
    },
    {
      "cell_type": "code",
      "metadata": {
        "id": "bdBx2cv3PDVe",
        "colab_type": "code",
        "colab": {
          "base_uri": "https://localhost:8080/",
          "height": 68
        },
        "outputId": "873b8b66-0815-4107-b673-551305f4fe44"
      },
      "source": [
        "dev_tweet_ids_ner['adr_present'].value_counts()"
      ],
      "execution_count": 24,
      "outputs": [
        {
          "output_type": "execute_result",
          "data": {
            "text/plain": [
              "1    72\n",
              "0    71\n",
              "Name: adr_present, dtype: int64"
            ]
          },
          "metadata": {
            "tags": []
          },
          "execution_count": 24
        }
      ]
    },
    {
      "cell_type": "code",
      "metadata": {
        "id": "nnCFNKYtiBYl",
        "colab_type": "code",
        "colab": {}
      },
      "source": [
        "#save full train ner labels to tsv file\n",
        "with open(DATA_DIR+'/full_train_tweet_ner_labels.tsv', 'w', newline='\\n') as f_output:\n",
        "  tsv_output = csv.writer(f_output, delimiter='\\n')\n",
        "  for annot in train_annotations:\n",
        "    tsv_output.writerow(annot)\n",
        "    tsv_output.writerow('')"
      ],
      "execution_count": 0,
      "outputs": []
    },
    {
      "cell_type": "code",
      "metadata": {
        "id": "1DzQnw8K8JqW",
        "colab_type": "code",
        "colab": {}
      },
      "source": [
        "#split into train and dev dataset ner labels to tsv file\n",
        "with open(DATA_DIR+'/train.tsv', 'w', newline='\\n') as f_output:\n",
        "  tsv_output = csv.writer(f_output, delimiter='\\n')\n",
        "  for annot in train_tweet_ids_ner['ner'].to_list():\n",
        "    tsv_output.writerow(annot)\n",
        "    tsv_output.writerow('')\n",
        "with open(DATA_DIR+'/dev.tsv', 'w', newline='\\n') as f_output:\n",
        "  tsv_output = csv.writer(f_output, delimiter='\\n')\n",
        "  for annot in dev_tweet_ids_ner['ner'].to_list():\n",
        "    tsv_output.writerow(annot)\n",
        "    tsv_output.writerow('')"
      ],
      "execution_count": 0,
      "outputs": []
    },
    {
      "cell_type": "code",
      "metadata": {
        "id": "x0LXZXGf_ptx",
        "colab_type": "code",
        "outputId": "06d0762a-dfac-40ae-de19-b7bd7238c458",
        "colab": {
          "base_uri": "https://localhost:8080/",
          "height": 85
        }
      },
      "source": [
        "train_ner = pd.read_csv(DATA_DIR+'/train.tsv', delimiter='\\t', header=None)\n",
        "train_ner[1].value_counts()"
      ],
      "execution_count": 27,
      "outputs": [
        {
          "output_type": "execute_result",
          "data": {
            "text/plain": [
              "O    11627\n",
              "B      348\n",
              "I      345\n",
              "Name: 1, dtype: int64"
            ]
          },
          "metadata": {
            "tags": []
          },
          "execution_count": 27
        }
      ]
    },
    {
      "cell_type": "code",
      "metadata": {
        "id": "-0uV71jiL3N7",
        "colab_type": "code",
        "colab": {
          "base_uri": "https://localhost:8080/",
          "height": 85
        },
        "outputId": "05ae20f1-ac59-4fb3-f80a-6690706b6865"
      },
      "source": [
        "train_ner[1].value_counts()/train_ner[1].value_counts().sum()"
      ],
      "execution_count": 28,
      "outputs": [
        {
          "output_type": "execute_result",
          "data": {
            "text/plain": [
              "O    0.943750\n",
              "B    0.028247\n",
              "I    0.028003\n",
              "Name: 1, dtype: float64"
            ]
          },
          "metadata": {
            "tags": []
          },
          "execution_count": 28
        }
      ]
    },
    {
      "cell_type": "code",
      "metadata": {
        "id": "TiYzkKL47yWa",
        "colab_type": "code",
        "outputId": "3c1731a4-4f34-49a7-912d-aacc0ea60cec",
        "colab": {
          "base_uri": "https://localhost:8080/",
          "height": 34
        }
      },
      "source": [
        "train_ner.shape[0]"
      ],
      "execution_count": 29,
      "outputs": [
        {
          "output_type": "execute_result",
          "data": {
            "text/plain": [
              "12320"
            ]
          },
          "metadata": {
            "tags": []
          },
          "execution_count": 29
        }
      ]
    },
    {
      "cell_type": "code",
      "metadata": {
        "id": "tCCUyHj__xDy",
        "colab_type": "code",
        "outputId": "474985c5-72ad-4a71-dfe4-494b094ca646",
        "colab": {
          "base_uri": "https://localhost:8080/",
          "height": 85
        }
      },
      "source": [
        "dev_ner = pd.read_csv(DATA_DIR+'/dev.tsv', delimiter='\\t', header=None)\n",
        "dev_ner[1].value_counts()"
      ],
      "execution_count": 30,
      "outputs": [
        {
          "output_type": "execute_result",
          "data": {
            "text/plain": [
              "O    3054\n",
              "I      93\n",
              "B      88\n",
              "Name: 1, dtype: int64"
            ]
          },
          "metadata": {
            "tags": []
          },
          "execution_count": 30
        }
      ]
    },
    {
      "cell_type": "code",
      "metadata": {
        "id": "0LmhJvtsMHqA",
        "colab_type": "code",
        "colab": {
          "base_uri": "https://localhost:8080/",
          "height": 85
        },
        "outputId": "3d53653a-5d52-4e94-abd2-3f5ecba5709e"
      },
      "source": [
        "dev_ner[1].value_counts()/dev_ner[1].value_counts().sum()"
      ],
      "execution_count": 31,
      "outputs": [
        {
          "output_type": "execute_result",
          "data": {
            "text/plain": [
              "O    0.944049\n",
              "I    0.028748\n",
              "B    0.027202\n",
              "Name: 1, dtype: float64"
            ]
          },
          "metadata": {
            "tags": []
          },
          "execution_count": 31
        }
      ]
    },
    {
      "cell_type": "code",
      "metadata": {
        "id": "MtQ5FYI8_0Ar",
        "colab_type": "code",
        "outputId": "df8a3f4f-eb1e-42d3-ba73-bc39c11f878c",
        "colab": {
          "base_uri": "https://localhost:8080/",
          "height": 34
        }
      },
      "source": [
        "dev_ner.shape[0]"
      ],
      "execution_count": 32,
      "outputs": [
        {
          "output_type": "execute_result",
          "data": {
            "text/plain": [
              "3235"
            ]
          },
          "metadata": {
            "tags": []
          },
          "execution_count": 32
        }
      ]
    },
    {
      "cell_type": "markdown",
      "metadata": {
        "id": "2Fi_MNoF8CZ-",
        "colab_type": "text"
      },
      "source": [
        "Test data"
      ]
    },
    {
      "cell_type": "code",
      "metadata": {
        "id": "-VcdAmXzyX36",
        "colab_type": "code",
        "outputId": "22b50e3a-ccc9-4a69-e9d0-5c0813c216de",
        "colab": {
          "base_uri": "https://localhost:8080/",
          "height": 34
        }
      },
      "source": [
        "#load test data\n",
        "test_ids =  pd.read_csv(DATA_DIR+'/test_ids_valid.csv')\n",
        "test_ids.shape[0]"
      ],
      "execution_count": 33,
      "outputs": [
        {
          "output_type": "execute_result",
          "data": {
            "text/plain": [
              "253"
            ]
          },
          "metadata": {
            "tags": []
          },
          "execution_count": 33
        }
      ]
    },
    {
      "cell_type": "code",
      "metadata": {
        "id": "HJqRN349y0mZ",
        "colab_type": "code",
        "outputId": "5a02ad26-38e7-44f3-e3ee-8273e66b33cc",
        "colab": {
          "base_uri": "https://localhost:8080/",
          "height": 68
        }
      },
      "source": [
        "test_ids['adr_present'].value_counts()"
      ],
      "execution_count": 34,
      "outputs": [
        {
          "output_type": "execute_result",
          "data": {
            "text/plain": [
              "1    140\n",
              "0    113\n",
              "Name: adr_present, dtype: int64"
            ]
          },
          "metadata": {
            "tags": []
          },
          "execution_count": 34
        }
      ]
    },
    {
      "cell_type": "code",
      "metadata": {
        "id": "3rvIH-owAtSD",
        "colab_type": "code",
        "outputId": "d4e69d0c-dd8a-4328-d912-672976b874f0",
        "colab": {
          "base_uri": "https://localhost:8080/",
          "height": 204
        }
      },
      "source": [
        "test_ann =  pd.read_csv(DATA_DIR+'/test_tweet_annotations.tsv', delimiter='\\t', lineterminator='\\n', header=None)\n",
        "test_ann.columns = [\"id\",\"start\",\"end\",\"type\",\"adr\",\"drug1\",\"drug2\"]\n",
        "test_ann = test_ann[test_ann[\"type\"]==\"ADR\"]\n",
        "test_ann.head()"
      ],
      "execution_count": 35,
      "outputs": [
        {
          "output_type": "execute_result",
          "data": {
            "text/html": [
              "<div>\n",
              "<style scoped>\n",
              "    .dataframe tbody tr th:only-of-type {\n",
              "        vertical-align: middle;\n",
              "    }\n",
              "\n",
              "    .dataframe tbody tr th {\n",
              "        vertical-align: top;\n",
              "    }\n",
              "\n",
              "    .dataframe thead th {\n",
              "        text-align: right;\n",
              "    }\n",
              "</style>\n",
              "<table border=\"1\" class=\"dataframe\">\n",
              "  <thead>\n",
              "    <tr style=\"text-align: right;\">\n",
              "      <th></th>\n",
              "      <th>id</th>\n",
              "      <th>start</th>\n",
              "      <th>end</th>\n",
              "      <th>type</th>\n",
              "      <th>adr</th>\n",
              "      <th>drug1</th>\n",
              "      <th>drug2</th>\n",
              "    </tr>\n",
              "  </thead>\n",
              "  <tbody>\n",
              "    <tr>\n",
              "      <th>0</th>\n",
              "      <td>avelox-51c3e5a853785f584a9a8c01</td>\n",
              "      <td>76</td>\n",
              "      <td>93</td>\n",
              "      <td>ADR</td>\n",
              "      <td>connective tissue</td>\n",
              "      <td>avelox</td>\n",
              "      <td>avelox</td>\n",
              "    </tr>\n",
              "    <tr>\n",
              "      <th>1</th>\n",
              "      <td>avelox-51c3e5a853785f584a9a8c01</td>\n",
              "      <td>94</td>\n",
              "      <td>99</td>\n",
              "      <td>ADR</td>\n",
              "      <td>lungs</td>\n",
              "      <td>avelox</td>\n",
              "      <td>avelox</td>\n",
              "    </tr>\n",
              "    <tr>\n",
              "      <th>2</th>\n",
              "      <td>avelox-51c3e5a853785f584a9a8c01</td>\n",
              "      <td>104</td>\n",
              "      <td>111</td>\n",
              "      <td>ADR</td>\n",
              "      <td>thyroid</td>\n",
              "      <td>avelox</td>\n",
              "      <td>avelox</td>\n",
              "    </tr>\n",
              "    <tr>\n",
              "      <th>3</th>\n",
              "      <td>baclofen-51b35e355378b9555a2f0709</td>\n",
              "      <td>78</td>\n",
              "      <td>84</td>\n",
              "      <td>ADR</td>\n",
              "      <td>drowsy</td>\n",
              "      <td>baclofen</td>\n",
              "      <td>baclofen</td>\n",
              "    </tr>\n",
              "    <tr>\n",
              "      <th>4</th>\n",
              "      <td>baclofen-51b35e355378b9555a2f0709</td>\n",
              "      <td>110</td>\n",
              "      <td>114</td>\n",
              "      <td>ADR</td>\n",
              "      <td>high</td>\n",
              "      <td>baclofen</td>\n",
              "      <td>baclofen</td>\n",
              "    </tr>\n",
              "  </tbody>\n",
              "</table>\n",
              "</div>"
            ],
            "text/plain": [
              "                                  id  start  ...     drug1     drug2\n",
              "0    avelox-51c3e5a853785f584a9a8c01     76  ...    avelox    avelox\n",
              "1    avelox-51c3e5a853785f584a9a8c01     94  ...    avelox    avelox\n",
              "2    avelox-51c3e5a853785f584a9a8c01    104  ...    avelox    avelox\n",
              "3  baclofen-51b35e355378b9555a2f0709     78  ...  baclofen  baclofen\n",
              "4  baclofen-51b35e355378b9555a2f0709    110  ...  baclofen  baclofen\n",
              "\n",
              "[5 rows x 7 columns]"
            ]
          },
          "metadata": {
            "tags": []
          },
          "execution_count": 35
        }
      ]
    },
    {
      "cell_type": "code",
      "metadata": {
        "colab_type": "code",
        "id": "O_0X6un8AmPW",
        "colab": {}
      },
      "source": [
        "#annotate test tweets with ner labels\n",
        "test_annotations = []\n",
        "num_data_ids = test_ids.shape[0]\n",
        "for i in range(num_data_ids):\n",
        "  test_annotations.append(annotate_tweets(test_ids, test_ann, i))"
      ],
      "execution_count": 0,
      "outputs": []
    },
    {
      "cell_type": "code",
      "metadata": {
        "colab_type": "code",
        "id": "PsUwYZS5AmPd",
        "colab": {}
      },
      "source": [
        "#save test dataset to csv file\n",
        "test_tweet_ids_ner = pd.concat([test_ids, pd.DataFrame(np.array(test_annotations),columns=['ner'])], axis=1)\n",
        "test_tweet_ids_ner.to_csv(DATA_DIR+'/test_tweet_ids_ner.csv', index=False)"
      ],
      "execution_count": 0,
      "outputs": []
    },
    {
      "cell_type": "code",
      "metadata": {
        "colab_type": "code",
        "id": "crJWbxr6AmPh",
        "colab": {}
      },
      "source": [
        "#save test ner labels to tsv file\n",
        "with open(DATA_DIR+'/test.tsv', 'w', newline='\\n') as f_output:\n",
        "  tsv_output = csv.writer(f_output, delimiter='\\n')\n",
        "  for annot in test_annotations:\n",
        "    tsv_output.writerow(annot)\n",
        "    tsv_output.writerow('')"
      ],
      "execution_count": 0,
      "outputs": []
    },
    {
      "cell_type": "code",
      "metadata": {
        "id": "flls_DfwBOnP",
        "colab_type": "code",
        "outputId": "ede70174-5f78-49e2-e268-640ed19e7423",
        "colab": {
          "base_uri": "https://localhost:8080/",
          "height": 85
        }
      },
      "source": [
        "test_ner = pd.read_csv(DATA_DIR+'/test.tsv', delimiter='\\t', header=None)\n",
        "test_ner[1].value_counts()"
      ],
      "execution_count": 39,
      "outputs": [
        {
          "output_type": "execute_result",
          "data": {
            "text/plain": [
              "O    5081\n",
              "B     160\n",
              "I     117\n",
              "Name: 1, dtype: int64"
            ]
          },
          "metadata": {
            "tags": []
          },
          "execution_count": 39
        }
      ]
    },
    {
      "cell_type": "code",
      "metadata": {
        "id": "2HjXGpzhThDn",
        "colab_type": "code",
        "colab": {
          "base_uri": "https://localhost:8080/",
          "height": 85
        },
        "outputId": "af549f52-0d33-48e0-ecff-afadd08373c6"
      },
      "source": [
        "test_ner[1].value_counts()/test_ner[1].value_counts().sum()"
      ],
      "execution_count": 40,
      "outputs": [
        {
          "output_type": "execute_result",
          "data": {
            "text/plain": [
              "O    0.948302\n",
              "B    0.029862\n",
              "I    0.021837\n",
              "Name: 1, dtype: float64"
            ]
          },
          "metadata": {
            "tags": []
          },
          "execution_count": 40
        }
      ]
    },
    {
      "cell_type": "code",
      "metadata": {
        "id": "8CDhgU5bBStb",
        "colab_type": "code",
        "outputId": "9f2a89be-a854-4763-f03e-f6c53b874bc8",
        "colab": {
          "base_uri": "https://localhost:8080/",
          "height": 34
        }
      },
      "source": [
        "test_ner.shape[0]"
      ],
      "execution_count": 41,
      "outputs": [
        {
          "output_type": "execute_result",
          "data": {
            "text/plain": [
              "5358"
            ]
          },
          "metadata": {
            "tags": []
          },
          "execution_count": 41
        }
      ]
    },
    {
      "cell_type": "markdown",
      "metadata": {
        "id": "CYDgDCBQAtil",
        "colab_type": "text"
      },
      "source": [
        "# Fine tune with BERT"
      ]
    },
    {
      "cell_type": "markdown",
      "metadata": {
        "id": "_5FPv_gMv6of",
        "colab_type": "text"
      },
      "source": [
        "NER task code adapted from: https://github.com/arnavbhandari/clinical-BioBERT"
      ]
    },
    {
      "cell_type": "code",
      "metadata": {
        "id": "7lb9RWccHxnf",
        "colab_type": "code",
        "colab": {}
      },
      "source": [
        "BERT_BASE_DIR=\"/content/drive/My Drive/MIDS/W266/W266/model/cased_L-12_H-768_A-12\"\n",
        "DATA_DIR=\"/content/drive/My Drive/MIDS/W266/ner_tweet_dataset\"\n",
        "TRAINED_CLASSIFIER=\"/content/drive/My Drive/MIDS/W266/trained_models/ner/cased_epoch3\""
      ],
      "execution_count": 0,
      "outputs": []
    },
    {
      "cell_type": "code",
      "metadata": {
        "id": "OFZZFSpskfWy",
        "colab_type": "code",
        "colab": {}
      },
      "source": [
        "if not os.path.exists(TRAINED_CLASSIFIER):\n",
        "  os.makedirs(TRAINED_CLASSIFIER)"
      ],
      "execution_count": 0,
      "outputs": []
    },
    {
      "cell_type": "code",
      "metadata": {
        "id": "yZj0hFHhIbIo",
        "colab_type": "code",
        "outputId": "36f1385f-432a-4232-d8f2-d577e04d4593",
        "colab": {
          "base_uri": "https://localhost:8080/",
          "height": 51
        }
      },
      "source": [
        "!ls \"$BERT_BASE_DIR\""
      ],
      "execution_count": 390,
      "outputs": [
        {
          "output_type": "stream",
          "text": [
            "bert_config.json\t\t     bert_model.ckpt.index  vocab.txt\n",
            "bert_model.ckpt.data-00000-of-00001  bert_model.ckpt.meta\n"
          ],
          "name": "stdout"
        }
      ]
    },
    {
      "cell_type": "code",
      "metadata": {
        "id": "ugwXznDpIfAi",
        "colab_type": "code",
        "outputId": "936526ac-eb8e-48d8-9eb8-a7cf105ace24",
        "colab": {
          "base_uri": "https://localhost:8080/",
          "height": 153
        }
      },
      "source": [
        "!ls \"$DATA_DIR\""
      ],
      "execution_count": 224,
      "outputs": [
        {
          "output_type": "stream",
          "text": [
            "BIO_labels\t\t\t test.tsv\n",
            "BO_labels\t\t\t test_tweet_annotations.tsv\n",
            "dev.tsv\t\t\t\t test_tweet_ids_ner.csv\n",
            "dev_tweet_ids_ner.csv\t\t train_ids_valid.csv\n",
            "dev_tweet_ner_labels.tsv\t train.tsv\n",
            "full_train_tweet_ids_ner.csv\t train_tweet_annotations.tsv\n",
            "full_train_tweet_ner_labels.tsv  train_tweet_ids_ner.csv\n",
            "test_ids_valid.csv\t\t train_tweet_ner_labels.tsv\n"
          ],
          "name": "stdout"
        }
      ]
    },
    {
      "cell_type": "code",
      "metadata": {
        "id": "j1X91U3qkogH",
        "colab_type": "code",
        "colab": {}
      },
      "source": [
        "!ls \"$TRAINED_CLASSIFIER\""
      ],
      "execution_count": 0,
      "outputs": []
    },
    {
      "cell_type": "code",
      "metadata": {
        "id": "Dx2HAys2EoCo",
        "colab_type": "code",
        "colab": {}
      },
      "source": [
        "!python ./clinical-BioBERT/run_ner.py \\\n",
        "  --do_train=true \\\n",
        "  --do_eval=true \\\n",
        "  --do_predict=true \\\n",
        "  --do_lower_case=false \\\n",
        "  --vocab_file=\"$BERT_BASE_DIR/vocab.txt\" \\\n",
        "  --bert_config_file=\"$BERT_BASE_DIR/bert_config.json\" \\\n",
        "  --init_checkpoint=\"$BERT_BASE_DIR/bert_model.ckpt\" \\\n",
        "  --num_train_epochs=3 \\\n",
        "  --data_dir=\"$DATA_DIR\" \\\n",
        "  --output_dir=\"$TRAINED_CLASSIFIER\""
      ],
      "execution_count": 0,
      "outputs": []
    },
    {
      "cell_type": "markdown",
      "metadata": {
        "id": "SRPn7svAuadP",
        "colab_type": "text"
      },
      "source": [
        "Calculate BERT results"
      ]
    },
    {
      "cell_type": "code",
      "metadata": {
        "id": "_3-Z8jZd07jy",
        "colab_type": "code",
        "colab": {}
      },
      "source": [
        "TRAINED_CLASSIFIER = \"/content/drive/My Drive/MIDS/W266/trained_models/ner/uncased_epoch10\""
      ],
      "execution_count": 0,
      "outputs": []
    },
    {
      "cell_type": "code",
      "metadata": {
        "id": "aoi5oM3jA3dV",
        "colab_type": "code",
        "colab": {}
      },
      "source": [
        "with open(TRAINED_CLASSIFIER+\"/token_test.txt\") as f:\n",
        "  tokens_raw = [x.strip() for x in f.readlines()]"
      ],
      "execution_count": 0,
      "outputs": []
    },
    {
      "cell_type": "code",
      "metadata": {
        "id": "P7JfcYFeBxpq",
        "colab_type": "code",
        "colab": {}
      },
      "source": [
        "with open(TRAINED_CLASSIFIER+\"/label_test.txt\") as f:\n",
        "  predict_raw = [x.strip() for x in f.readlines()]"
      ],
      "execution_count": 0,
      "outputs": []
    },
    {
      "cell_type": "code",
      "metadata": {
        "id": "8iz7pQA5Gwm_",
        "colab_type": "code",
        "colab": {}
      },
      "source": [
        "predict = pd.DataFrame([[tokens_raw[i], predict_raw[i]] for i in range(len(tokens_raw))])\n",
        "predict = predict[(predict[1]!='[CLS]')&(predict[1]!='[SEP]')]\n",
        "predict = predict[[False if '##' in x else True for x in predict[0]]]\n",
        "predict.reset_index(drop=True, inplace=True)"
      ],
      "execution_count": 0,
      "outputs": []
    },
    {
      "cell_type": "code",
      "metadata": {
        "id": "LvDDMMWFEzl_",
        "colab_type": "code",
        "colab": {}
      },
      "source": [
        "labels = pd.read_csv(DATA_DIR+\"/test.tsv\", delimiter=\"\\t\", lineterminator='\\n', header=None)\n",
        "labels = labels[labels[1].isnull()==False]\n",
        "labels[1] = [x.strip() for x in labels[1]]\n",
        "labels.reset_index(drop=True, inplace=True)"
      ],
      "execution_count": 0,
      "outputs": []
    },
    {
      "cell_type": "code",
      "metadata": {
        "id": "LtWPlmxCSmsD",
        "colab_type": "code",
        "colab": {
          "base_uri": "https://localhost:8080/",
          "height": 34
        },
        "outputId": "783edb0b-a28f-4873-c25a-33633e8e342f"
      },
      "source": [
        "labels.shape == predict.shape"
      ],
      "execution_count": 496,
      "outputs": [
        {
          "output_type": "execute_result",
          "data": {
            "text/plain": [
              "True"
            ]
          },
          "metadata": {
            "tags": []
          },
          "execution_count": 496
        }
      ]
    },
    {
      "cell_type": "code",
      "metadata": {
        "id": "_DvZ4BJHCMfW",
        "colab_type": "code",
        "colab": {
          "base_uri": "https://localhost:8080/",
          "height": 85
        },
        "outputId": "6226152c-e70f-4cb9-922d-7c2c3bc3d309"
      },
      "source": [
        "labels[1].value_counts()"
      ],
      "execution_count": 497,
      "outputs": [
        {
          "output_type": "execute_result",
          "data": {
            "text/plain": [
              "O    5081\n",
              "B     160\n",
              "I     117\n",
              "Name: 1, dtype: int64"
            ]
          },
          "metadata": {
            "tags": []
          },
          "execution_count": 497
        }
      ]
    },
    {
      "cell_type": "code",
      "metadata": {
        "id": "xtD1C-RoXLyM",
        "colab_type": "code",
        "colab": {
          "base_uri": "https://localhost:8080/",
          "height": 85
        },
        "outputId": "92f9f92a-fa67-4d7e-f6e5-accaffea75eb"
      },
      "source": [
        "predict[1].value_counts()"
      ],
      "execution_count": 498,
      "outputs": [
        {
          "output_type": "execute_result",
          "data": {
            "text/plain": [
              "O    5117\n",
              "B     153\n",
              "I      88\n",
              "Name: 1, dtype: int64"
            ]
          },
          "metadata": {
            "tags": []
          },
          "execution_count": 498
        }
      ]
    },
    {
      "cell_type": "code",
      "metadata": {
        "id": "lNqhV41tYyP1",
        "colab_type": "code",
        "colab": {
          "base_uri": "https://localhost:8080/",
          "height": 49
        },
        "outputId": "0339fb61-a5dc-4203-8df6-9d1e33c4c42f"
      },
      "source": [
        "predict[predict[1]=='X']"
      ],
      "execution_count": 499,
      "outputs": [
        {
          "output_type": "execute_result",
          "data": {
            "text/html": [
              "<div>\n",
              "<style scoped>\n",
              "    .dataframe tbody tr th:only-of-type {\n",
              "        vertical-align: middle;\n",
              "    }\n",
              "\n",
              "    .dataframe tbody tr th {\n",
              "        vertical-align: top;\n",
              "    }\n",
              "\n",
              "    .dataframe thead th {\n",
              "        text-align: right;\n",
              "    }\n",
              "</style>\n",
              "<table border=\"1\" class=\"dataframe\">\n",
              "  <thead>\n",
              "    <tr style=\"text-align: right;\">\n",
              "      <th></th>\n",
              "      <th>0</th>\n",
              "      <th>1</th>\n",
              "    </tr>\n",
              "  </thead>\n",
              "  <tbody>\n",
              "  </tbody>\n",
              "</table>\n",
              "</div>"
            ],
            "text/plain": [
              "Empty DataFrame\n",
              "Columns: [0, 1]\n",
              "Index: []"
            ]
          },
          "metadata": {
            "tags": []
          },
          "execution_count": 499
        }
      ]
    },
    {
      "cell_type": "code",
      "metadata": {
        "id": "VDvw87vZBcU3",
        "colab_type": "code",
        "colab": {}
      },
      "source": [
        "#if there were any predictions as X, change them to O\n",
        "predict[predict[1]=='X'] = 'O'"
      ],
      "execution_count": 0,
      "outputs": []
    },
    {
      "cell_type": "code",
      "metadata": {
        "id": "WPJc1cswJYrT",
        "colab_type": "code",
        "colab": {
          "base_uri": "https://localhost:8080/",
          "height": 34
        },
        "outputId": "d7fd254c-fbee-4923-8b53-3cc8e88efeb9"
      },
      "source": [
        "#check if there are any mismatch in tokens between ground truth and prediction\n",
        "for i in range(predict.shape[0]):\n",
        "  if predict[0][i].lower() in labels[0][i].lower():\n",
        "    pass\n",
        "  else:\n",
        "    print(i)\n",
        "    print(predict[0][i], predict[1][i])\n",
        "    print(labels[0][i], labels[1][i])\n",
        "    print(\"\")\n",
        "print(\"check completed\")"
      ],
      "execution_count": 501,
      "outputs": [
        {
          "output_type": "stream",
          "text": [
            "check completed\n"
          ],
          "name": "stdout"
        }
      ]
    },
    {
      "cell_type": "code",
      "metadata": {
        "id": "kYcwXQIURyuE",
        "colab_type": "code",
        "colab": {}
      },
      "source": [
        "results = pd.concat([labels, predict], axis=1)\n",
        "results.columns = ['word','truth','token','predict']\n",
        "results[\"mismatch\"] = [1 if results['truth'][i]!=results['predict'][i] else 0 for i in range(results.shape[0])]"
      ],
      "execution_count": 0,
      "outputs": []
    },
    {
      "cell_type": "code",
      "metadata": {
        "id": "XUfpM_hs69Ce",
        "colab_type": "code",
        "colab": {
          "base_uri": "https://localhost:8080/",
          "height": 34
        },
        "outputId": "ecb1f95e-ced1-4c87-d3f7-6209d751cad6"
      },
      "source": [
        "#test f-score\n",
        "np.round(f1_score(results['truth'], results['predict'], average=\"macro\"),3)"
      ],
      "execution_count": 503,
      "outputs": [
        {
          "output_type": "execute_result",
          "data": {
            "text/plain": [
              "0.72"
            ]
          },
          "metadata": {
            "tags": []
          },
          "execution_count": 503
        }
      ]
    },
    {
      "cell_type": "code",
      "metadata": {
        "id": "SeYNsjnbawcH",
        "colab_type": "code",
        "colab": {
          "base_uri": "https://localhost:8080/",
          "height": 34
        },
        "outputId": "cf9b4fec-c259-45f3-f40d-5f529aee505a"
      },
      "source": [
        "#test accuracy\n",
        "np.round(accuracy_score(results['truth'], results['predict']),3)"
      ],
      "execution_count": 506,
      "outputs": [
        {
          "output_type": "execute_result",
          "data": {
            "text/plain": [
              "0.965"
            ]
          },
          "metadata": {
            "tags": []
          },
          "execution_count": 506
        }
      ]
    },
    {
      "cell_type": "code",
      "metadata": {
        "id": "wS2Ba1WP2D6f",
        "colab_type": "code",
        "colab": {
          "base_uri": "https://localhost:8080/",
          "height": 142
        },
        "outputId": "8a025927-fd69-4960-a69b-a0d960a89bf7"
      },
      "source": [
        "cm = confusion_matrix(results['predict'], results['truth'])\n",
        "pd.DataFrame((cm/cm.sum())*100, index=[\"pred B\",\"pred I\", \"pred O\"], columns=[\"true B\",\"true I\", \"true O\"]).round(2).astype(str).add('%')"
      ],
      "execution_count": 507,
      "outputs": [
        {
          "output_type": "execute_result",
          "data": {
            "text/html": [
              "<div>\n",
              "<style scoped>\n",
              "    .dataframe tbody tr th:only-of-type {\n",
              "        vertical-align: middle;\n",
              "    }\n",
              "\n",
              "    .dataframe tbody tr th {\n",
              "        vertical-align: top;\n",
              "    }\n",
              "\n",
              "    .dataframe thead th {\n",
              "        text-align: right;\n",
              "    }\n",
              "</style>\n",
              "<table border=\"1\" class=\"dataframe\">\n",
              "  <thead>\n",
              "    <tr style=\"text-align: right;\">\n",
              "      <th></th>\n",
              "      <th>true B</th>\n",
              "      <th>true I</th>\n",
              "      <th>true O</th>\n",
              "    </tr>\n",
              "  </thead>\n",
              "  <tbody>\n",
              "    <tr>\n",
              "      <th>pred B</th>\n",
              "      <td>2.07%</td>\n",
              "      <td>0.19%</td>\n",
              "      <td>0.6%</td>\n",
              "    </tr>\n",
              "    <tr>\n",
              "      <th>pred I</th>\n",
              "      <td>0.06%</td>\n",
              "      <td>0.9%</td>\n",
              "      <td>0.69%</td>\n",
              "    </tr>\n",
              "    <tr>\n",
              "      <th>pred O</th>\n",
              "      <td>0.86%</td>\n",
              "      <td>1.1%</td>\n",
              "      <td>93.54%</td>\n",
              "    </tr>\n",
              "  </tbody>\n",
              "</table>\n",
              "</div>"
            ],
            "text/plain": [
              "       true B true I  true O\n",
              "pred B  2.07%  0.19%    0.6%\n",
              "pred I  0.06%   0.9%   0.69%\n",
              "pred O  0.86%   1.1%  93.54%"
            ]
          },
          "metadata": {
            "tags": []
          },
          "execution_count": 507
        }
      ]
    },
    {
      "cell_type": "code",
      "metadata": {
        "id": "GwfUPrMi2mTu",
        "colab_type": "code",
        "colab": {
          "base_uri": "https://localhost:8080/",
          "height": 142
        },
        "outputId": "08703f54-a30e-437b-ecc9-f18e652654f3"
      },
      "source": [
        "pd.DataFrame(cm, index=[\"pred B\",\"pred I\", \"pred O\"], columns=[\"true B\",\"true I\", \"true O\"])"
      ],
      "execution_count": 508,
      "outputs": [
        {
          "output_type": "execute_result",
          "data": {
            "text/html": [
              "<div>\n",
              "<style scoped>\n",
              "    .dataframe tbody tr th:only-of-type {\n",
              "        vertical-align: middle;\n",
              "    }\n",
              "\n",
              "    .dataframe tbody tr th {\n",
              "        vertical-align: top;\n",
              "    }\n",
              "\n",
              "    .dataframe thead th {\n",
              "        text-align: right;\n",
              "    }\n",
              "</style>\n",
              "<table border=\"1\" class=\"dataframe\">\n",
              "  <thead>\n",
              "    <tr style=\"text-align: right;\">\n",
              "      <th></th>\n",
              "      <th>true B</th>\n",
              "      <th>true I</th>\n",
              "      <th>true O</th>\n",
              "    </tr>\n",
              "  </thead>\n",
              "  <tbody>\n",
              "    <tr>\n",
              "      <th>pred B</th>\n",
              "      <td>111</td>\n",
              "      <td>10</td>\n",
              "      <td>32</td>\n",
              "    </tr>\n",
              "    <tr>\n",
              "      <th>pred I</th>\n",
              "      <td>3</td>\n",
              "      <td>48</td>\n",
              "      <td>37</td>\n",
              "    </tr>\n",
              "    <tr>\n",
              "      <th>pred O</th>\n",
              "      <td>46</td>\n",
              "      <td>59</td>\n",
              "      <td>5012</td>\n",
              "    </tr>\n",
              "  </tbody>\n",
              "</table>\n",
              "</div>"
            ],
            "text/plain": [
              "        true B  true I  true O\n",
              "pred B     111      10      32\n",
              "pred I       3      48      37\n",
              "pred O      46      59    5012"
            ]
          },
          "metadata": {
            "tags": []
          },
          "execution_count": 508
        }
      ]
    },
    {
      "cell_type": "markdown",
      "metadata": {
        "id": "gqjZx5cA3g0N",
        "colab_type": "text"
      },
      "source": [
        "Errror analysis\n"
      ]
    },
    {
      "cell_type": "code",
      "metadata": {
        "id": "7pgDSF46MZ5U",
        "colab_type": "code",
        "colab": {}
      },
      "source": [
        "#combine B and I into one category\n",
        "results[\"truth2\"] = ['B' if results['truth'][i]=='I' else results['truth'][i] for i in range(results.shape[0])]\n",
        "results[\"predict2\"] = ['B' if results['predict'][i]=='I' else results['predict'][i] for i in range(results.shape[0])]"
      ],
      "execution_count": 0,
      "outputs": []
    },
    {
      "cell_type": "code",
      "metadata": {
        "id": "mQSkAi__3mF8",
        "colab_type": "code",
        "colab": {
          "base_uri": "https://localhost:8080/",
          "height": 111
        },
        "outputId": "10d778a0-1ade-4607-852a-beb3c895cf50"
      },
      "source": [
        "cm2 = confusion_matrix(results['predict2'], results['truth2'])\n",
        "pd.DataFrame((cm2/cm2.sum())*100, index=[\"pred B/I\",\"pred O\"], columns=[\"true B/I\", \"true O\"]).round(2).astype(str).add('%')"
      ],
      "execution_count": 510,
      "outputs": [
        {
          "output_type": "execute_result",
          "data": {
            "text/html": [
              "<div>\n",
              "<style scoped>\n",
              "    .dataframe tbody tr th:only-of-type {\n",
              "        vertical-align: middle;\n",
              "    }\n",
              "\n",
              "    .dataframe tbody tr th {\n",
              "        vertical-align: top;\n",
              "    }\n",
              "\n",
              "    .dataframe thead th {\n",
              "        text-align: right;\n",
              "    }\n",
              "</style>\n",
              "<table border=\"1\" class=\"dataframe\">\n",
              "  <thead>\n",
              "    <tr style=\"text-align: right;\">\n",
              "      <th></th>\n",
              "      <th>true B/I</th>\n",
              "      <th>true O</th>\n",
              "    </tr>\n",
              "  </thead>\n",
              "  <tbody>\n",
              "    <tr>\n",
              "      <th>pred B/I</th>\n",
              "      <td>3.21%</td>\n",
              "      <td>1.29%</td>\n",
              "    </tr>\n",
              "    <tr>\n",
              "      <th>pred O</th>\n",
              "      <td>1.96%</td>\n",
              "      <td>93.54%</td>\n",
              "    </tr>\n",
              "  </tbody>\n",
              "</table>\n",
              "</div>"
            ],
            "text/plain": [
              "         true B/I  true O\n",
              "pred B/I    3.21%   1.29%\n",
              "pred O      1.96%  93.54%"
            ]
          },
          "metadata": {
            "tags": []
          },
          "execution_count": 510
        }
      ]
    },
    {
      "cell_type": "code",
      "metadata": {
        "id": "qe6LOFtN3wNb",
        "colab_type": "code",
        "colab": {
          "base_uri": "https://localhost:8080/",
          "height": 111
        },
        "outputId": "7c1bcbc7-dbd2-4bf1-80af-78bdc65fd99e"
      },
      "source": [
        "pd.DataFrame(cm2, index=[\"pred B/I\", \"pred O\"], columns=[\"true B/I\", \"true O\"])"
      ],
      "execution_count": 511,
      "outputs": [
        {
          "output_type": "execute_result",
          "data": {
            "text/html": [
              "<div>\n",
              "<style scoped>\n",
              "    .dataframe tbody tr th:only-of-type {\n",
              "        vertical-align: middle;\n",
              "    }\n",
              "\n",
              "    .dataframe tbody tr th {\n",
              "        vertical-align: top;\n",
              "    }\n",
              "\n",
              "    .dataframe thead th {\n",
              "        text-align: right;\n",
              "    }\n",
              "</style>\n",
              "<table border=\"1\" class=\"dataframe\">\n",
              "  <thead>\n",
              "    <tr style=\"text-align: right;\">\n",
              "      <th></th>\n",
              "      <th>true B/I</th>\n",
              "      <th>true O</th>\n",
              "    </tr>\n",
              "  </thead>\n",
              "  <tbody>\n",
              "    <tr>\n",
              "      <th>pred B/I</th>\n",
              "      <td>172</td>\n",
              "      <td>69</td>\n",
              "    </tr>\n",
              "    <tr>\n",
              "      <th>pred O</th>\n",
              "      <td>105</td>\n",
              "      <td>5012</td>\n",
              "    </tr>\n",
              "  </tbody>\n",
              "</table>\n",
              "</div>"
            ],
            "text/plain": [
              "          true B/I  true O\n",
              "pred B/I       172      69\n",
              "pred O         105    5012"
            ]
          },
          "metadata": {
            "tags": []
          },
          "execution_count": 511
        }
      ]
    },
    {
      "cell_type": "code",
      "metadata": {
        "id": "6s82NHQ26dj7",
        "colab_type": "code",
        "colab": {}
      },
      "source": [
        "tB_pB = pd.DataFrame(results[(results[\"truth2\"]=='B')&(results[\"predict2\"]=='B')][\"word\"].value_counts())\n",
        "tB_pB.to_csv(\"/content/drive/My Drive/MIDS/W266/trained_models/ner/uncased_epoch10/error_analysis/tB_pB.csv\")"
      ],
      "execution_count": 0,
      "outputs": []
    },
    {
      "cell_type": "code",
      "metadata": {
        "id": "WN38tQps4mVn",
        "colab_type": "code",
        "colab": {}
      },
      "source": [
        "tB_pO = pd.DataFrame(results[(results[\"truth2\"]=='B')&(results[\"predict2\"]=='O')][\"word\"].value_counts())\n",
        "tB_pO.to_csv(\"/content/drive/My Drive/MIDS/W266/trained_models/ner/uncased_epoch10/error_analysis/tB_pO.csv\")"
      ],
      "execution_count": 0,
      "outputs": []
    },
    {
      "cell_type": "code",
      "metadata": {
        "id": "jxk9KQX545iU",
        "colab_type": "code",
        "colab": {}
      },
      "source": [
        "tO_pB = pd.DataFrame(results[(results[\"truth2\"]=='O')&(results[\"predict2\"]=='B')][\"word\"].value_counts())\n",
        "tO_pB.to_csv(\"/content/drive/My Drive/MIDS/W266/trained_models/ner/uncased_epoch10/error_analysis/tO_pB.csv\")"
      ],
      "execution_count": 0,
      "outputs": []
    },
    {
      "cell_type": "code",
      "metadata": {
        "id": "vjqmHVMD7Zz4",
        "colab_type": "code",
        "colab": {}
      },
      "source": [
        "tO_pO = pd.DataFrame(results[(results[\"truth2\"]=='O')&(results[\"predict2\"]=='O')][\"word\"].value_counts())\n",
        "tO_pO.to_csv(\"/content/drive/My Drive/MIDS/W266/trained_models/ner/uncased_epoch10/error_analysis/tO_pO.csv\")"
      ],
      "execution_count": 0,
      "outputs": []
    },
    {
      "cell_type": "code",
      "metadata": {
        "id": "Fp5qYHrU9q31",
        "colab_type": "code",
        "colab": {}
      },
      "source": [
        "train_ner[\"combine\"] = [train_ner[0][i]+\" \"+train_ner[1][i] for i in range(train_ner.shape[0])]"
      ],
      "execution_count": 0,
      "outputs": []
    },
    {
      "cell_type": "code",
      "metadata": {
        "id": "mnHg1wQU986a",
        "colab_type": "code",
        "colab": {}
      },
      "source": [
        "training_O = train_ner[train_ner[1]==\"O\"][\"combine\"].value_counts()\n",
        "training_O.to_csv(\"/content/drive/My Drive/MIDS/W266/trained_models/ner/uncased_epoch10/error_analysis/training_O.csv\")"
      ],
      "execution_count": 0,
      "outputs": []
    },
    {
      "cell_type": "code",
      "metadata": {
        "id": "OwfeT5Na-UHX",
        "colab_type": "code",
        "colab": {}
      },
      "source": [
        "training_BI = train_ner[train_ner[1]!=\"O\"][\"combine\"].value_counts()\n",
        "training_BI.to_csv(\"/content/drive/My Drive/MIDS/W266/trained_models/ner/uncased_epoch10/error_analysis/training_BI.csv\")"
      ],
      "execution_count": 0,
      "outputs": []
    },
    {
      "cell_type": "code",
      "metadata": {
        "id": "-0rsDt_H1QMG",
        "colab_type": "code",
        "colab": {}
      },
      "source": [
        "test_tweet_ids_ner = pd.read_csv(DATA_DIR+'/test_tweet_ids_ner.csv')"
      ],
      "execution_count": 0,
      "outputs": []
    },
    {
      "cell_type": "code",
      "metadata": {
        "id": "WQs_KzWv3rrV",
        "colab_type": "code",
        "colab": {}
      },
      "source": [
        "def restore_string_to_list(data):\n",
        "  all_str_to_list = []\n",
        "  for i in range(data.shape[0]):\n",
        "    str_to_list = data['ner'][i].strip(\"[|]\").split(\", \")\n",
        "    str_to_list = [x.split(\"\\\\t\")[0][1:] for x in str_to_list]\n",
        "    all_str_to_list.append(str_to_list)\n",
        "  return(all_str_to_list)"
      ],
      "execution_count": 0,
      "outputs": []
    },
    {
      "cell_type": "code",
      "metadata": {
        "id": "mDmHMkIZ51qw",
        "colab_type": "code",
        "colab": {}
      },
      "source": [
        "test_tweet_ids_ner[\"ner\"] = restore_string_to_list(test_tweet_ids_ner)"
      ],
      "execution_count": 0,
      "outputs": []
    },
    {
      "cell_type": "code",
      "metadata": {
        "id": "4SBT-uPn6QRv",
        "colab_type": "code",
        "colab": {
          "base_uri": "https://localhost:8080/",
          "height": 221
        },
        "outputId": "07615df3-c947-40a6-fcaf-ac697638756e"
      },
      "source": [
        "test_tweet_ids_ner[\"ner\"]"
      ],
      "execution_count": 524,
      "outputs": [
        {
          "output_type": "execute_result",
          "data": {
            "text/plain": [
              "0      [@, catthoma, Right, ,, some, SSRIs, are, used...\n",
              "1      [@, dsymons, @, MelissaDee, _, I, was, only, o...\n",
              "2      [great, ., ., I, have, hives, up, and, down, m...\n",
              "3      [Taking, trazodone, and, literally, passing, o...\n",
              "4      [@, Joanne, _, _, Howe, enbrel, is, a, miracle...\n",
              "                             ...                        \n",
              "248    [YOUNG, NIGGA, JUST, GAVE, ME, A, 70MG, VYVANS...\n",
              "249    [03, ., 25, day, 13, Rivaroxaban, diary, ., Ne...\n",
              "250    [@, kitschmagnet, I, was, on, tysabri, for, 50...\n",
              "251    [@, craigsdaughter, no, joke, !, #, tysabri, w...\n",
              "252    [@, Jules, _, Clarke, banana, ?, Hot, milk, ?,...\n",
              "Name: ner, Length: 253, dtype: object"
            ]
          },
          "metadata": {
            "tags": []
          },
          "execution_count": 524
        }
      ]
    },
    {
      "cell_type": "code",
      "metadata": {
        "id": "RkpWrr8h6gJf",
        "colab_type": "code",
        "colab": {}
      },
      "source": [
        "def match_tweet_results(data, results):\n",
        "  current_index = 0\n",
        "  tweet_lengths = []\n",
        "  ner_mismatches = []\n",
        "  ner_result_compares = []\n",
        "\n",
        "  for i in range(data.shape[0]):\n",
        "    tweet_length = len(data[\"ner\"][i])\n",
        "    tweet_result_table = results[current_index:current_index+tweet_length]\n",
        "    ner_result_compare = []\n",
        "    for result in tweet_result_table.iterrows():\n",
        "      ner_result_compare.append(result[1][\"word\"]+' '+result[1][\"truth\"]+' '+result[1][\"predict\"])\n",
        "    ner_mismatch = tweet_result_table[\"mismatch\"].sum()\n",
        "\n",
        "    tweet_lengths.append(tweet_length)\n",
        "    ner_mismatches.append(ner_mismatch)\n",
        "    ner_result_compares.append(ner_result_compare)\n",
        "\n",
        "    current_index += tweet_length\n",
        "  \n",
        "  return(tweet_lengths, ner_mismatches, ner_result_compares)"
      ],
      "execution_count": 0,
      "outputs": []
    },
    {
      "cell_type": "code",
      "metadata": {
        "id": "I_Q-tzT88Kxl",
        "colab_type": "code",
        "colab": {}
      },
      "source": [
        "tweet_lengths, ner_mismatches, ner_result_compares = match_tweet_results(test_tweet_ids_ner, results)"
      ],
      "execution_count": 0,
      "outputs": []
    },
    {
      "cell_type": "code",
      "metadata": {
        "id": "MMoG1Mv06YmJ",
        "colab_type": "code",
        "colab": {}
      },
      "source": [
        "test_tweet_ids_ner[\"tweet_lengths\"] = tweet_lengths\n",
        "test_tweet_ids_ner[\"ner_mismatches\"] = ner_mismatches\n",
        "test_tweet_ids_ner[\"ner_result_compares\"] = ner_result_compares"
      ],
      "execution_count": 0,
      "outputs": []
    },
    {
      "cell_type": "code",
      "metadata": {
        "id": "e_P7MmSDxFmC",
        "colab_type": "code",
        "colab": {
          "base_uri": "https://localhost:8080/",
          "height": 34
        },
        "outputId": "af80e6d6-7895-4407-9885-61d3e94358ff"
      },
      "source": [
        "#number of tweets with no mismatches\n",
        "test_tweet_ids_ner[test_tweet_ids_ner['ner_mismatches']==0].shape[0]"
      ],
      "execution_count": 528,
      "outputs": [
        {
          "output_type": "execute_result",
          "data": {
            "text/plain": [
              "171"
            ]
          },
          "metadata": {
            "tags": []
          },
          "execution_count": 528
        }
      ]
    },
    {
      "cell_type": "code",
      "metadata": {
        "id": "8bmWZCnWzGwh",
        "colab_type": "code",
        "colab": {
          "base_uri": "https://localhost:8080/",
          "height": 34
        },
        "outputId": "bbe33da0-b056-4899-be8d-920bb6255445"
      },
      "source": [
        "#number of tweets with no mismatches\n",
        "test_tweet_ids_ner[test_tweet_ids_ner['ner_mismatches']>0].shape[0]"
      ],
      "execution_count": 529,
      "outputs": [
        {
          "output_type": "execute_result",
          "data": {
            "text/plain": [
              "82"
            ]
          },
          "metadata": {
            "tags": []
          },
          "execution_count": 529
        }
      ]
    },
    {
      "cell_type": "code",
      "metadata": {
        "id": "xBrXhRACzM8p",
        "colab_type": "code",
        "colab": {
          "base_uri": "https://localhost:8080/",
          "height": 34
        },
        "outputId": "de150566-0345-429a-c7a2-4fb2eaff3950"
      },
      "source": [
        "#number of ner mismatches\n",
        "test_tweet_ids_ner['ner_mismatches'].sum()"
      ],
      "execution_count": 530,
      "outputs": [
        {
          "output_type": "execute_result",
          "data": {
            "text/plain": [
              "187"
            ]
          },
          "metadata": {
            "tags": []
          },
          "execution_count": 530
        }
      ]
    },
    {
      "cell_type": "markdown",
      "metadata": {
        "id": "iVGqMHReFocf",
        "colab_type": "text"
      },
      "source": [
        "# CRF baseline model"
      ]
    },
    {
      "cell_type": "markdown",
      "metadata": {
        "id": "HipCF0Xbvs5x",
        "colab_type": "text"
      },
      "source": [
        "code adapted from: https://sklearn-crfsuite.readthedocs.io/en/latest/tutorial.html"
      ]
    },
    {
      "cell_type": "code",
      "metadata": {
        "id": "5OSzG6bLGAIc",
        "colab_type": "code",
        "colab": {}
      },
      "source": [
        "def word2features(sent, i):\n",
        "    word = sent[i]\n",
        "\n",
        "    features = {\n",
        "        'bias': 1.0,\n",
        "        'word.lower()': word.lower(),\n",
        "        'word[-3:]': word[-3:],\n",
        "        'word[-2:]': word[-2:],\n",
        "        'word.isupper()': word.isupper(),\n",
        "        'word.istitle()': word.istitle(),\n",
        "        'word.isdigit()': word.isdigit(),\n",
        "    }\n",
        "    if i > 0:\n",
        "        word1 = sent[i-1]\n",
        "        features.update({\n",
        "            '-1:word.lower()': word1.lower(),\n",
        "            '-1:word.istitle()': word1.istitle(),\n",
        "            '-1:word.isupper()': word1.isupper(),\n",
        "        })\n",
        "    else:\n",
        "        features['BOS'] = True\n",
        "\n",
        "    if i < len(sent)-1:\n",
        "        word1 = sent[i+1]\n",
        "        features.update({\n",
        "            '+1:word.lower()': word1.lower(),\n",
        "            '+1:word.istitle()': word1.istitle(),\n",
        "            '+1:word.isupper()': word1.isupper(),\n",
        "        })\n",
        "    else:\n",
        "        features['EOS'] = True\n",
        "\n",
        "    return features\n",
        "\n",
        "def sent2features(sent):\n",
        "    return [word2features(sent, i) for i in range(len(sent))]"
      ],
      "execution_count": 0,
      "outputs": []
    },
    {
      "cell_type": "code",
      "metadata": {
        "id": "1wlrOGOKG6YR",
        "colab_type": "code",
        "colab": {}
      },
      "source": [
        "def get_label_list(sentences, label_table):\n",
        "  current_index = 0\n",
        "  labels = []\n",
        "\n",
        "  for i in range(sentences.shape[0]):\n",
        "    tweet_length = len(sentences[i])\n",
        "    label = label_table[1][current_index:current_index+tweet_length].to_list()\n",
        "    labels.append(label)\n",
        "\n",
        "    current_index += tweet_length\n",
        "  \n",
        "  return(labels)"
      ],
      "execution_count": 0,
      "outputs": []
    },
    {
      "cell_type": "code",
      "metadata": {
        "id": "olsc9c1tKl4H",
        "colab_type": "code",
        "colab": {}
      },
      "source": [
        "train_labels = pd.read_csv(DATA_DIR+\"/train.tsv\", delimiter=\"\\t\", lineterminator='\\n', header=None)\n",
        "train_labels = train_labels[train_labels[1].isnull()==False]\n",
        "train_labels[1] = [x.strip() for x in train_labels[1]]\n",
        "train_labels.reset_index(drop=True, inplace=True)"
      ],
      "execution_count": 0,
      "outputs": []
    },
    {
      "cell_type": "code",
      "metadata": {
        "id": "uONndmGqKxM9",
        "colab_type": "code",
        "colab": {}
      },
      "source": [
        "train_tweet_ids_ner = pd.read_csv(DATA_DIR+'/train_tweet_ids_ner.csv')\n",
        "train_tweet_ids_ner[\"ner\"] = restore_string_to_list(train_tweet_ids_ner)\n",
        "train_tweet_ids_ner[\"label\"] = get_label_list(train_tweet_ids_ner[\"ner\"], train_labels)"
      ],
      "execution_count": 0,
      "outputs": []
    },
    {
      "cell_type": "code",
      "metadata": {
        "id": "9MdEVs-_GIOa",
        "colab_type": "code",
        "colab": {}
      },
      "source": [
        "train_X = [sent2features(train_tweet_ids_ner[\"ner\"][i]) for i in range(train_tweet_ids_ner.shape[0])]\n",
        "train_y = train_tweet_ids_ner[\"label\"].to_list()"
      ],
      "execution_count": 0,
      "outputs": []
    },
    {
      "cell_type": "code",
      "metadata": {
        "id": "bkgIKYb3KaSu",
        "colab_type": "code",
        "colab": {}
      },
      "source": [
        "test_labels = pd.read_csv(DATA_DIR+\"/test.tsv\", delimiter=\"\\t\", lineterminator='\\n', header=None)\n",
        "test_labels = test_labels[test_labels[1].isnull()==False]\n",
        "test_labels[1] = [x.strip() for x in test_labels[1]]\n",
        "test_labels.reset_index(drop=True, inplace=True)"
      ],
      "execution_count": 0,
      "outputs": []
    },
    {
      "cell_type": "code",
      "metadata": {
        "id": "6eJJTuv0HjwA",
        "colab_type": "code",
        "colab": {}
      },
      "source": [
        "test_tweet_ids_ner = pd.read_csv(DATA_DIR+'/test_tweet_ids_ner.csv')\n",
        "test_tweet_ids_ner[\"ner\"] = restore_string_to_list(test_tweet_ids_ner)\n",
        "test_tweet_ids_ner[\"label\"] = get_label_list(test_tweet_ids_ner[\"ner\"], test_labels)"
      ],
      "execution_count": 0,
      "outputs": []
    },
    {
      "cell_type": "code",
      "metadata": {
        "id": "HP6f6zncK4Yy",
        "colab_type": "code",
        "colab": {}
      },
      "source": [
        "test_X = [sent2features(test_tweet_ids_ner[\"ner\"][i]) for i in range(test_tweet_ids_ner.shape[0])]\n",
        "test_y = test_tweet_ids_ner[\"label\"].to_list()"
      ],
      "execution_count": 0,
      "outputs": []
    },
    {
      "cell_type": "code",
      "metadata": {
        "id": "GnQc3qUuJiPL",
        "colab_type": "code",
        "colab": {
          "base_uri": "https://localhost:8080/",
          "height": 136
        },
        "outputId": "a312d72f-a61a-47f5-a7cc-26a29bcd0a50"
      },
      "source": [
        "crf = sklearn_crfsuite.CRF(\n",
        "    algorithm='lbfgs',\n",
        "    c1=0.1,\n",
        "    c2=0.1,\n",
        "    max_iterations=100,\n",
        "    all_possible_transitions=True\n",
        ")\n",
        "crf.fit(train_X, train_y)"
      ],
      "execution_count": 478,
      "outputs": [
        {
          "output_type": "execute_result",
          "data": {
            "text/plain": [
              "CRF(algorithm='lbfgs', all_possible_states=None, all_possible_transitions=True,\n",
              "    averaging=None, c=None, c1=0.1, c2=0.1, calibration_candidates=None,\n",
              "    calibration_eta=None, calibration_max_trials=None, calibration_rate=None,\n",
              "    calibration_samples=None, delta=None, epsilon=None, error_sensitive=None,\n",
              "    gamma=None, keep_tempfiles=None, linesearch=None, max_iterations=100,\n",
              "    max_linesearch=None, min_freq=None, model_filename=None, num_memories=None,\n",
              "    pa_type=None, period=None, trainer_cls=None, variance=None, verbose=False)"
            ]
          },
          "metadata": {
            "tags": []
          },
          "execution_count": 478
        }
      ]
    },
    {
      "cell_type": "code",
      "metadata": {
        "id": "u0CNbilbVTMO",
        "colab_type": "code",
        "colab": {}
      },
      "source": [
        "pred_y = crf.predict(test_X)"
      ],
      "execution_count": 0,
      "outputs": []
    },
    {
      "cell_type": "code",
      "metadata": {
        "id": "Ms2vJZDzVmtA",
        "colab_type": "code",
        "colab": {}
      },
      "source": [
        "pred_y_flat = list(chain(*pred_y))\n",
        "test_y_flat = list(chain(*test_y))"
      ],
      "execution_count": 0,
      "outputs": []
    },
    {
      "cell_type": "code",
      "metadata": {
        "id": "G47YeB9lL92u",
        "colab_type": "code",
        "colab": {
          "base_uri": "https://localhost:8080/",
          "height": 34
        },
        "outputId": "f57f3984-c2db-44f7-f752-ad3b0405f24b"
      },
      "source": [
        "#test f-score\n",
        "np.round(f1_score(test_y_flat, pred_y_flat, average='macro'),3)"
      ],
      "execution_count": 481,
      "outputs": [
        {
          "output_type": "execute_result",
          "data": {
            "text/plain": [
              "0.502"
            ]
          },
          "metadata": {
            "tags": []
          },
          "execution_count": 481
        }
      ]
    },
    {
      "cell_type": "code",
      "metadata": {
        "id": "nRGqdtIdJ5tE",
        "colab_type": "code",
        "colab": {
          "base_uri": "https://localhost:8080/",
          "height": 34
        },
        "outputId": "11c57212-65b0-4ffd-f65a-450d1ecb1479"
      },
      "source": [
        "#test accuracy\n",
        "np.round(accuracy_score(test_y_flat, pred_y_flat),3)"
      ],
      "execution_count": 482,
      "outputs": [
        {
          "output_type": "execute_result",
          "data": {
            "text/plain": [
              "0.951"
            ]
          },
          "metadata": {
            "tags": []
          },
          "execution_count": 482
        }
      ]
    },
    {
      "cell_type": "code",
      "metadata": {
        "id": "TPDa8Me4i5VP",
        "colab_type": "code",
        "colab": {
          "base_uri": "https://localhost:8080/",
          "height": 34
        },
        "outputId": "af0faf68-aa64-44a4-8a32-e854d4df4d40"
      },
      "source": [
        "len(test_X[0])"
      ],
      "execution_count": 31,
      "outputs": [
        {
          "output_type": "execute_result",
          "data": {
            "text/plain": [
              "26"
            ]
          },
          "metadata": {
            "tags": []
          },
          "execution_count": 31
        }
      ]
    },
    {
      "cell_type": "code",
      "metadata": {
        "id": "T52taXREi-IQ",
        "colab_type": "code",
        "colab": {
          "base_uri": "https://localhost:8080/",
          "height": 204
        },
        "outputId": "da92b1c9-d5be-4580-dd3d-1a4433523069"
      },
      "source": [
        "#example of features for CRF\n",
        "test_X[0][0]"
      ],
      "execution_count": 35,
      "outputs": [
        {
          "output_type": "execute_result",
          "data": {
            "text/plain": [
              "{'+1:word.istitle()': False,\n",
              " '+1:word.isupper()': False,\n",
              " '+1:word.lower()': 'catthoma',\n",
              " 'BOS': True,\n",
              " 'bias': 1.0,\n",
              " 'word.isdigit()': False,\n",
              " 'word.istitle()': False,\n",
              " 'word.isupper()': False,\n",
              " 'word.lower()': '@',\n",
              " 'word[-2:]': '@',\n",
              " 'word[-3:]': '@'}"
            ]
          },
          "metadata": {
            "tags": []
          },
          "execution_count": 35
        }
      ]
    }
  ]
}