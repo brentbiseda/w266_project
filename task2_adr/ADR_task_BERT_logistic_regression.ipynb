{
 "cells": [
  {
   "cell_type": "markdown",
   "metadata": {},
   "source": [
    "# Based on Hugging Face Transformers\n",
    "\n",
    "https://github.com/huggingface/transformers"
   ]
  },
  {
   "cell_type": "markdown",
   "metadata": {},
   "source": [
    "# Preprocessing"
   ]
  },
  {
   "cell_type": "code",
   "execution_count": 1,
   "metadata": {},
   "outputs": [
    {
     "name": "stderr",
     "output_type": "stream",
     "text": [
      "Using TensorFlow backend.\n"
     ]
    }
   ],
   "source": [
    "import transformers as ppb\n",
    "import numpy as np\n",
    "import pandas as pd\n",
    "from sklearn.preprocessing import LabelEncoder\n",
    "from keras.utils.np_utils import to_categorical\n",
    "import torch\n",
    "import math"
   ]
  },
  {
   "cell_type": "code",
   "execution_count": 2,
   "metadata": {},
   "outputs": [],
   "source": [
    "# For DistilBERT:\n",
    "#model_class, tokenizer_class, pretrained_weights = (ppb.DistilBertModel, ppb.DistilBertTokenizer, 'distilbert-base-cased')\n",
    "\n",
    "## Want BERT instead of distilBERT? Uncomment the following line:\n",
    "model_class, tokenizer_class, pretrained_weights = (ppb.BertModel, ppb.BertTokenizer, 'bert-base-cased')\n",
    "\n",
    "# Load pretrained model/tokenizer\n",
    "tokenizer = tokenizer_class.from_pretrained(pretrained_weights)\n",
    "model = model_class.from_pretrained(pretrained_weights)"
   ]
  },
  {
   "cell_type": "code",
   "execution_count": 3,
   "metadata": {},
   "outputs": [],
   "source": [
    "df = pd.read_csv(\"../datasets/ADR/train.tsv\", sep=\"\\t\", header=None)\n",
    "test_df = pd.read_csv(\"../datasets/ADR/test.tsv\", sep=\"\\t\", header=None)"
   ]
  },
  {
   "cell_type": "code",
   "execution_count": 4,
   "metadata": {},
   "outputs": [],
   "source": [
    "# Truncate long sentences to 128 tokens\n",
    "X = df[0].apply((lambda x: tokenizer.encode(x, add_special_tokens=True, max_length=128)))\n",
    "y = np.array(df[1])\n",
    "del df\n",
    "\n",
    "X_test = test_df[0].apply((lambda x: tokenizer.encode(x, add_special_tokens=True, max_length=128)))\n",
    "y_test = np.array(test_df[1])\n",
    "del test_df"
   ]
  },
  {
   "cell_type": "code",
   "execution_count": 5,
   "metadata": {},
   "outputs": [],
   "source": [
    "# One hot Encoding of y\n",
    "encoder = LabelEncoder()\n",
    "encoder.fit(y)\n",
    "\n",
    "y = encoder.transform(y)\n",
    "y = to_categorical(y)\n",
    "\n",
    "# One hot Encoding of y test\n",
    "y_oh = encoder.transform(y_test)\n",
    "y_oh = to_categorical(y_oh)"
   ]
  },
  {
   "cell_type": "code",
   "execution_count": 6,
   "metadata": {},
   "outputs": [],
   "source": [
    "def GetEmbeddings(tokenizedBatch):\n",
    "    max_len = 0\n",
    "    for i in tokenizedBatch.values:\n",
    "        if len(i) > max_len:\n",
    "            max_len = len(i)\n",
    "\n",
    "    padded = np.array([i + [0]*(max_len-len(i)) for i in tokenizedBatch.values])\n",
    "    \n",
    "    attention_mask = np.where(padded != 0, 1, 0)\n",
    "    \n",
    "    input_ids = torch.tensor(padded).to(torch.long)  \n",
    "    attention_mask = torch.tensor(attention_mask)\n",
    "\n",
    "    with torch.no_grad():\n",
    "        last_hidden_states = model(input_ids, attention_mask=attention_mask)\n",
    "    \n",
    "    features = last_hidden_states[0][:,0,:].numpy()\n",
    "    return features"
   ]
  },
  {
   "cell_type": "code",
   "execution_count": 7,
   "metadata": {
    "scrolled": false
   },
   "outputs": [
    {
     "name": "stdout",
     "output_type": "stream",
     "text": [
      "Generating Embeddings for Batch: 1 of 6\n",
      "Generating Embeddings for Batch: 2 of 6\n",
      "Generating Embeddings for Batch: 3 of 6\n",
      "Generating Embeddings for Batch: 4 of 6\n",
      "Generating Embeddings for Batch: 5 of 6\n",
      "Generating Embeddings for Batch: 6 of 6\n",
      "Generating Test Embeddings for Batch: 1 of 1\n"
     ]
    }
   ],
   "source": [
    "BATCH_SIZE = 1000\n",
    "all_embeddings = []\n",
    "all_embeddings_test = []\n",
    "\n",
    "# Process Training Set Embeddings\n",
    "batches = math.ceil(X.shape[0] / BATCH_SIZE)\n",
    "\n",
    "for i in range(1, batches+1):\n",
    "    print(\"Generating Embeddings for Batch:\",i,\"of\", batches)\n",
    "    batchEmbeddings = GetEmbeddings(X[(i-1)*BATCH_SIZE:i*BATCH_SIZE])\n",
    "    all_embeddings.append(batchEmbeddings)\n",
    "\n",
    "# Process Test Set Embeddings\n",
    "batches = math.ceil(X_test.shape[0] / BATCH_SIZE)\n",
    "\n",
    "for i in range(1, batches+1):\n",
    "    print(\"Generating Test Embeddings for Batch:\",i,\"of\", batches)\n",
    "    batchEmbeddings = GetEmbeddings(X_test[(i-1)*BATCH_SIZE:i*BATCH_SIZE])\n",
    "    all_embeddings_test.append(batchEmbeddings)"
   ]
  },
  {
   "cell_type": "code",
   "execution_count": 8,
   "metadata": {},
   "outputs": [],
   "source": [
    "all_embeddings = np.concatenate(all_embeddings, axis=0)\n",
    "all_embeddings_test = np.concatenate(all_embeddings_test, axis=0)"
   ]
  },
  {
   "cell_type": "code",
   "execution_count": 9,
   "metadata": {},
   "outputs": [],
   "source": [
    "np.save('../binary/bert_embeddings_twitter.npy', all_embeddings)\n",
    "np.save('../binary/y_twitter.npy', y)\n",
    "np.save('../binary/bert_embeddings_test_twitter.npy', all_embeddings_test)\n",
    "np.save('../binary/y_test_twitter.npy', y_oh)"
   ]
  },
  {
   "cell_type": "markdown",
   "metadata": {},
   "source": [
    "# Train Model"
   ]
  },
  {
   "cell_type": "code",
   "execution_count": 94,
   "metadata": {},
   "outputs": [],
   "source": [
    "import tensorflow as tf\n",
    "import tensorflow.keras as keras \n",
    "from keras.layers import Input, Lambda, Dense\n",
    "from keras.models import Model\n",
    "from keras.callbacks import EarlyStopping\n",
    "import keras.backend as K\n",
    "from keras.optimizers import adam, sgd"
   ]
  },
  {
   "cell_type": "code",
   "execution_count": 95,
   "metadata": {},
   "outputs": [],
   "source": [
    "all_embeddings = np.load('../binary/bert_embeddings_twitter.npy')\n",
    "y = np.load('../binary/y_twitter.npy')\n",
    "all_embeddings_test = np.load('../binary/bert_embeddings_test_twitter.npy')\n",
    "y_oh = np.load('../binary/y_test_twitter.npy')"
   ]
  },
  {
   "cell_type": "code",
   "execution_count": 96,
   "metadata": {},
   "outputs": [],
   "source": [
    "#sgd = sgd(lr=0.01, decay=1e-6, momentum=0.9, nesterov=True)\n",
    "optim = adam(lr=0.0003, beta_1=0.9, beta_2=0.999, amsgrad=False)"
   ]
  },
  {
   "cell_type": "code",
   "execution_count": 97,
   "metadata": {},
   "outputs": [],
   "source": [
    "def build_model(): \n",
    "    embedding = Input(shape=(768,), dtype=\"float\")\n",
    "    dense1 = Dense(1000, activation='relu', kernel_regularizer=keras.regularizers.l2(0.001))(embedding)\n",
    "    dense2 = Dense(1000, activation='relu', kernel_regularizer=keras.regularizers.l2(0.001))(dense1)\n",
    "    dense3 = Dense(1000, activation='relu', kernel_regularizer=keras.regularizers.l2(0.001))(dense2)\n",
    "    dense4 = Dense(1000, activation='relu', kernel_regularizer=keras.regularizers.l2(0.001))(dense3)\n",
    "    dense5 = Dense(1000, activation='relu', kernel_regularizer=keras.regularizers.l2(0.001))(dense4)\n",
    "    dense6 = Dense(1000, activation='relu', kernel_regularizer=keras.regularizers.l2(0.001))(dense5)\n",
    "    dense7 = Dense(1000, activation='relu', kernel_regularizer=keras.regularizers.l2(0.001))(dense6)\n",
    "    dense8 = Dense(1000, activation='relu', kernel_regularizer=keras.regularizers.l2(0.001))(dense7)\n",
    "    dense9 = Dense(1000, activation='relu', kernel_regularizer=keras.regularizers.l2(0.001))(dense8)\n",
    "    dense10 = Dense(1000, activation='relu', kernel_regularizer=keras.regularizers.l2(0.001))(dense9)\n",
    "    pred = Dense(2, activation='sigmoid')(dense9)\n",
    "    model = Model(inputs=[embedding], outputs=pred)\n",
    "    model.compile(loss='categorical_crossentropy', optimizer=optim, metrics=['accuracy'], )\n",
    "    return model"
   ]
  },
  {
   "cell_type": "code",
   "execution_count": 98,
   "metadata": {},
   "outputs": [],
   "source": [
    "model_bert = build_model()"
   ]
  },
  {
   "cell_type": "code",
   "execution_count": 99,
   "metadata": {},
   "outputs": [
    {
     "name": "stdout",
     "output_type": "stream",
     "text": [
      "_________________________________________________________________\n",
      "Layer (type)                 Output Shape              Param #   \n",
      "=================================================================\n",
      "input_7 (InputLayer)         (None, 768)               0         \n",
      "_________________________________________________________________\n",
      "dense_67 (Dense)             (None, 1000)              769000    \n",
      "_________________________________________________________________\n",
      "dense_68 (Dense)             (None, 1000)              1001000   \n",
      "_________________________________________________________________\n",
      "dense_69 (Dense)             (None, 1000)              1001000   \n",
      "_________________________________________________________________\n",
      "dense_70 (Dense)             (None, 1000)              1001000   \n",
      "_________________________________________________________________\n",
      "dense_71 (Dense)             (None, 1000)              1001000   \n",
      "_________________________________________________________________\n",
      "dense_72 (Dense)             (None, 1000)              1001000   \n",
      "_________________________________________________________________\n",
      "dense_73 (Dense)             (None, 1000)              1001000   \n",
      "_________________________________________________________________\n",
      "dense_74 (Dense)             (None, 1000)              1001000   \n",
      "_________________________________________________________________\n",
      "dense_75 (Dense)             (None, 1000)              1001000   \n",
      "_________________________________________________________________\n",
      "dense_77 (Dense)             (None, 2)                 2002      \n",
      "=================================================================\n",
      "Total params: 8,779,002\n",
      "Trainable params: 8,779,002\n",
      "Non-trainable params: 0\n",
      "_________________________________________________________________\n"
     ]
    }
   ],
   "source": [
    "model_bert.summary()"
   ]
  },
  {
   "cell_type": "markdown",
   "metadata": {},
   "source": [
    "# Change to training set"
   ]
  },
  {
   "cell_type": "code",
   "execution_count": 100,
   "metadata": {},
   "outputs": [],
   "source": [
    "es = EarlyStopping(monitor='loss', patience=15)\n",
    "cb_list = [es]"
   ]
  },
  {
   "cell_type": "code",
   "execution_count": 101,
   "metadata": {
    "scrolled": false
   },
   "outputs": [
    {
     "name": "stderr",
     "output_type": "stream",
     "text": [
      "Exception ignored in: <function BaseSession._Callable.__del__ at 0x00000243C60A8620>\n",
      "Traceback (most recent call last):\n",
      "  File \"C:\\Users\\bisedab\\AppData\\Local\\Continuum\\anaconda3\\lib\\site-packages\\tensorflow\\python\\client\\session.py\", line 1455, in __del__\n",
      "    self._session._session, self._handle, status)\n",
      "  File \"C:\\Users\\bisedab\\AppData\\Local\\Continuum\\anaconda3\\lib\\site-packages\\tensorflow\\python\\framework\\errors_impl.py\", line 528, in __exit__\n",
      "    c_api.TF_GetCode(self.status.status))\n",
      "tensorflow.python.framework.errors_impl.CancelledError: Session has been closed.\n",
      "Exception ignored in: <function BaseSession._Callable.__del__ at 0x00000243C60A8620>\n",
      "Traceback (most recent call last):\n",
      "  File \"C:\\Users\\bisedab\\AppData\\Local\\Continuum\\anaconda3\\lib\\site-packages\\tensorflow\\python\\client\\session.py\", line 1455, in __del__\n",
      "    self._session._session, self._handle, status)\n",
      "  File \"C:\\Users\\bisedab\\AppData\\Local\\Continuum\\anaconda3\\lib\\site-packages\\tensorflow\\python\\framework\\errors_impl.py\", line 528, in __exit__\n",
      "    c_api.TF_GetCode(self.status.status))\n",
      "tensorflow.python.framework.errors_impl.CancelledError: Session has been closed.\n"
     ]
    },
    {
     "name": "stdout",
     "output_type": "stream",
     "text": [
      "Train on 5912 samples, validate on 6 samples\n",
      "Epoch 1/1000\n",
      "5912/5912 [==============================] - 3s 524us/step - loss: 9.5643 - acc: 0.5108 - val_loss: 9.4197 - val_acc: 0.8333\n",
      "Epoch 2/1000\n",
      "5912/5912 [==============================] - 0s 12us/step - loss: 9.4266 - acc: 0.6536 - val_loss: 9.2862 - val_acc: 0.5000\n",
      "Epoch 3/1000\n",
      "5912/5912 [==============================] - 0s 15us/step - loss: 9.2895 - acc: 0.6228 - val_loss: 9.1194 - val_acc: 0.6667\n",
      "Epoch 4/1000\n",
      "5912/5912 [==============================] - 0s 15us/step - loss: 9.1613 - acc: 0.5010 - val_loss: 9.0427 - val_acc: 0.5000\n",
      "Epoch 5/1000\n",
      "5912/5912 [==============================] - 0s 13us/step - loss: 9.0311 - acc: 0.5497 - val_loss: 8.8795 - val_acc: 0.6667\n",
      "Epoch 6/1000\n",
      "5912/5912 [==============================] - 0s 14us/step - loss: 8.8952 - acc: 0.6561 - val_loss: 8.6989 - val_acc: 0.6667\n",
      "Epoch 7/1000\n",
      "5912/5912 [==============================] - 0s 12us/step - loss: 8.7741 - acc: 0.5450 - val_loss: 8.6353 - val_acc: 0.6667\n",
      "Epoch 8/1000\n",
      "5912/5912 [==============================] - 0s 12us/step - loss: 8.6426 - acc: 0.6299 - val_loss: 8.4269 - val_acc: 0.8333\n",
      "Epoch 9/1000\n",
      "5912/5912 [==============================] - 0s 13us/step - loss: 8.5000 - acc: 0.6984 - val_loss: 8.2454 - val_acc: 0.8333\n",
      "Epoch 10/1000\n",
      "5912/5912 [==============================] - 0s 11us/step - loss: 8.3704 - acc: 0.6889 - val_loss: 8.4016 - val_acc: 0.5000\n",
      "Epoch 11/1000\n",
      "5912/5912 [==============================] - 0s 11us/step - loss: 8.3551 - acc: 0.6054 - val_loss: 7.9423 - val_acc: 0.8333\n",
      "Epoch 12/1000\n",
      "5912/5912 [==============================] - 0s 10us/step - loss: 8.1677 - acc: 0.6801 - val_loss: 7.9428 - val_acc: 0.8333\n",
      "Epoch 13/1000\n",
      "5912/5912 [==============================] - 0s 13us/step - loss: 8.0336 - acc: 0.7135 - val_loss: 7.8817 - val_acc: 0.6667\n",
      "Epoch 14/1000\n",
      "5912/5912 [==============================] - 0s 11us/step - loss: 7.9445 - acc: 0.6999 - val_loss: 7.6938 - val_acc: 0.8333\n",
      "Epoch 15/1000\n",
      "5912/5912 [==============================] - 0s 13us/step - loss: 7.8320 - acc: 0.7348 - val_loss: 7.5636 - val_acc: 0.8333\n",
      "Epoch 16/1000\n",
      "5912/5912 [==============================] - 0s 12us/step - loss: 7.7391 - acc: 0.7182 - val_loss: 7.5624 - val_acc: 0.8333\n",
      "Epoch 17/1000\n",
      "5912/5912 [==============================] - 0s 13us/step - loss: 7.6396 - acc: 0.7223 - val_loss: 7.4332 - val_acc: 0.8333\n",
      "Epoch 18/1000\n",
      "5912/5912 [==============================] - 0s 13us/step - loss: 7.5316 - acc: 0.7375 - val_loss: 7.2340 - val_acc: 0.8333\n",
      "Epoch 19/1000\n",
      "5912/5912 [==============================] - 0s 13us/step - loss: 7.4598 - acc: 0.7246 - val_loss: 7.3053 - val_acc: 0.8333\n",
      "Epoch 20/1000\n",
      "5912/5912 [==============================] - 0s 13us/step - loss: 7.3631 - acc: 0.7204 - val_loss: 7.1485 - val_acc: 0.8333\n",
      "Epoch 21/1000\n",
      "5912/5912 [==============================] - 0s 12us/step - loss: 7.2436 - acc: 0.7476 - val_loss: 6.9439 - val_acc: 0.8333\n",
      "Epoch 22/1000\n",
      "5912/5912 [==============================] - 0s 12us/step - loss: 7.2024 - acc: 0.7307 - val_loss: 7.0263 - val_acc: 0.8333\n",
      "Epoch 23/1000\n",
      "5912/5912 [==============================] - 0s 13us/step - loss: 7.0822 - acc: 0.7441 - val_loss: 6.9419 - val_acc: 0.8333\n",
      "Epoch 24/1000\n",
      "5912/5912 [==============================] - 0s 13us/step - loss: 6.9950 - acc: 0.7480 - val_loss: 6.7180 - val_acc: 0.8333\n",
      "Epoch 25/1000\n",
      "5912/5912 [==============================] - 0s 13us/step - loss: 6.9138 - acc: 0.7451 - val_loss: 6.6576 - val_acc: 0.8333\n",
      "Epoch 26/1000\n",
      "5912/5912 [==============================] - 0s 10us/step - loss: 6.8143 - acc: 0.7630 - val_loss: 6.7034 - val_acc: 0.8333\n",
      "Epoch 27/1000\n",
      "5912/5912 [==============================] - 0s 13us/step - loss: 6.7455 - acc: 0.7593 - val_loss: 6.5714 - val_acc: 0.8333\n",
      "Epoch 28/1000\n",
      "5912/5912 [==============================] - 0s 12us/step - loss: 6.6439 - acc: 0.7755 - val_loss: 6.3770 - val_acc: 0.8333\n",
      "Epoch 29/1000\n",
      "5912/5912 [==============================] - 0s 11us/step - loss: 6.5842 - acc: 0.7534 - val_loss: 6.3740 - val_acc: 0.8333\n",
      "Epoch 30/1000\n",
      "5912/5912 [==============================] - 0s 11us/step - loss: 6.4753 - acc: 0.7855 - val_loss: 6.3905 - val_acc: 0.8333\n",
      "Epoch 31/1000\n",
      "5912/5912 [==============================] - 0s 10us/step - loss: 6.4211 - acc: 0.7798 - val_loss: 6.1755 - val_acc: 0.8333\n",
      "Epoch 32/1000\n",
      "5912/5912 [==============================] - 0s 12us/step - loss: 6.3264 - acc: 0.7781 - val_loss: 6.1137 - val_acc: 0.8333\n",
      "Epoch 33/1000\n",
      "5912/5912 [==============================] - 0s 11us/step - loss: 6.2457 - acc: 0.7862 - val_loss: 6.1688 - val_acc: 0.8333\n",
      "Epoch 34/1000\n",
      "5912/5912 [==============================] - 0s 11us/step - loss: 6.1881 - acc: 0.7906 - val_loss: 5.9823 - val_acc: 0.8333\n",
      "Epoch 35/1000\n",
      "5912/5912 [==============================] - 0s 14us/step - loss: 6.0919 - acc: 0.7967 - val_loss: 5.9037 - val_acc: 0.8333\n",
      "Epoch 36/1000\n",
      "5912/5912 [==============================] - 0s 14us/step - loss: 6.0213 - acc: 0.7979 - val_loss: 5.9576 - val_acc: 0.8333\n",
      "Epoch 37/1000\n",
      "5912/5912 [==============================] - 0s 12us/step - loss: 5.9639 - acc: 0.7935 - val_loss: 5.7808 - val_acc: 0.8333\n",
      "Epoch 38/1000\n",
      "5912/5912 [==============================] - 0s 12us/step - loss: 5.8731 - acc: 0.8078 - val_loss: 5.7258 - val_acc: 0.8333\n",
      "Epoch 39/1000\n",
      "5912/5912 [==============================] - 0s 13us/step - loss: 5.7988 - acc: 0.8177 - val_loss: 5.7552 - val_acc: 0.8333\n",
      "Epoch 40/1000\n",
      "5912/5912 [==============================] - 0s 13us/step - loss: 5.7459 - acc: 0.8053 - val_loss: 5.5608 - val_acc: 0.8333\n",
      "Epoch 41/1000\n",
      "5912/5912 [==============================] - 0s 13us/step - loss: 5.6815 - acc: 0.8126 - val_loss: 5.6442 - val_acc: 0.8333\n",
      "Epoch 42/1000\n",
      "5912/5912 [==============================] - 0s 12us/step - loss: 5.6181 - acc: 0.8043 - val_loss: 5.4669 - val_acc: 0.8333\n",
      "Epoch 43/1000\n",
      "5912/5912 [==============================] - 0s 11us/step - loss: 5.5279 - acc: 0.8331 - val_loss: 5.4528 - val_acc: 0.8333\n",
      "Epoch 44/1000\n",
      "5912/5912 [==============================] - 0s 13us/step - loss: 5.4511 - acc: 0.8341 - val_loss: 5.4186 - val_acc: 0.8333\n",
      "Epoch 45/1000\n",
      "5912/5912 [==============================] - 0s 13us/step - loss: 5.3889 - acc: 0.8332 - val_loss: 5.2794 - val_acc: 0.8333\n",
      "Epoch 46/1000\n",
      "5912/5912 [==============================] - 0s 13us/step - loss: 5.3447 - acc: 0.8290 - val_loss: 5.4031 - val_acc: 0.8333\n",
      "Epoch 47/1000\n",
      "5912/5912 [==============================] - 0s 11us/step - loss: 5.3775 - acc: 0.7630 - val_loss: 5.1230 - val_acc: 0.8333\n",
      "Epoch 48/1000\n",
      "5912/5912 [==============================] - 0s 11us/step - loss: 5.2882 - acc: 0.7585 - val_loss: 5.2122 - val_acc: 0.8333\n",
      "Epoch 49/1000\n",
      "5912/5912 [==============================] - 0s 13us/step - loss: 5.1826 - acc: 0.8100 - val_loss: 5.1283 - val_acc: 0.8333\n",
      "Epoch 50/1000\n",
      "5912/5912 [==============================] - 0s 13us/step - loss: 5.1067 - acc: 0.8315 - val_loss: 4.9731 - val_acc: 0.8333\n",
      "Epoch 51/1000\n",
      "5912/5912 [==============================] - 0s 11us/step - loss: 5.0859 - acc: 0.8148 - val_loss: 4.9830 - val_acc: 0.8333\n",
      "Epoch 52/1000\n",
      "5912/5912 [==============================] - 0s 12us/step - loss: 4.9791 - acc: 0.8515 - val_loss: 4.9685 - val_acc: 0.8333\n",
      "Epoch 53/1000\n",
      "5912/5912 [==============================] - 0s 11us/step - loss: 4.9531 - acc: 0.8236 - val_loss: 4.8713 - val_acc: 0.8333\n",
      "Epoch 54/1000\n",
      "5912/5912 [==============================] - 0s 11us/step - loss: 4.8606 - acc: 0.8564 - val_loss: 4.7839 - val_acc: 0.8333\n",
      "Epoch 55/1000\n",
      "5912/5912 [==============================] - 0s 11us/step - loss: 4.8349 - acc: 0.8464 - val_loss: 4.8541 - val_acc: 0.8333\n",
      "Epoch 56/1000\n",
      "5912/5912 [==============================] - 0s 13us/step - loss: 4.8105 - acc: 0.8163 - val_loss: 4.7554 - val_acc: 0.8333\n",
      "Epoch 57/1000\n",
      "5912/5912 [==============================] - 0s 11us/step - loss: 4.6875 - acc: 0.8643 - val_loss: 4.5970 - val_acc: 0.8333\n",
      "Epoch 58/1000\n",
      "5912/5912 [==============================] - 0s 15us/step - loss: 4.7323 - acc: 0.8053 - val_loss: 4.8076 - val_acc: 0.8333\n",
      "Epoch 59/1000\n",
      "5912/5912 [==============================] - 0s 11us/step - loss: 4.8466 - acc: 0.7226 - val_loss: 4.6365 - val_acc: 0.8333\n",
      "Epoch 60/1000\n"
     ]
    },
    {
     "name": "stdout",
     "output_type": "stream",
     "text": [
      "5912/5912 [==============================] - 0s 12us/step - loss: 4.5993 - acc: 0.8288 - val_loss: 4.4100 - val_acc: 0.8333\n",
      "Epoch 61/1000\n",
      "5912/5912 [==============================] - 0s 13us/step - loss: 4.7436 - acc: 0.6842 - val_loss: 4.4714 - val_acc: 0.8333\n",
      "Epoch 62/1000\n",
      "5912/5912 [==============================] - 0s 13us/step - loss: 4.4837 - acc: 0.8718 - val_loss: 4.4984 - val_acc: 0.8333\n",
      "Epoch 63/1000\n",
      "5912/5912 [==============================] - 0s 12us/step - loss: 4.5327 - acc: 0.7919 - val_loss: 4.4654 - val_acc: 0.8333\n",
      "Epoch 64/1000\n",
      "5912/5912 [==============================] - 0s 12us/step - loss: 4.5064 - acc: 0.7818 - val_loss: 4.3713 - val_acc: 0.8333\n",
      "Epoch 65/1000\n",
      "5912/5912 [==============================] - 0s 11us/step - loss: 4.3980 - acc: 0.8495 - val_loss: 4.2737 - val_acc: 0.8333\n",
      "Epoch 66/1000\n",
      "5912/5912 [==============================] - 0s 13us/step - loss: 4.3564 - acc: 0.8456 - val_loss: 4.2046 - val_acc: 0.8333\n",
      "Epoch 67/1000\n",
      "5912/5912 [==============================] - 0s 12us/step - loss: 4.3524 - acc: 0.7980 - val_loss: 4.2197 - val_acc: 0.8333\n",
      "Epoch 68/1000\n",
      "5912/5912 [==============================] - 0s 12us/step - loss: 4.2327 - acc: 0.8647 - val_loss: 4.2299 - val_acc: 0.8333\n",
      "Epoch 69/1000\n",
      "5912/5912 [==============================] - 0s 13us/step - loss: 4.2233 - acc: 0.8327 - val_loss: 4.2080 - val_acc: 0.8333\n",
      "Epoch 70/1000\n",
      "5912/5912 [==============================] - 0s 11us/step - loss: 4.1815 - acc: 0.8322 - val_loss: 4.1343 - val_acc: 0.8333\n",
      "Epoch 71/1000\n",
      "5912/5912 [==============================] - 0s 14us/step - loss: 4.0857 - acc: 0.8713 - val_loss: 4.0230 - val_acc: 0.8333\n",
      "Epoch 72/1000\n",
      "5912/5912 [==============================] - 0s 14us/step - loss: 4.1146 - acc: 0.8363 - val_loss: 4.1128 - val_acc: 0.8333\n",
      "Epoch 73/1000\n",
      "5912/5912 [==============================] - 0s 11us/step - loss: 4.0040 - acc: 0.8694 - val_loss: 4.1214 - val_acc: 0.8333\n",
      "Epoch 74/1000\n",
      "5912/5912 [==============================] - 0s 11us/step - loss: 4.0099 - acc: 0.8486 - val_loss: 3.9938 - val_acc: 0.8333\n",
      "Epoch 75/1000\n",
      "5912/5912 [==============================] - 0s 11us/step - loss: 3.9059 - acc: 0.8890 - val_loss: 3.8473 - val_acc: 0.8333\n",
      "Epoch 76/1000\n",
      "5912/5912 [==============================] - 0s 10us/step - loss: 3.9362 - acc: 0.8415 - val_loss: 3.9897 - val_acc: 0.8333\n",
      "Epoch 77/1000\n",
      "5912/5912 [==============================] - 0s 10us/step - loss: 3.8663 - acc: 0.8713 - val_loss: 3.9557 - val_acc: 0.8333\n",
      "Epoch 78/1000\n",
      "5912/5912 [==============================] - 0s 10us/step - loss: 3.8367 - acc: 0.8689 - val_loss: 3.7614 - val_acc: 0.8333\n",
      "Epoch 79/1000\n",
      "5912/5912 [==============================] - 0s 10us/step - loss: 3.7779 - acc: 0.8916 - val_loss: 3.7529 - val_acc: 0.8333\n",
      "Epoch 80/1000\n",
      "5912/5912 [==============================] - 0s 10us/step - loss: 3.7214 - acc: 0.8990 - val_loss: 3.8496 - val_acc: 0.8333\n",
      "Epoch 81/1000\n",
      "5912/5912 [==============================] - 0s 13us/step - loss: 3.7100 - acc: 0.8840 - val_loss: 3.7951 - val_acc: 0.8333\n",
      "Epoch 82/1000\n",
      "5912/5912 [==============================] - 0s 10us/step - loss: 3.6383 - acc: 0.9044 - val_loss: 3.6307 - val_acc: 0.8333\n",
      "Epoch 83/1000\n",
      "5912/5912 [==============================] - 0s 11us/step - loss: 3.6665 - acc: 0.8593 - val_loss: 3.8102 - val_acc: 0.8333\n",
      "Epoch 84/1000\n",
      "5912/5912 [==============================] - 0s 13us/step - loss: 3.6373 - acc: 0.8703 - val_loss: 3.7511 - val_acc: 0.8333\n",
      "Epoch 85/1000\n",
      "5912/5912 [==============================] - 0s 11us/step - loss: 3.5586 - acc: 0.8960 - val_loss: 3.4858 - val_acc: 0.8333\n",
      "Epoch 86/1000\n",
      "5912/5912 [==============================] - 0s 13us/step - loss: 3.6149 - acc: 0.8396 - val_loss: 3.7087 - val_acc: 0.8333\n",
      "Epoch 87/1000\n",
      "5912/5912 [==============================] - 0s 12us/step - loss: 3.5600 - acc: 0.8611 - val_loss: 3.6647 - val_acc: 0.8333\n",
      "Epoch 88/1000\n",
      "5912/5912 [==============================] - 0s 13us/step - loss: 3.5447 - acc: 0.8496 - val_loss: 3.4681 - val_acc: 0.8333\n",
      "Epoch 89/1000\n",
      "5912/5912 [==============================] - 0s 11us/step - loss: 3.4095 - acc: 0.9303 - val_loss: 3.3332 - val_acc: 0.8333\n",
      "Epoch 90/1000\n",
      "5912/5912 [==============================] - 0s 12us/step - loss: 3.5247 - acc: 0.8148 - val_loss: 3.5186 - val_acc: 0.8333\n",
      "Epoch 91/1000\n",
      "5912/5912 [==============================] - 0s 11us/step - loss: 3.4253 - acc: 0.8682 - val_loss: 3.5342 - val_acc: 0.8333\n",
      "Epoch 92/1000\n",
      "5912/5912 [==============================] - 0s 12us/step - loss: 3.5231 - acc: 0.7894 - val_loss: 3.4397 - val_acc: 0.8333\n",
      "Epoch 93/1000\n",
      "5912/5912 [==============================] - 0s 12us/step - loss: 3.3646 - acc: 0.8758 - val_loss: 3.2950 - val_acc: 0.8333\n",
      "Epoch 94/1000\n",
      "5912/5912 [==============================] - 0s 12us/step - loss: 3.3157 - acc: 0.9104 - val_loss: 3.2235 - val_acc: 0.8333\n",
      "Epoch 95/1000\n",
      "5912/5912 [==============================] - 0s 11us/step - loss: 3.3747 - acc: 0.8231 - val_loss: 3.3378 - val_acc: 0.8333\n",
      "Epoch 96/1000\n",
      "5912/5912 [==============================] - 0s 13us/step - loss: 3.2616 - acc: 0.8977 - val_loss: 3.3658 - val_acc: 0.8333\n",
      "Epoch 97/1000\n",
      "5912/5912 [==============================] - 0s 12us/step - loss: 3.3569 - acc: 0.8099 - val_loss: 3.3226 - val_acc: 0.8333\n",
      "Epoch 98/1000\n",
      "5912/5912 [==============================] - 0s 11us/step - loss: 3.2838 - acc: 0.8396 - val_loss: 3.2232 - val_acc: 0.8333\n",
      "Epoch 99/1000\n",
      "5912/5912 [==============================] - 0s 13us/step - loss: 3.1462 - acc: 0.9320 - val_loss: 3.0346 - val_acc: 1.0000\n",
      "Epoch 100/1000\n",
      "5912/5912 [==============================] - 0s 11us/step - loss: 3.2994 - acc: 0.7947 - val_loss: 3.2045 - val_acc: 0.8333\n",
      "Epoch 101/1000\n",
      "5912/5912 [==============================] - 0s 11us/step - loss: 3.1014 - acc: 0.9180 - val_loss: 3.2621 - val_acc: 0.8333\n",
      "Epoch 102/1000\n",
      "5912/5912 [==============================] - 0s 13us/step - loss: 3.1932 - acc: 0.8383 - val_loss: 3.2377 - val_acc: 0.8333\n",
      "Epoch 103/1000\n",
      "5912/5912 [==============================] - 0s 12us/step - loss: 3.1477 - acc: 0.8528 - val_loss: 3.1391 - val_acc: 0.8333\n",
      "Epoch 104/1000\n",
      "5912/5912 [==============================] - 0s 13us/step - loss: 3.0163 - acc: 0.9296 - val_loss: 2.9792 - val_acc: 0.8333\n",
      "Epoch 105/1000\n",
      "5912/5912 [==============================] - 0s 11us/step - loss: 3.0940 - acc: 0.8689 - val_loss: 3.0496 - val_acc: 0.8333\n",
      "Epoch 106/1000\n",
      "5912/5912 [==============================] - 0s 10us/step - loss: 2.9604 - acc: 0.9445 - val_loss: 3.1350 - val_acc: 0.8333\n",
      "Epoch 107/1000\n",
      "5912/5912 [==============================] - 0s 11us/step - loss: 2.9612 - acc: 0.9137 - val_loss: 3.1525 - val_acc: 0.8333\n",
      "Epoch 108/1000\n",
      "5912/5912 [==============================] - 0s 13us/step - loss: 2.9579 - acc: 0.9039 - val_loss: 3.0560 - val_acc: 0.8333\n",
      "Epoch 109/1000\n",
      "5912/5912 [==============================] - 0s 12us/step - loss: 2.8725 - acc: 0.9396 - val_loss: 2.8376 - val_acc: 0.8333\n",
      "Epoch 110/1000\n",
      "5912/5912 [==============================] - 0s 13us/step - loss: 2.8986 - acc: 0.9261 - val_loss: 2.9825 - val_acc: 0.8333\n",
      "Epoch 111/1000\n",
      "5912/5912 [==============================] - 0s 12us/step - loss: 2.8094 - acc: 0.9538 - val_loss: 3.0884 - val_acc: 0.8333\n",
      "Epoch 112/1000\n",
      "5912/5912 [==============================] - 0s 13us/step - loss: 2.8211 - acc: 0.9339 - val_loss: 2.9787 - val_acc: 0.8333\n",
      "Epoch 113/1000\n",
      "5912/5912 [==============================] - 0s 13us/step - loss: 2.7617 - acc: 0.9567 - val_loss: 2.6841 - val_acc: 1.0000\n",
      "Epoch 114/1000\n",
      "5912/5912 [==============================] - 0s 12us/step - loss: 2.7880 - acc: 0.9354 - val_loss: 3.0736 - val_acc: 0.8333\n",
      "Epoch 115/1000\n",
      "5912/5912 [==============================] - 0s 13us/step - loss: 2.7753 - acc: 0.9296 - val_loss: 3.0429 - val_acc: 0.8333\n",
      "Epoch 116/1000\n",
      "5912/5912 [==============================] - 0s 13us/step - loss: 2.7550 - acc: 0.9298 - val_loss: 2.6233 - val_acc: 1.0000\n",
      "Epoch 117/1000\n",
      "5912/5912 [==============================] - 0s 12us/step - loss: 2.6790 - acc: 0.9630 - val_loss: 2.5812 - val_acc: 1.0000\n",
      "Epoch 118/1000\n",
      "5912/5912 [==============================] - 0s 11us/step - loss: 2.6763 - acc: 0.9560 - val_loss: 2.9745 - val_acc: 0.8333\n",
      "Epoch 119/1000\n",
      "5912/5912 [==============================] - 0s 12us/step - loss: 2.6914 - acc: 0.9330 - val_loss: 2.9726 - val_acc: 0.8333\n"
     ]
    },
    {
     "name": "stdout",
     "output_type": "stream",
     "text": [
      "Epoch 120/1000\n",
      "5912/5912 [==============================] - 0s 11us/step - loss: 2.6868 - acc: 0.9266 - val_loss: 2.6450 - val_acc: 0.8333\n",
      "Epoch 121/1000\n",
      "5912/5912 [==============================] - 0s 12us/step - loss: 2.5854 - acc: 0.9767 - val_loss: 2.5075 - val_acc: 1.0000\n",
      "Epoch 122/1000\n",
      "5912/5912 [==============================] - 0s 13us/step - loss: 2.8050 - acc: 0.8177 - val_loss: 3.1994 - val_acc: 0.8333\n",
      "Epoch 123/1000\n",
      "5912/5912 [==============================] - 0s 13us/step - loss: 3.2320 - acc: 0.7026 - val_loss: 3.3781 - val_acc: 0.6667\n",
      "Epoch 124/1000\n",
      "5912/5912 [==============================] - 0s 11us/step - loss: 3.3083 - acc: 0.6275 - val_loss: 2.8922 - val_acc: 0.6667\n",
      "Epoch 125/1000\n",
      "5912/5912 [==============================] - 0s 10us/step - loss: 2.8803 - acc: 0.7380 - val_loss: 2.6846 - val_acc: 0.8333\n",
      "Epoch 126/1000\n",
      "5912/5912 [==============================] - 0s 13us/step - loss: 2.7396 - acc: 0.8757 - val_loss: 2.6176 - val_acc: 1.0000\n",
      "Epoch 127/1000\n",
      "5912/5912 [==============================] - 0s 13us/step - loss: 2.8278 - acc: 0.8197 - val_loss: 2.6047 - val_acc: 1.0000\n",
      "Epoch 128/1000\n",
      "5912/5912 [==============================] - 0s 12us/step - loss: 2.9117 - acc: 0.7373 - val_loss: 2.6283 - val_acc: 1.0000\n",
      "Epoch 129/1000\n",
      "5912/5912 [==============================] - 0s 14us/step - loss: 2.8521 - acc: 0.7623 - val_loss: 2.6712 - val_acc: 1.0000\n",
      "Epoch 130/1000\n",
      "5912/5912 [==============================] - 0s 11us/step - loss: 2.8059 - acc: 0.8298 - val_loss: 2.7020 - val_acc: 0.8333\n",
      "Epoch 131/1000\n",
      "5912/5912 [==============================] - 0s 12us/step - loss: 2.8018 - acc: 0.8747 - val_loss: 2.7122 - val_acc: 0.8333\n",
      "Epoch 132/1000\n",
      "5912/5912 [==============================] - 0s 13us/step - loss: 2.8055 - acc: 0.8911 - val_loss: 2.7075 - val_acc: 0.8333\n",
      "Epoch 133/1000\n",
      "5912/5912 [==============================] - 0s 11us/step - loss: 2.8000 - acc: 0.8843 - val_loss: 2.6877 - val_acc: 0.8333\n",
      "Epoch 134/1000\n",
      "5912/5912 [==============================] - 0s 12us/step - loss: 2.7829 - acc: 0.8846 - val_loss: 2.6558 - val_acc: 0.8333\n",
      "Epoch 135/1000\n",
      "5912/5912 [==============================] - 0s 14us/step - loss: 2.7554 - acc: 0.8882 - val_loss: 2.6181 - val_acc: 0.8333\n",
      "Epoch 136/1000\n",
      "5912/5912 [==============================] - 0s 13us/step - loss: 2.7214 - acc: 0.8792 - val_loss: 2.5837 - val_acc: 0.8333\n"
     ]
    }
   ],
   "source": [
    "with tf.Session() as session:\n",
    "    K.set_session(session)\n",
    "    session.run(tf.global_variables_initializer())  \n",
    "    session.run(tf.tables_initializer())\n",
    "    history = model_bert.fit(all_embeddings, y, epochs=1000, batch_size=10000, \n",
    "                             validation_split = 0.001, callbacks=cb_list)\n",
    "    model_bert.save_weights('../model/bert_logistic_twitter/model_bert_weights.h5')"
   ]
  },
  {
   "cell_type": "code",
   "execution_count": 102,
   "metadata": {},
   "outputs": [
    {
     "data": {
      "image/png": "[encoded data removed]",
      "text/plain": [
       "<Figure size 432x288 with 1 Axes>"
      ]
     },
     "metadata": {
      "needs_background": "light"
     },
     "output_type": "display_data"
    }
   ],
   "source": [
    "import matplotlib.pyplot as plt\n",
    "%matplotlib inline\n",
    "\n",
    "acc = history.history['acc']\n",
    "loss = history.history['loss']\n",
    "\n",
    "epochs = range(1, len(acc) + 1)\n",
    "\n",
    "plt.plot(epochs, acc, 'g', label='Training Acc')\n",
    "plt.title('Training and validation Acc')\n",
    "plt.xlabel('Epochs')\n",
    "plt.ylabel('Acc')\n",
    "plt.legend()\n",
    "\n",
    "plt.show()"
   ]
  },
  {
   "cell_type": "markdown",
   "metadata": {},
   "source": [
    "# Predict on Test Data"
   ]
  },
  {
   "cell_type": "code",
   "execution_count": 103,
   "metadata": {},
   "outputs": [],
   "source": [
    "bs = 10000\n",
    "batches = math.ceil(all_embeddings_test.shape[0] / bs)"
   ]
  },
  {
   "cell_type": "code",
   "execution_count": 104,
   "metadata": {},
   "outputs": [
    {
     "name": "stdout",
     "output_type": "stream",
     "text": [
      "Predicting Batch 1\n"
     ]
    }
   ],
   "source": [
    "all_preds = []\n",
    "all_probs = []\n",
    "    \n",
    "with tf.Session() as session:\n",
    "    K.set_session(session)\n",
    "    session.run(tf.global_variables_initializer())  \n",
    "    session.run(tf.tables_initializer())\n",
    "    model_bert.load_weights('../model/bert_logistic_twitter/model_bert_weights.h5')\n",
    "\n",
    "    for i in range(1,batches+1):\n",
    "        print(\"Predicting Batch\",i)\n",
    "        new_text_pr = all_embeddings_test[(i-1)*bs:i*bs]\n",
    "        preds = model_bert.predict(new_text_pr)\n",
    "        all_probs.append(preds)\n",
    "        preds = encoder.inverse_transform(np.argmax(preds,axis=1))\n",
    "        all_preds.append(preds)"
   ]
  },
  {
   "cell_type": "code",
   "execution_count": 105,
   "metadata": {},
   "outputs": [],
   "source": [
    "results = np.concatenate(all_preds, axis=0)\n",
    "results_probs = np.concatenate(all_probs, axis=0)"
   ]
  },
  {
   "cell_type": "code",
   "execution_count": 106,
   "metadata": {},
   "outputs": [],
   "source": [
    "np.savetxt(\"../output/ADR/bert_logistic_twitter/test_results.tsv\", results_probs, delimiter=\"\\t\")"
   ]
  },
  {
   "cell_type": "code",
   "execution_count": 107,
   "metadata": {},
   "outputs": [],
   "source": [
    "np.savetxt(\"../output/ADR/bert_logistic_twitter/test_predictions.tsv\", results, delimiter=\"\\t\")"
   ]
  },
  {
   "cell_type": "code",
   "execution_count": 108,
   "metadata": {
    "scrolled": true
   },
   "outputs": [
    {
     "name": "stdout",
     "output_type": "stream",
     "text": [
      "Accuracy:  0.8273381294964028\n"
     ]
    }
   ],
   "source": [
    "print(\"Accuracy: \",sum(results==y_test)/results.shape[0])"
   ]
  },
  {
   "cell_type": "code",
   "execution_count": null,
   "metadata": {},
   "outputs": [],
   "source": []
  }
 ],
 "metadata": {
  "kernelspec": {
   "display_name": "Python 3",
   "language": "python",
   "name": "python3"
  },
  "language_info": {
   "codemirror_mode": {
    "name": "ipython",
    "version": 3
   },
   "file_extension": ".py",
   "mimetype": "text/x-python",
   "name": "python",
   "nbconvert_exporter": "python",
   "pygments_lexer": "ipython3",
   "version": "3.7.3"
  }
 },
 "nbformat": 4,
 "nbformat_minor": 2
}
