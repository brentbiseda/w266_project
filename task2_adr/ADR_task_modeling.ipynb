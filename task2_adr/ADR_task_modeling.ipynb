{
  "nbformat": 4,
  "nbformat_minor": 0,
  "metadata": {
    "colab": {
      "name": "W266 Project Colab - Binary Twitter.ipynb",
      "provenance": [],
      "collapsed_sections": [],
      "machine_shape": "hm"
    },
    "kernelspec": {
      "name": "python3",
      "display_name": "Python 3"
    },
    "accelerator": "GPU"
  },
  "cells": [
    {
      "cell_type": "code",
      "metadata": {
        "id": "HFBqlpldEMZT",
        "colab_type": "code",
        "outputId": "3ec79934-3b3b-4469-ef47-90ea9b6c99c5",
        "colab": {
          "base_uri": "https://localhost:8080/",
          "height": 51
        }
      },
      "source": [
        "%tensorflow_version 1.x\n",
        "import tensorflow as tf\n",
        "device_name = tf.test.gpu_device_name()\n",
        "if device_name != '/device:GPU:0':\n",
        "  raise SystemError('GPU device not found')\n",
        "print('Found GPU at: {}'.format(device_name))"
      ],
      "execution_count": 1,
      "outputs": [
        {
          "output_type": "stream",
          "text": [
            "TensorFlow 1.x selected.\n",
            "Found GPU at: /device:GPU:0\n"
          ],
          "name": "stdout"
        }
      ]
    },
    {
      "cell_type": "code",
      "metadata": {
        "id": "rvBxsqLPCwsF",
        "colab_type": "code",
        "colab": {
          "base_uri": "https://localhost:8080/",
          "height": 34
        },
        "outputId": "f26330d2-a7d4-4f94-feae-763bdae9ee41"
      },
      "source": [
        "tf.__version__"
      ],
      "execution_count": 2,
      "outputs": [
        {
          "output_type": "execute_result",
          "data": {
            "text/plain": [
              "'1.15.2'"
            ]
          },
          "metadata": {
            "tags": []
          },
          "execution_count": 2
        }
      ]
    },
    {
      "cell_type": "code",
      "metadata": {
        "id": "CPRQpM8opr6j",
        "colab_type": "code",
        "colab": {}
      },
      "source": [
        "from google.colab import drive\n",
        "drive.mount('/content/drive/')"
      ],
      "execution_count": 0,
      "outputs": []
    },
    {
      "cell_type": "code",
      "metadata": {
        "id": "yDbmvsw-u9eZ",
        "colab_type": "code",
        "colab": {}
      },
      "source": [
        "import os\n",
        "import re\n",
        "import numpy as np\n",
        "import pandas as pd\n",
        "import json\n",
        "import scipy.stats as stats\n",
        "import matplotlib.pyplot as plt\n",
        "%matplotlib inline\n",
        "\n",
        "from sklearn.model_selection import train_test_split\n",
        "from sklearn.linear_model import LogisticRegression\n",
        "from sklearn.model_selection import GridSearchCV\n",
        "from sklearn.model_selection import RandomizedSearchCV\n",
        "from sklearn.metrics import accuracy_score\n",
        "from sklearn.metrics import f1_score\n",
        "from sklearn.metrics import confusion_matrix\n",
        "from sklearn.externals import joblib\n",
        "\n",
        "from tensorflow import keras\n",
        "from tensorflow.keras.layers import Dense, Dropout, Embedding, LSTM, Bidirectional\n",
        "from tensorflow.keras.models import Model, Sequential\n",
        "#import transformers as ppb\n",
        "import torch\n",
        "\n",
        "import warnings\n",
        "warnings.filterwarnings('ignore')"
      ],
      "execution_count": 0,
      "outputs": []
    },
    {
      "cell_type": "code",
      "metadata": {
        "id": "ukmub-oerbtS",
        "colab_type": "code",
        "colab": {}
      },
      "source": [
        "os.chdir(\"/content/drive/My Drive/MIDS/W266/\")\n",
        "!ls"
      ],
      "execution_count": 0,
      "outputs": []
    },
    {
      "cell_type": "markdown",
      "metadata": {
        "id": "IiDBKTaUzPky",
        "colab_type": "text"
      },
      "source": [
        "# Load data"
      ]
    },
    {
      "cell_type": "markdown",
      "metadata": {
        "id": "l7KQsxMRzUK0",
        "colab_type": "text"
      },
      "source": [
        "Dataset from: http://diego.asu.edu/Publications/ADRMine.html"
      ]
    },
    {
      "cell_type": "code",
      "metadata": {
        "id": "9xc0QkMcviai",
        "colab_type": "code",
        "outputId": "326cb445-fd10-46bc-c7dd-d1d7d3f619e7",
        "colab": {
          "base_uri": "https://localhost:8080/",
          "height": 289
        }
      },
      "source": [
        "#load data\n",
        "data =  pd.read_csv('binary_tweet_dataset/binary_tweets_valid.csv', lineterminator='\\n')\n",
        "data.drop(columns=[\"index\"], inplace=True)\n",
        "data.head()"
      ],
      "execution_count": 7,
      "outputs": [
        {
          "output_type": "execute_result",
          "data": {
            "text/html": [
              "<div>\n",
              "<style scoped>\n",
              "    .dataframe tbody tr th:only-of-type {\n",
              "        vertical-align: middle;\n",
              "    }\n",
              "\n",
              "    .dataframe tbody tr th {\n",
              "        vertical-align: top;\n",
              "    }\n",
              "\n",
              "    .dataframe thead th {\n",
              "        text-align: right;\n",
              "    }\n",
              "</style>\n",
              "<table border=\"1\" class=\"dataframe\">\n",
              "  <thead>\n",
              "    <tr style=\"text-align: right;\">\n",
              "      <th></th>\n",
              "      <th>tweet_id</th>\n",
              "      <th>user_id</th>\n",
              "      <th>id</th>\n",
              "      <th>tweet</th>\n",
              "      <th>url</th>\n",
              "    </tr>\n",
              "  </thead>\n",
              "  <tbody>\n",
              "    <tr>\n",
              "      <th>0</th>\n",
              "      <td>339867818843594756</td>\n",
              "      <td>246979971</td>\n",
              "      <td>0</td>\n",
              "      <td>@DoctorChristian scared to start fluoxetine, w...</td>\n",
              "      <td>http://twitter.com/246979971/status/3398678188...</td>\n",
              "    </tr>\n",
              "    <tr>\n",
              "      <th>1</th>\n",
              "      <td>349294537367236611</td>\n",
              "      <td>149749939</td>\n",
              "      <td>0</td>\n",
              "      <td>@IntuitiveGal1 ok, if you stopped taking the L...</td>\n",
              "      <td>http://twitter.com/149749939/status/3492945373...</td>\n",
              "    </tr>\n",
              "    <tr>\n",
              "      <th>2</th>\n",
              "      <td>354256195432882177</td>\n",
              "      <td>54516759</td>\n",
              "      <td>0</td>\n",
              "      <td>Novartis announces secukinumab (AIN457) demons...</td>\n",
              "      <td>http://twitter.com/54516759/status/35425619543...</td>\n",
              "    </tr>\n",
              "    <tr>\n",
              "      <th>3</th>\n",
              "      <td>352456944537178112</td>\n",
              "      <td>1267743056</td>\n",
              "      <td>1</td>\n",
              "      <td>\"U wailed all night; now y'r disembodied sobbi...</td>\n",
              "      <td>http://twitter.com/1267743056/status/352456944...</td>\n",
              "    </tr>\n",
              "    <tr>\n",
              "      <th>4</th>\n",
              "      <td>332479707004170241</td>\n",
              "      <td>273421529</td>\n",
              "      <td>0</td>\n",
              "      <td>@irapaps you're so fucking selfish. I've got L...</td>\n",
              "      <td>http://twitter.com/273421529/status/3324797070...</td>\n",
              "    </tr>\n",
              "  </tbody>\n",
              "</table>\n",
              "</div>"
            ],
            "text/plain": [
              "             tweet_id  ...                                                url\n",
              "0  339867818843594756  ...  http://twitter.com/246979971/status/3398678188...\n",
              "1  349294537367236611  ...  http://twitter.com/149749939/status/3492945373...\n",
              "2  354256195432882177  ...  http://twitter.com/54516759/status/35425619543...\n",
              "3  352456944537178112  ...  http://twitter.com/1267743056/status/352456944...\n",
              "4  332479707004170241  ...  http://twitter.com/273421529/status/3324797070...\n",
              "\n",
              "[5 rows x 5 columns]"
            ]
          },
          "metadata": {
            "tags": []
          },
          "execution_count": 7
        }
      ]
    },
    {
      "cell_type": "code",
      "metadata": {
        "id": "noSRAZ89UU28",
        "colab_type": "code",
        "colab": {}
      },
      "source": [
        "#remove newline characters from tweets\n",
        "def preprocess(s):\n",
        "  s = re.sub(r'\\n', ' ', s)\n",
        "  return(s)\n",
        "data['tweet'] = data['tweet'].apply(lambda x: preprocess(x))"
      ],
      "execution_count": 0,
      "outputs": []
    },
    {
      "cell_type": "code",
      "metadata": {
        "id": "LG9jyAf1886Z",
        "colab_type": "code",
        "colab": {}
      },
      "source": [
        "split_data, test_data = train_test_split(data[['tweet','id']], test_size=0.2, random_state=0, stratify=data[\"id\"])\n",
        "train_data, dev_data = train_test_split(split_data, test_size=0.25, random_state=0, stratify=split_data[\"id\"])"
      ],
      "execution_count": 0,
      "outputs": []
    },
    {
      "cell_type": "code",
      "metadata": {
        "id": "VBfneep0CkKd",
        "colab_type": "code",
        "outputId": "8552657c-aeac-465e-fd7c-533bbaafa616",
        "colab": {
          "base_uri": "https://localhost:8080/",
          "height": 34
        }
      },
      "source": [
        "train_data.shape[0], dev_data.shape[0], test_data.shape[0]"
      ],
      "execution_count": 16,
      "outputs": [
        {
          "output_type": "execute_result",
          "data": {
            "text/plain": [
              "(2501, 834, 834)"
            ]
          },
          "metadata": {
            "tags": []
          },
          "execution_count": 16
        }
      ]
    },
    {
      "cell_type": "code",
      "metadata": {
        "id": "BrUcOFS_ChxX",
        "colab_type": "code",
        "colab": {}
      },
      "source": [
        "train_data.to_csv('./binary_tweet_dataset/train.tsv', sep='\\t', index=False, header=False)\n",
        "dev_data.to_csv('./binary_tweet_dataset/dev.tsv', sep='\\t', index=False, header=False)\n",
        "test_data.to_csv('./binary_tweet_dataset/test.tsv', sep='\\t', index=False, header=False)"
      ],
      "execution_count": 0,
      "outputs": []
    },
    {
      "cell_type": "markdown",
      "metadata": {
        "id": "54dmtrFEzaeN",
        "colab_type": "text"
      },
      "source": [
        "# Fine tune with BERT\n"
      ]
    },
    {
      "cell_type": "markdown",
      "metadata": {
        "id": "3o9VVRhYzl2a",
        "colab_type": "text"
      },
      "source": [
        "Classification code adapted from: https://github.com/google-research/bert"
      ]
    },
    {
      "cell_type": "code",
      "metadata": {
        "id": "ztR-Ti7n7pJe",
        "colab_type": "code",
        "colab": {}
      },
      "source": [
        "BERT_BASE_DIR=\"/content/drive/My Drive/MIDS/W266/W266/model/uncased_L-12_H-768_A-12\"\n",
        "DATA_DIR=\"/content/drive/My Drive/MIDS/W266/binary_tweet_dataset/undersampled\"\n",
        "TRAINED_CLASSIFIER=\"/content/drive/My Drive/MIDS/W266/trained_models/binary/bert_uncased_binary_undersampled\""
      ],
      "execution_count": 0,
      "outputs": []
    },
    {
      "cell_type": "code",
      "metadata": {
        "id": "xjly0BFTAukA",
        "colab_type": "code",
        "colab": {}
      },
      "source": [
        "if not os.path.exists(TRAINED_CLASSIFIER):\n",
        "  os.makedirs(TRAINED_CLASSIFIER)"
      ],
      "execution_count": 0,
      "outputs": []
    },
    {
      "cell_type": "code",
      "metadata": {
        "id": "2HHAEAPKS3rW",
        "colab_type": "code",
        "colab": {}
      },
      "source": [
        "!ls \"$BERT_BASE_DIR\""
      ],
      "execution_count": 0,
      "outputs": []
    },
    {
      "cell_type": "code",
      "metadata": {
        "id": "Dx2HAys2EoCo",
        "colab_type": "code",
        "colab": {}
      },
      "source": [
        "!python ./bert/run_classifier.py \\\n",
        "  --task_name=tweet \\\n",
        "  --do_train=true \\\n",
        "  --do_eval=true \\\n",
        "  --do_predict=true \\\n",
        "  --data_dir=\"$DATA_DIR\" \\\n",
        "  --vocab_file=\"$BERT_BASE_DIR/vocab.txt\" \\\n",
        "  --bert_config_file=\"$BERT_BASE_DIR/bert_config.json\" \\\n",
        "  --init_checkpoint=\"$BERT_BASE_DIR/model.ckpt-100000\" \\\n",
        "  --max_seq_length=128 \\\n",
        "  --train_batch_size=32 \\\n",
        "  --learning_rate=2e-5 \\\n",
        "  --num_train_epochs=3.0 \\\n",
        "  --output_dir=\"$TRAINED_CLASSIFIER\""
      ],
      "execution_count": 0,
      "outputs": []
    },
    {
      "cell_type": "code",
      "metadata": {
        "id": "pMEqd3L7GRBQ",
        "colab_type": "code",
        "colab": {}
      },
      "source": [
        "test_data = pd.read_csv(DATA_DIR+\"/test.tsv\", delimiter='\\t', header=None, lineterminator='\\n')\n",
        "test_y = test_data[1]"
      ],
      "execution_count": 0,
      "outputs": []
    },
    {
      "cell_type": "code",
      "metadata": {
        "id": "1WtPJzCPE_Z-",
        "colab_type": "code",
        "colab": {}
      },
      "source": [
        "test_results = pd.read_csv(TRAINED_CLASSIFIER+\"/test_results.tsv\", delimiter='\\t', header=None)\n",
        "test_prob = test_results[1]\n",
        "test_pred = [1 if x >= 0.5 else 0 for x in test_prob]"
      ],
      "execution_count": 0,
      "outputs": []
    },
    {
      "cell_type": "code",
      "metadata": {
        "id": "en0MabCtGEJO",
        "colab_type": "code",
        "colab": {
          "base_uri": "https://localhost:8080/",
          "height": 51
        },
        "outputId": "c5cfdbf9-f02e-42a4-813e-ac1747c72562"
      },
      "source": [
        "#test performance\n",
        "print(f\"accuracy: {np.round(accuracy_score(test_pred, test_y),3)}\")\n",
        "print(f\"f1-score: {np.round(f1_score(test_pred, test_y),3)}\")"
      ],
      "execution_count": 18,
      "outputs": [
        {
          "output_type": "stream",
          "text": [
            "accuracy: 0.841\n",
            "f1-score: 0.546\n"
          ],
          "name": "stdout"
        }
      ]
    },
    {
      "cell_type": "code",
      "metadata": {
        "id": "oCgYw5HTGVkE",
        "colab_type": "code",
        "colab": {
          "base_uri": "https://localhost:8080/",
          "height": 153
        },
        "outputId": "345098d5-3973-439a-e47a-da3e7d63b9f0"
      },
      "source": [
        "!ls \"$TRAINED_CLASSIFIER\""
      ],
      "execution_count": 8,
      "outputs": [
        {
          "output_type": "stream",
          "text": [
            "checkpoint\t\t\t\t     model.ckpt-0.meta\n",
            "eval\t\t\t\t\t     model.ckpt-78.data-00000-of-00001\n",
            "eval_results.txt\t\t\t     model.ckpt-78.index\n",
            "eval.tf_record\t\t\t\t     model.ckpt-78.meta\n",
            "events.out.tfevents.1586038550.185665327be0  predict.tf_record\n",
            "graph.pbtxt\t\t\t\t     test_results.tsv\n",
            "model.ckpt-0.data-00000-of-00001\t     train.tf_record\n",
            "model.ckpt-0.index\n"
          ],
          "name": "stdout"
        }
      ]
    },
    {
      "cell_type": "markdown",
      "metadata": {
        "id": "CbK8LAAHz8GJ",
        "colab_type": "text"
      },
      "source": [
        "# Extract features from fine tuned BERT models"
      ]
    },
    {
      "cell_type": "code",
      "metadata": {
        "id": "UxgcYDEYHZuB",
        "colab_type": "code",
        "colab": {}
      },
      "source": [
        "EXTRACTED_FEATURES = TRAINED_CLASSIFIER+'/extracted_features'\n",
        "if not os.path.exists(EXTRACTED_FEATURES):\n",
        "  os.makedirs(EXTRACTED_FEATURES)"
      ],
      "execution_count": 0,
      "outputs": []
    },
    {
      "cell_type": "code",
      "metadata": {
        "id": "wCxgxKb1h4qv",
        "colab_type": "code",
        "colab": {}
      },
      "source": [
        "!python ./bert/extract_features.py \\\n",
        "  --input_file=\"$DATA_DIR/dev.tsv\" \\\n",
        "  --output_file=\"$EXTRACTED_FEATURES/dev_features.json\" \\\n",
        "  --vocab_file=\"$BERT_BASE_DIR/vocab.txt\" \\\n",
        "  --bert_config_file=\"$BERT_BASE_DIR/bert_config.json\" \\\n",
        "  --init_checkpoint=\"$TRAINED_CLASSIFIER/model.ckpt-78\" \\\n",
        "  --layers=-1,-2,-3,-4 \\\n",
        "  --max_seq_length=128 \\\n",
        "  --batch_size=8"
      ],
      "execution_count": 0,
      "outputs": []
    },
    {
      "cell_type": "code",
      "metadata": {
        "id": "fg0cSUlg9xvr",
        "colab_type": "code",
        "colab": {}
      },
      "source": [
        "def parse_embeddings(line, layer=0):\n",
        "    \"\"\"\n",
        "    Parses json features output file from BERT model.\n",
        "    \n",
        "    Inputs\n",
        "    i: index of the examples\n",
        "    layer: 0 corresponds to the last layer(-1), 1 corresponds to second to last layer(-2), etc\n",
        "    \n",
        "    Outputs\n",
        "    tokens: list of tokens of the example\n",
        "    embeds: embeddings of all the tokens, dimensions are (number of tokens, embedding length)\n",
        "    embeds_avg: average of the embeddings across all the tokens, dimension are (1, embedding length)\n",
        "    \"\"\"\n",
        "    embed_json = pd.DataFrame(json.loads(line))\n",
        "    num_tokens = embed_json.shape[0]\n",
        "    tokens = [embed_json[\"features\"][x][\"token\"] for x in range(num_tokens)]\n",
        "    embeds = np.array([np.array(embed_json[\"features\"][x][\"layers\"][layer][\"values\"]) for x in range(num_tokens)])\n",
        "    #embeds_avg = np.mean(embeds, axis=0)\n",
        "    return(tokens, embeds)"
      ],
      "execution_count": 0,
      "outputs": []
    },
    {
      "cell_type": "code",
      "metadata": {
        "id": "q8AzKAn8L3dE",
        "colab_type": "code",
        "colab": {}
      },
      "source": [
        "def get_features(filepath):\n",
        "  with open(filepath) as f:\n",
        "    lines = f.readlines()\n",
        "  all_tokens = []\n",
        "  all_embeds = []\n",
        "  for i in range(len(lines)):\n",
        "    tokens, embeds = parse_embeddings(lines[i], 0)\n",
        "    all_tokens.append(tokens)\n",
        "    all_embeds.append(embeds)\n",
        "  return(all_tokens, all_embeds)"
      ],
      "execution_count": 0,
      "outputs": []
    },
    {
      "cell_type": "code",
      "metadata": {
        "id": "qZH_REHuL5RT",
        "colab_type": "code",
        "colab": {}
      },
      "source": [
        "EXTRACTED_FEATURES = \"/content/drive/My Drive/MIDS/W266/trained_models/binary/bert_uncased_binary_undersampled/extracted_features\"\n",
        "DATA_DIR=\"/content/drive/My Drive/MIDS/W266/binary_tweet_dataset/undersampled\""
      ],
      "execution_count": 0,
      "outputs": []
    },
    {
      "cell_type": "code",
      "metadata": {
        "id": "TJtUu51fMULx",
        "colab_type": "code",
        "colab": {}
      },
      "source": [
        "train_tokens, train_embeds = get_features(EXTRACTED_FEATURES+\"/train_features.json\")"
      ],
      "execution_count": 0,
      "outputs": []
    },
    {
      "cell_type": "code",
      "metadata": {
        "id": "-Ljv8xHwnVWR",
        "colab_type": "code",
        "colab": {}
      },
      "source": [
        "dev_tokens, dev_embeds = get_features(EXTRACTED_FEATURES+\"/dev_features.json\")"
      ],
      "execution_count": 0,
      "outputs": []
    },
    {
      "cell_type": "code",
      "metadata": {
        "id": "u1CMNWUSnVyf",
        "colab_type": "code",
        "colab": {}
      },
      "source": [
        "test_tokens, test_embeds = get_features(EXTRACTED_FEATURES+\"/test_features.json\")"
      ],
      "execution_count": 0,
      "outputs": []
    },
    {
      "cell_type": "code",
      "metadata": {
        "id": "OEKleJLY9-lz",
        "colab_type": "code",
        "colab": {}
      },
      "source": [
        "train_data = pd.read_csv(DATA_DIR+\"/train.tsv\", delimiter=\"\\t\", header=None, lineterminator='\\n')\n",
        "train_y = train_data[1]\n",
        "train_x = train_embeds\n",
        "train_x0 = np.array([x[0] for x in train_embeds])"
      ],
      "execution_count": 0,
      "outputs": []
    },
    {
      "cell_type": "code",
      "metadata": {
        "id": "lBcwDWOjtTMH",
        "colab_type": "code",
        "colab": {}
      },
      "source": [
        "dev_data = pd.read_csv(DATA_DIR+\"/dev.tsv\", delimiter=\"\\t\", header=None, lineterminator='\\n')\n",
        "dev_y = dev_data[1]\n",
        "dev_x = dev_embeds\n",
        "dev_x0 = np.array([x[0] for x in dev_embeds])"
      ],
      "execution_count": 0,
      "outputs": []
    },
    {
      "cell_type": "code",
      "metadata": {
        "id": "UDoe0t24ujui",
        "colab_type": "code",
        "colab": {}
      },
      "source": [
        "#combine train and dev sets\n",
        "train_dev_y = np.append(train_data[1], dev_data[1])\n",
        "train_dev_x = np.append(train_x, dev_x, axis=0)\n",
        "train_dev_x0 = np.append(train_x0, dev_x0, axis=0)"
      ],
      "execution_count": 0,
      "outputs": []
    },
    {
      "cell_type": "code",
      "metadata": {
        "id": "dT8SvPTfwW1L",
        "colab_type": "code",
        "outputId": "c495debf-174d-45de-aa74-4ed71a5ce437",
        "colab": {
          "base_uri": "https://localhost:8080/",
          "height": 102
        }
      },
      "source": [
        "#training data shapes\n",
        "print(f\"shape of y: {train_dev_y.shape}\")\n",
        "print(f\"shape of x (cls token embedding): {train_dev_x0.shape}\")\n",
        "print(f\"shape of x (embeddings): {train_dev_x.shape}\")\n",
        "print(f\"shape of embeddings of first example: {train_dev_x[0].shape}\")\n",
        "print(f\"shape of embeddings of second example: {train_dev_x[1].shape}\")"
      ],
      "execution_count": 17,
      "outputs": [
        {
          "output_type": "stream",
          "text": [
            "shape of y: (1669,)\n",
            "shape of x (cls token embedding): (1669, 768)\n",
            "shape of x (embeddings): (1669,)\n",
            "shape of embeddings of first example: (53, 768)\n",
            "shape of embeddings of second example: (29, 768)\n"
          ],
          "name": "stdout"
        }
      ]
    },
    {
      "cell_type": "code",
      "metadata": {
        "id": "nTHM3wk--ACU",
        "colab_type": "code",
        "colab": {}
      },
      "source": [
        "test_data = pd.read_csv(DATA_DIR+\"/test.tsv\", delimiter=\"\\t\", header=None, lineterminator='\\n')\n",
        "test_y = test_data[1]\n",
        "test_x = np.array(test_embeds)\n",
        "test_x0 = np.array([x[0] for x in test_embeds])"
      ],
      "execution_count": 0,
      "outputs": []
    },
    {
      "cell_type": "code",
      "metadata": {
        "id": "VRn31FVjxFL-",
        "colab_type": "code",
        "outputId": "3138d51b-7d6e-41b0-cc7e-2af1173552e2",
        "colab": {
          "base_uri": "https://localhost:8080/",
          "height": 102
        }
      },
      "source": [
        "#test data shapes\n",
        "print(f\"shape of y: {test_y.shape}\")\n",
        "print(f\"shape of x (cls token embedding: {test_x0.shape}\")\n",
        "print(f\"shape of x (embeddings): {test_x.shape}\")\n",
        "print(f\"shape of embeddings of first example: {test_x[0].shape}\")\n",
        "print(f\"shape of embeddings of second example: {test_x[1].shape}\")"
      ],
      "execution_count": 19,
      "outputs": [
        {
          "output_type": "stream",
          "text": [
            "shape of y: (834,)\n",
            "shape of x (cls token embedding: (834, 768)\n",
            "shape of x (embeddings): (834,)\n",
            "shape of embeddings of first example: (30, 768)\n",
            "shape of embeddings of second example: (33, 768)\n"
          ],
          "name": "stdout"
        }
      ]
    },
    {
      "cell_type": "markdown",
      "metadata": {
        "id": "9pMpiz360iGz",
        "colab_type": "text"
      },
      "source": [
        "### Front pad embeddings to max token length"
      ]
    },
    {
      "cell_type": "code",
      "metadata": {
        "id": "1G5KwcUa98Mt",
        "colab_type": "code",
        "outputId": "4d0b3fdd-c06b-4bbe-b073-5e0dd9448f3b",
        "colab": {
          "base_uri": "https://localhost:8080/",
          "height": 316
        }
      },
      "source": [
        "train_token_len = [len(x) for x in train_tokens]\n",
        "train_token_len.extend([len(x) for x in dev_tokens])\n",
        "plt.hist(train_token_len)\n",
        "plt.xlabel(\"number of tokens\")\n",
        "plt.ylabel(\"frequency\")\n",
        "print(f\"95 percentile of token lengths for training data: {np.percentile(train_token_len, 95)}\")\n",
        "print(f\"max token length for training data: {np.max(train_token_len)}\")"
      ],
      "execution_count": 29,
      "outputs": [
        {
          "output_type": "stream",
          "text": [
            "95 percentile of token lengths for training data: 49.0\n",
            "max token length for training data: 102\n"
          ],
          "name": "stdout"
        },
        {
          "output_type": "display_data",
          "data": {
            "image/png": "[encoded data removed]",
            "text/plain": [
              "<Figure size 432x288 with 1 Axes>"
            ]
          },
          "metadata": {
            "tags": []
          }
        }
      ]
    },
    {
      "cell_type": "code",
      "metadata": {
        "id": "AsUSygUX982B",
        "colab_type": "code",
        "outputId": "9541c43c-ef11-4a9f-b5d1-ac094ac05afe",
        "colab": {
          "base_uri": "https://localhost:8080/",
          "height": 313
        }
      },
      "source": [
        "test_token_len = [len(x) for x in test_tokens]\n",
        "plt.hist(test_token_len)\n",
        "plt.xlabel(\"number of tokens\")\n",
        "plt.ylabel(\"frequency\")\n",
        "print(f\"95 percentile of token lengths for test data: {np.percentile(test_token_len, 95)}\")\n",
        "print(f\"max token length for test data: {np.max(test_token_len)}\")"
      ],
      "execution_count": 30,
      "outputs": [
        {
          "output_type": "stream",
          "text": [
            "95 percentile of token lengths for test data: 50.0\n",
            "max token length for test data: 77\n"
          ],
          "name": "stdout"
        },
        {
          "output_type": "display_data",
          "data": {
            "image/png": "[encoded data removed]",
            "text/plain": [
              "<Figure size 432x288 with 1 Axes>"
            ]
          },
          "metadata": {
            "tags": []
          }
        }
      ]
    },
    {
      "cell_type": "code",
      "metadata": {
        "id": "ujx_9tRSyqWE",
        "colab_type": "code",
        "colab": {}
      },
      "source": [
        "def pad_embeddings(example, max_len):\n",
        "  example_len = example.shape[0]\n",
        "  padding = np.zeros((max_len-example_len,768))\n",
        "  example_padding = np.append(padding, example, axis =0)\n",
        "  return (example_padding)"
      ],
      "execution_count": 0,
      "outputs": []
    },
    {
      "cell_type": "code",
      "metadata": {
        "id": "mOOHApXCzSdU",
        "colab_type": "code",
        "colab": {}
      },
      "source": [
        "max_len = 102\n",
        "train_dev_x_pad = np.array([pad_embeddings(x, max_len) for x in train_dev_x])"
      ],
      "execution_count": 0,
      "outputs": []
    },
    {
      "cell_type": "code",
      "metadata": {
        "id": "cxRtqEVa50xg",
        "colab_type": "code",
        "colab": {}
      },
      "source": [
        "test_x_pad = np.array([pad_embeddings(x, max_len) for x in test_x])"
      ],
      "execution_count": 0,
      "outputs": []
    },
    {
      "cell_type": "code",
      "metadata": {
        "id": "59pU3Kwzy43l",
        "colab_type": "code",
        "outputId": "322efc5e-75de-4945-f19c-7838acb453cc",
        "colab": {
          "base_uri": "https://localhost:8080/",
          "height": 34
        }
      },
      "source": [
        "train_dev_x_pad.shape"
      ],
      "execution_count": 24,
      "outputs": [
        {
          "output_type": "execute_result",
          "data": {
            "text/plain": [
              "(1669, 102, 768)"
            ]
          },
          "metadata": {
            "tags": []
          },
          "execution_count": 24
        }
      ]
    },
    {
      "cell_type": "code",
      "metadata": {
        "id": "25R4oxkp55Ra",
        "colab_type": "code",
        "outputId": "624408ac-36e6-4439-d2b8-2a45eb98f96c",
        "colab": {
          "base_uri": "https://localhost:8080/",
          "height": 34
        }
      },
      "source": [
        "test_x_pad.shape"
      ],
      "execution_count": 25,
      "outputs": [
        {
          "output_type": "execute_result",
          "data": {
            "text/plain": [
              "(834, 102, 768)"
            ]
          },
          "metadata": {
            "tags": []
          },
          "execution_count": 25
        }
      ]
    },
    {
      "cell_type": "markdown",
      "metadata": {
        "id": "S0eT2VrW0TKI",
        "colab_type": "text"
      },
      "source": [
        "### CNN with BERT extracted features"
      ]
    },
    {
      "cell_type": "code",
      "metadata": {
        "id": "_qWClwoe9GzG",
        "colab_type": "code",
        "outputId": "2675d5a0-3b54-4164-cc26-061727cbe993",
        "colab": {
          "base_uri": "https://localhost:8080/",
          "height": 1000
        }
      },
      "source": [
        "#CNN\n",
        "embed_dim = 5\n",
        "num_filters = [10, 10, 10, 10]\n",
        "kernel_sizes = [5, 10, 15, 20]\n",
        "dense_layer_dims = []\n",
        "dropout_rate = 0.8\n",
        "\n",
        "input_layer = tf.keras.layers.Input(shape=(102,768), name=\"input\")\n",
        "\n",
        "conv_layers_for_all_kernel_sizes = []\n",
        "for kernel_size, filters in zip(kernel_sizes, num_filters):\n",
        "    conv_layer = keras.layers.Conv1D(filters=filters, kernel_size=kernel_size, activation='relu')(input_layer)\n",
        "    conv_layer = keras.layers.GlobalMaxPooling1D()(conv_layer)\n",
        "    conv_layers_for_all_kernel_sizes.append(conv_layer)\n",
        "\n",
        "# Concat the feature maps from each different size.\n",
        "layer = keras.layers.concatenate(conv_layers_for_all_kernel_sizes, axis=1)\n",
        "\n",
        "#layer = keras.layers.Dropout(rate=dropout_rate, name='dropout')(layer)\n",
        "\n",
        "for dim in dense_layer_dims:  \n",
        "  layer = keras.layers.Dense(dim, activation='relu')(layer)\n",
        "\n",
        "classification_output = keras.layers.Dense(1, activation='sigmoid', name='sigmoid')(layer)\n",
        "\n",
        "cnn_model = keras.Model(input_layer, classification_output)\n",
        "cnn_model.compile(optimizer='adam',loss='binary_crossentropy',metrics=['accuracy'])\n",
        "\n",
        "cnn_model.reset_states()\n",
        "cnn_model.fit(train_dev_x_pad, train_dev_y, validation_data=[test_x_pad, test_y], epochs=10)\n",
        "cnn_model.summary()"
      ],
      "execution_count": 36,
      "outputs": [
        {
          "output_type": "stream",
          "text": [
            "WARNING:tensorflow:From /tensorflow-1.15.2/python3.6/tensorflow_core/python/ops/resource_variable_ops.py:1630: calling BaseResourceVariable.__init__ (from tensorflow.python.ops.resource_variable_ops) with constraint is deprecated and will be removed in a future version.\n",
            "Instructions for updating:\n",
            "If using Keras pass *_constraint arguments to layers.\n",
            "WARNING:tensorflow:From /tensorflow-1.15.2/python3.6/tensorflow_core/python/ops/nn_impl.py:183: where (from tensorflow.python.ops.array_ops) is deprecated and will be removed in a future version.\n",
            "Instructions for updating:\n",
            "Use tf.where in 2.0, which has the same broadcast rule as np.where\n",
            "Train on 1669 samples, validate on 834 samples\n",
            "Epoch 1/10\n",
            "1669/1669 [==============================] - 7s 4ms/sample - loss: 0.2475 - acc: 0.9185 - val_loss: 0.2056 - val_acc: 0.9077\n",
            "Epoch 2/10\n",
            "1669/1669 [==============================] - 1s 758us/sample - loss: 0.1158 - acc: 0.9551 - val_loss: 0.1408 - val_acc: 0.9424\n",
            "Epoch 3/10\n",
            "1669/1669 [==============================] - 1s 750us/sample - loss: 0.0628 - acc: 0.9808 - val_loss: 0.1319 - val_acc: 0.9508\n",
            "Epoch 4/10\n",
            "1669/1669 [==============================] - 1s 752us/sample - loss: 0.0293 - acc: 0.9940 - val_loss: 0.0779 - val_acc: 0.9700\n",
            "Epoch 5/10\n",
            "1669/1669 [==============================] - 1s 745us/sample - loss: 0.0119 - acc: 0.9994 - val_loss: 0.0524 - val_acc: 0.9856\n",
            "Epoch 6/10\n",
            "1669/1669 [==============================] - 1s 753us/sample - loss: 0.0078 - acc: 1.0000 - val_loss: 0.0501 - val_acc: 0.9856\n",
            "Epoch 7/10\n",
            "1669/1669 [==============================] - 1s 741us/sample - loss: 0.0044 - acc: 1.0000 - val_loss: 0.0527 - val_acc: 0.9844\n",
            "Epoch 8/10\n",
            "1669/1669 [==============================] - 1s 752us/sample - loss: 0.0033 - acc: 1.0000 - val_loss: 0.0452 - val_acc: 0.9892\n",
            "Epoch 9/10\n",
            "1669/1669 [==============================] - 1s 773us/sample - loss: 0.0024 - acc: 1.0000 - val_loss: 0.0476 - val_acc: 0.9856\n",
            "Epoch 10/10\n",
            "1669/1669 [==============================] - 1s 753us/sample - loss: 0.0020 - acc: 1.0000 - val_loss: 0.0401 - val_acc: 0.9892\n",
            "Model: \"model\"\n",
            "__________________________________________________________________________________________________\n",
            "Layer (type)                    Output Shape         Param #     Connected to                     \n",
            "==================================================================================================\n",
            "input (InputLayer)              [(None, 102, 768)]   0                                            \n",
            "__________________________________________________________________________________________________\n",
            "conv1d (Conv1D)                 (None, 98, 10)       38410       input[0][0]                      \n",
            "__________________________________________________________________________________________________\n",
            "conv1d_1 (Conv1D)               (None, 93, 10)       76810       input[0][0]                      \n",
            "__________________________________________________________________________________________________\n",
            "conv1d_2 (Conv1D)               (None, 88, 10)       115210      input[0][0]                      \n",
            "__________________________________________________________________________________________________\n",
            "conv1d_3 (Conv1D)               (None, 83, 10)       153610      input[0][0]                      \n",
            "__________________________________________________________________________________________________\n",
            "global_max_pooling1d (GlobalMax (None, 10)           0           conv1d[0][0]                     \n",
            "__________________________________________________________________________________________________\n",
            "global_max_pooling1d_1 (GlobalM (None, 10)           0           conv1d_1[0][0]                   \n",
            "__________________________________________________________________________________________________\n",
            "global_max_pooling1d_2 (GlobalM (None, 10)           0           conv1d_2[0][0]                   \n",
            "__________________________________________________________________________________________________\n",
            "global_max_pooling1d_3 (GlobalM (None, 10)           0           conv1d_3[0][0]                   \n",
            "__________________________________________________________________________________________________\n",
            "concatenate (Concatenate)       (None, 40)           0           global_max_pooling1d[0][0]       \n",
            "                                                                 global_max_pooling1d_1[0][0]     \n",
            "                                                                 global_max_pooling1d_2[0][0]     \n",
            "                                                                 global_max_pooling1d_3[0][0]     \n",
            "__________________________________________________________________________________________________\n",
            "sigmoid (Dense)                 (None, 1)            41          concatenate[0][0]                \n",
            "==================================================================================================\n",
            "Total params: 384,081\n",
            "Trainable params: 384,081\n",
            "Non-trainable params: 0\n",
            "__________________________________________________________________________________________________\n"
          ],
          "name": "stdout"
        }
      ]
    },
    {
      "cell_type": "code",
      "metadata": {
        "id": "b3Ui_eKHDxeJ",
        "colab_type": "code",
        "outputId": "5dfc80bb-6b1e-4d5f-857e-b5131d21b4f5",
        "colab": {
          "base_uri": "https://localhost:8080/",
          "height": 51
        }
      },
      "source": [
        "#test performance\n",
        "test_prob = cnn_model.predict(test_x_pad)\n",
        "test_pred = np.where(test_prob >=0.5, 1, 0)\n",
        "print(f\"accuracy: {np.round(accuracy_score(test_pred, test_y),3)}\")\n",
        "print(f\"f1-score: {np.round(f1_score(test_pred, test_y),3)}\")"
      ],
      "execution_count": 37,
      "outputs": [
        {
          "output_type": "stream",
          "text": [
            "accuracy: 0.989\n",
            "f1-score: 0.951\n"
          ],
          "name": "stdout"
        }
      ]
    },
    {
      "cell_type": "code",
      "metadata": {
        "id": "2tjsaEs2D1jX",
        "colab_type": "code",
        "outputId": "79d423bf-cc15-4413-d956-9490d101ed85",
        "colab": {
          "base_uri": "https://localhost:8080/",
          "height": 111
        }
      },
      "source": [
        "cm = confusion_matrix(test_pred, test_y)\n",
        "pd.DataFrame((cm/cm.sum())*100, columns=[\"pred neg\",\"pred pos\"], index=[\"true neg\",\"true pos\"]).round(2).astype(str).add('%')"
      ],
      "execution_count": 38,
      "outputs": [
        {
          "output_type": "execute_result",
          "data": {
            "text/html": [
              "<div>\n",
              "<style scoped>\n",
              "    .dataframe tbody tr th:only-of-type {\n",
              "        vertical-align: middle;\n",
              "    }\n",
              "\n",
              "    .dataframe tbody tr th {\n",
              "        vertical-align: top;\n",
              "    }\n",
              "\n",
              "    .dataframe thead th {\n",
              "        text-align: right;\n",
              "    }\n",
              "</style>\n",
              "<table border=\"1\" class=\"dataframe\">\n",
              "  <thead>\n",
              "    <tr style=\"text-align: right;\">\n",
              "      <th></th>\n",
              "      <th>pred neg</th>\n",
              "      <th>pred pos</th>\n",
              "    </tr>\n",
              "  </thead>\n",
              "  <tbody>\n",
              "    <tr>\n",
              "      <th>true neg</th>\n",
              "      <td>88.49%</td>\n",
              "      <td>0.6%</td>\n",
              "    </tr>\n",
              "    <tr>\n",
              "      <th>true pos</th>\n",
              "      <td>0.48%</td>\n",
              "      <td>10.43%</td>\n",
              "    </tr>\n",
              "  </tbody>\n",
              "</table>\n",
              "</div>"
            ],
            "text/plain": [
              "         pred neg pred pos\n",
              "true neg   88.49%     0.6%\n",
              "true pos    0.48%   10.43%"
            ]
          },
          "metadata": {
            "tags": []
          },
          "execution_count": 38
        }
      ]
    },
    {
      "cell_type": "markdown",
      "metadata": {
        "id": "H8jaLU8P0y0W",
        "colab_type": "text"
      },
      "source": [
        "### LSTM with BERT extracted features"
      ]
    },
    {
      "cell_type": "code",
      "metadata": {
        "id": "xZfTVRgm-CUJ",
        "colab_type": "code",
        "outputId": "5e387521-53b8-4aa2-9116-35b073a306c2",
        "colab": {
          "base_uri": "https://localhost:8080/",
          "height": 612
        }
      },
      "source": [
        "#LSTM\n",
        "input_layer = tf.keras.layers.Input(shape=(102,768), name=\"input\")\n",
        "lstm_output = LSTM(100, input_shape=(768,102,), name=\"lstm\")(input_layer)\n",
        "classification_output = Dense(1, activation=\"sigmoid\", name=\"sigmoid\")(lstm_output)\n",
        "\n",
        "lstm_model = Model(input_layer, classification_output)\n",
        "lstm_model.compile(loss='binary_crossentropy', optimizer='adam', metrics=['accuracy'])\n",
        "\n",
        "lstm_model.reset_states()\n",
        "lstm_model.fit(train_dev_x_pad, train_dev_y, epochs=10)\n",
        "lstm_model.summary()"
      ],
      "execution_count": 27,
      "outputs": [
        {
          "output_type": "stream",
          "text": [
            "Train on 1669 samples\n",
            "Epoch 1/10\n",
            "1669/1669 [==============================] - 7s 4ms/sample - loss: 0.1471 - acc: 0.9413\n",
            "Epoch 2/10\n",
            "1669/1669 [==============================] - 7s 4ms/sample - loss: 0.0264 - acc: 0.9940\n",
            "Epoch 3/10\n",
            "1669/1669 [==============================] - 7s 4ms/sample - loss: 0.0038 - acc: 0.9994\n",
            "Epoch 4/10\n",
            "1669/1669 [==============================] - 7s 4ms/sample - loss: 0.0013 - acc: 1.0000\n",
            "Epoch 5/10\n",
            "1669/1669 [==============================] - 7s 4ms/sample - loss: 7.5997e-04 - acc: 1.0000\n",
            "Epoch 6/10\n",
            "1669/1669 [==============================] - 7s 4ms/sample - loss: 5.3446e-04 - acc: 1.0000\n",
            "Epoch 7/10\n",
            "1669/1669 [==============================] - 7s 4ms/sample - loss: 3.9911e-04 - acc: 1.0000\n",
            "Epoch 8/10\n",
            "1669/1669 [==============================] - 7s 4ms/sample - loss: 3.1224e-04 - acc: 1.0000\n",
            "Epoch 9/10\n",
            "1669/1669 [==============================] - 7s 4ms/sample - loss: 2.5616e-04 - acc: 1.0000\n",
            "Epoch 10/10\n",
            "1669/1669 [==============================] - 7s 4ms/sample - loss: 2.1201e-04 - acc: 1.0000\n",
            "Model: \"model_2\"\n",
            "_________________________________________________________________\n",
            "Layer (type)                 Output Shape              Param #   \n",
            "=================================================================\n",
            "input (InputLayer)           [(None, 102, 768)]        0         \n",
            "_________________________________________________________________\n",
            "lstm (LSTM)                  (None, 100)               347600    \n",
            "_________________________________________________________________\n",
            "sigmoid (Dense)              (None, 1)                 101       \n",
            "=================================================================\n",
            "Total params: 347,701\n",
            "Trainable params: 347,701\n",
            "Non-trainable params: 0\n",
            "_________________________________________________________________\n"
          ],
          "name": "stdout"
        }
      ]
    },
    {
      "cell_type": "code",
      "metadata": {
        "id": "8tXl0r2d8Qvw",
        "colab_type": "code",
        "outputId": "840de69e-f79a-4352-893d-2bc6618027d8",
        "colab": {
          "base_uri": "https://localhost:8080/",
          "height": 51
        }
      },
      "source": [
        "test_prob = lstm_model.predict(test_x_pad)\n",
        "test_pred = np.where(test_prob >=0.5, 1, 0)\n",
        "test_pred = pd.Series(test_pred.flatten())\n",
        "print(f\"accuracy: {np.round(accuracy_score(test_pred, test_y),3)}\")\n",
        "print(f\"f1-score: {np.round(f1_score(test_pred, test_y),3)}\")"
      ],
      "execution_count": 41,
      "outputs": [
        {
          "output_type": "stream",
          "text": [
            "accuracy: 0.999\n",
            "f1-score: 0.995\n"
          ],
          "name": "stdout"
        }
      ]
    },
    {
      "cell_type": "code",
      "metadata": {
        "id": "KtgmtlbE9yHG",
        "colab_type": "code",
        "outputId": "b76a44b1-8890-448d-b2e4-21be46c90563",
        "colab": {
          "base_uri": "https://localhost:8080/",
          "height": 111
        }
      },
      "source": [
        "cm = confusion_matrix(test_pred, test_y)\n",
        "pd.DataFrame((cm/cm.sum())*100, columns=[\"pred neg\",\"pred pos\"], index=[\"true neg\",\"true pos\"]).round(2).astype(str).add('%')"
      ],
      "execution_count": 29,
      "outputs": [
        {
          "output_type": "execute_result",
          "data": {
            "text/html": [
              "<div>\n",
              "<style scoped>\n",
              "    .dataframe tbody tr th:only-of-type {\n",
              "        vertical-align: middle;\n",
              "    }\n",
              "\n",
              "    .dataframe tbody tr th {\n",
              "        vertical-align: top;\n",
              "    }\n",
              "\n",
              "    .dataframe thead th {\n",
              "        text-align: right;\n",
              "    }\n",
              "</style>\n",
              "<table border=\"1\" class=\"dataframe\">\n",
              "  <thead>\n",
              "    <tr style=\"text-align: right;\">\n",
              "      <th></th>\n",
              "      <th>pred neg</th>\n",
              "      <th>pred pos</th>\n",
              "    </tr>\n",
              "  </thead>\n",
              "  <tbody>\n",
              "    <tr>\n",
              "      <th>true neg</th>\n",
              "      <td>88.97%</td>\n",
              "      <td>0.12%</td>\n",
              "    </tr>\n",
              "    <tr>\n",
              "      <th>true pos</th>\n",
              "      <td>0.0%</td>\n",
              "      <td>10.91%</td>\n",
              "    </tr>\n",
              "  </tbody>\n",
              "</table>\n",
              "</div>"
            ],
            "text/plain": [
              "         pred neg pred pos\n",
              "true neg   88.97%    0.12%\n",
              "true pos     0.0%   10.91%"
            ]
          },
          "metadata": {
            "tags": []
          },
          "execution_count": 29
        }
      ]
    },
    {
      "cell_type": "markdown",
      "metadata": {
        "id": "rprn2EAG1FrF",
        "colab_type": "text"
      },
      "source": [
        "Error analysis"
      ]
    },
    {
      "cell_type": "code",
      "metadata": {
        "id": "ouupUX5_Xg07",
        "colab_type": "code",
        "colab": {
          "base_uri": "https://localhost:8080/",
          "height": 80
        },
        "outputId": "aff0759b-8d85-4091-b139-89e0d1b18f12"
      },
      "source": [
        "results = pd.concat([test_y,test_pred], axis=1)\n",
        "results.columns = [\"test_y\", \"test_pred\"]\n",
        "results[results[\"test_y\"]!=results[\"test_pred\"]]"
      ],
      "execution_count": 45,
      "outputs": [
        {
          "output_type": "execute_result",
          "data": {
            "text/html": [
              "<div>\n",
              "<style scoped>\n",
              "    .dataframe tbody tr th:only-of-type {\n",
              "        vertical-align: middle;\n",
              "    }\n",
              "\n",
              "    .dataframe tbody tr th {\n",
              "        vertical-align: top;\n",
              "    }\n",
              "\n",
              "    .dataframe thead th {\n",
              "        text-align: right;\n",
              "    }\n",
              "</style>\n",
              "<table border=\"1\" class=\"dataframe\">\n",
              "  <thead>\n",
              "    <tr style=\"text-align: right;\">\n",
              "      <th></th>\n",
              "      <th>test_y</th>\n",
              "      <th>test_pred</th>\n",
              "    </tr>\n",
              "  </thead>\n",
              "  <tbody>\n",
              "    <tr>\n",
              "      <th>826</th>\n",
              "      <td>1</td>\n",
              "      <td>0</td>\n",
              "    </tr>\n",
              "  </tbody>\n",
              "</table>\n",
              "</div>"
            ],
            "text/plain": [
              "     test_y  test_pred\n",
              "826       1          0"
            ]
          },
          "metadata": {
            "tags": []
          },
          "execution_count": 45
        }
      ]
    },
    {
      "cell_type": "code",
      "metadata": {
        "id": "lwptq2o8YXVC",
        "colab_type": "code",
        "colab": {
          "base_uri": "https://localhost:8080/",
          "height": 54
        },
        "outputId": "fcb6c63d-0d8c-4a7b-bf12-f94e85703483"
      },
      "source": [
        "test_data[0][826]"
      ],
      "execution_count": 48,
      "outputs": [
        {
          "output_type": "execute_result",
          "data": {
            "text/plain": [
              "\"@sapphire20 to it, and now I'm on Humira with just the bloat to battle. Things sometimes get super shitty in every sense. But stay strong xx\""
            ]
          },
          "metadata": {
            "tags": []
          },
          "execution_count": 48
        }
      ]
    },
    {
      "cell_type": "markdown",
      "metadata": {
        "id": "VLTFtSdA07Nz",
        "colab_type": "text"
      },
      "source": [
        "### Logistic Regression with BERT extracted features for CLS token"
      ]
    },
    {
      "cell_type": "code",
      "metadata": {
        "id": "HX_PKM0OQX76",
        "colab_type": "code",
        "outputId": "1654d0ad-7f19-4ab4-cbc1-7b54e2110927",
        "colab": {
          "base_uri": "https://localhost:8080/",
          "height": 34
        }
      },
      "source": [
        "#logistic regression\n",
        "param_grid = {\"C\": np.linspace(0.0001, 100, 30),\n",
        "              \"penalty\": [\"l1\", \"l2\", \"elasticnet\"],\n",
        "              \"class_weight\": [\"balanced\", None]}\n",
        "lr = LogisticRegression(random_state=0)\n",
        "search = GridSearchCV(lr, param_grid, cv=3, scoring='f1')\n",
        "search.fit(train_dev_x0, train_dev_y)\n",
        "search.best_params_"
      ],
      "execution_count": 42,
      "outputs": [
        {
          "output_type": "execute_result",
          "data": {
            "text/plain": [
              "{'C': 58.62073103448276, 'class_weight': 'balanced', 'penalty': 'l2'}"
            ]
          },
          "metadata": {
            "tags": []
          },
          "execution_count": 42
        }
      ]
    },
    {
      "cell_type": "code",
      "metadata": {
        "id": "rr7SYCLxJQli",
        "colab_type": "code",
        "outputId": "37545dcf-f5dc-42d5-f3c2-e8b4fce78c43",
        "colab": {
          "base_uri": "https://localhost:8080/",
          "height": 51
        }
      },
      "source": [
        "test_pred = search.predict(test_x0)\n",
        "print(f\"accuracy: {np.round(accuracy_score(test_pred, test_y),3)}\")\n",
        "print(f\"f1-score: {np.round(f1_score(test_pred, test_y),3)}\")"
      ],
      "execution_count": 44,
      "outputs": [
        {
          "output_type": "stream",
          "text": [
            "accuracy: 0.95\n",
            "f1-score: 0.786\n"
          ],
          "name": "stdout"
        }
      ]
    },
    {
      "cell_type": "code",
      "metadata": {
        "id": "ZlR0EO75KDze",
        "colab_type": "code",
        "outputId": "1a70eacf-0aec-4e00-8809-0486a63ddc3c",
        "colab": {
          "base_uri": "https://localhost:8080/",
          "height": 111
        }
      },
      "source": [
        "cm = confusion_matrix(test_pred, test_y)\n",
        "pd.DataFrame((cm/cm.sum())*100, columns=[\"pred neg\",\"pred pos\"], index=[\"true neg\",\"true pos\"]).round(2).astype(str).add('%')"
      ],
      "execution_count": 45,
      "outputs": [
        {
          "output_type": "execute_result",
          "data": {
            "text/html": [
              "<div>\n",
              "<style scoped>\n",
              "    .dataframe tbody tr th:only-of-type {\n",
              "        vertical-align: middle;\n",
              "    }\n",
              "\n",
              "    .dataframe tbody tr th {\n",
              "        vertical-align: top;\n",
              "    }\n",
              "\n",
              "    .dataframe thead th {\n",
              "        text-align: right;\n",
              "    }\n",
              "</style>\n",
              "<table border=\"1\" class=\"dataframe\">\n",
              "  <thead>\n",
              "    <tr style=\"text-align: right;\">\n",
              "      <th></th>\n",
              "      <th>pred neg</th>\n",
              "      <th>pred pos</th>\n",
              "    </tr>\n",
              "  </thead>\n",
              "  <tbody>\n",
              "    <tr>\n",
              "      <th>true neg</th>\n",
              "      <td>85.73%</td>\n",
              "      <td>1.8%</td>\n",
              "    </tr>\n",
              "    <tr>\n",
              "      <th>true pos</th>\n",
              "      <td>3.24%</td>\n",
              "      <td>9.23%</td>\n",
              "    </tr>\n",
              "  </tbody>\n",
              "</table>\n",
              "</div>"
            ],
            "text/plain": [
              "         pred neg pred pos\n",
              "true neg   85.73%     1.8%\n",
              "true pos    3.24%    9.23%"
            ]
          },
          "metadata": {
            "tags": []
          },
          "execution_count": 45
        }
      ]
    }
  ]
}